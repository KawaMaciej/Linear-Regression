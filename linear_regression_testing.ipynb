{
 "cells": [
  {
   "cell_type": "code",
   "execution_count": 1,
   "id": "e86ffa10",
   "metadata": {},
   "outputs": [],
   "source": [
    "import numpy as np\n",
    "from models.linear import LinearRegression\n",
    "from models.logistic import LogisticRegression\n",
    "from metrics.classification_metrics import *"
   ]
  },
  {
   "cell_type": "code",
   "execution_count": 2,
   "id": "1b2636c1",
   "metadata": {},
   "outputs": [],
   "source": [
    "n_samples = 500\n",
    "np.random.seed(42)\n",
    "\n",
    "classes = [\"A\", \"B\", \"C\", \"D\"]\n",
    "\n",
    "random_classes = np.random.choice(classes, size=n_samples)\n",
    "\n",
    "\n",
    "class_to_int = {label: idx for idx, label in enumerate(classes)}\n",
    "random_classes_int = np.vectorize(class_to_int.get)(random_classes)"
   ]
  },
  {
   "cell_type": "code",
   "execution_count": 3,
   "id": "cf74d7bc",
   "metadata": {},
   "outputs": [],
   "source": [
    "X = np.random.normal(2, 2, n_samples)\n",
    "Z = np.random.normal(9, 1, n_samples) \n",
    "P = np.random.beta(1, 2, n_samples)\n",
    "\n",
    "Y = 2*X +  np.random.normal(0, 0.5, n_samples) + P + Z + random_classes_int * X \n",
    "\n",
    "X= np.column_stack((X,X**2, Z + X, X * P, P, random_classes_int))"
   ]
  },
  {
   "cell_type": "code",
   "execution_count": 4,
   "id": "4a214669",
   "metadata": {},
   "outputs": [],
   "source": [
    "reg = LinearRegression(regularization=\"None\").fit(X,Y)\n",
    "ridge = LinearRegression(regularization=\"Ridge\").fit(X,Y)\n",
    "lasso = LinearRegression(regularization=\"Lasso\", n_iter = 10000, lr=0.001).fit(X,Y)\n",
    "elastic = LinearRegression(regularization=\"ElasticNet\", n_iter = 10000, lr=0.001, alpha=0.4).fit(X,Y)"
   ]
  },
  {
   "cell_type": "code",
   "execution_count": 5,
   "id": "8738d918",
   "metadata": {},
   "outputs": [
    {
     "name": "stdout",
     "output_type": "stream",
     "text": [
      "╒══════════╤═════════╕\n",
      "│ Metric   │   Value │\n",
      "╞══════════╪═════════╡\n",
      "│ MAE      │  1.9092 │\n",
      "├──────────┼─────────┤\n",
      "│ RMSE     │  2.753  │\n",
      "├──────────┼─────────┤\n",
      "│ MSE      │  7.5791 │\n",
      "╘══════════╧═════════╛\n",
      "╒══════════╤═════════╕\n",
      "│ Metric   │   Value │\n",
      "╞══════════╪═════════╡\n",
      "│ MAE      │  1.7339 │\n",
      "├──────────┼─────────┤\n",
      "│ RMSE     │  2.4169 │\n",
      "├──────────┼─────────┤\n",
      "│ MSE      │  5.8413 │\n",
      "╘══════════╧═════════╛\n",
      "╒══════════╤═════════╕\n",
      "│ Metric   │   Value │\n",
      "╞══════════╪═════════╡\n",
      "│ MAE      │  1.721  │\n",
      "├──────────┼─────────┤\n",
      "│ RMSE     │  2.3877 │\n",
      "├──────────┼─────────┤\n",
      "│ MSE      │  5.7009 │\n",
      "╘══════════╧═════════╛\n"
     ]
    },
    {
     "data": {
      "text/plain": [
       "(Array(0.87876916, dtype=float32),\n",
       " Array(0.90656686, dtype=float32),\n",
       " np.float64(0.9088114287261543))"
      ]
     },
     "execution_count": 5,
     "metadata": {},
     "output_type": "execute_result"
    }
   ],
   "source": [
    "elastic_pred = elastic.predict(X)\n",
    "elastic.print_errors(Y, elastic_pred), lasso.print_errors(Y, lasso.predict(X)), ridge.print_errors(Y, ridge.predict(X))\n",
    "elastic.score(X, Y), lasso.score(X, Y), ridge.score(X, Y)"
   ]
  },
  {
   "cell_type": "code",
   "execution_count": 6,
   "id": "e2561b93",
   "metadata": {},
   "outputs": [],
   "source": [
    "#elastic.do_all(X, Y)"
   ]
  },
  {
   "cell_type": "code",
   "execution_count": 7,
   "id": "a3fdbda3",
   "metadata": {},
   "outputs": [],
   "source": [
    "#reg.Cooks_distance(X,Y)"
   ]
  },
  {
   "cell_type": "code",
   "execution_count": 8,
   "id": "8439a82c",
   "metadata": {},
   "outputs": [],
   "source": [
    "classes = [\"A\", \"B\"]\n",
    "n_samples = 1500\n",
    "\n",
    "random_classes = np.random.choice(classes, size=n_samples)\n",
    "\n",
    "\n",
    "class_to_int = {label: idx for idx, label in enumerate(classes)}\n",
    "random_classes_int = np.vectorize(class_to_int.get)(random_classes)\n",
    "\n",
    "X = np.random.normal(2, 2, n_samples)\n",
    "Z = np.random.normal(9, 1, n_samples) \n",
    "P = np.random.beta(1, 2, n_samples)\n",
    "\n",
    "\n",
    "X= np.column_stack((X, Z))\n",
    "\n",
    "Y = random_classes_int\n"
   ]
  },
  {
   "cell_type": "code",
   "execution_count": 9,
   "id": "5bfbbf47",
   "metadata": {},
   "outputs": [],
   "source": [
    "import pandas as pd\n",
    "\n",
    "#X = pd.DataFrame(X, columns=[\"1\",\"2\",\"3\",\"4\",\"5\"])"
   ]
  },
  {
   "cell_type": "code",
   "execution_count": 10,
   "id": "8a0ce156",
   "metadata": {},
   "outputs": [
    {
     "data": {
      "text/plain": [
       "<models.logistic.LogisticRegression at 0x17845a882f0>"
      ]
     },
     "execution_count": 10,
     "metadata": {},
     "output_type": "execute_result"
    }
   ],
   "source": [
    "log = LogisticRegression(X.shape[1], len(classes), regularization=\"None\")\n",
    "log.fit(X, Y)"
   ]
  },
  {
   "cell_type": "code",
   "execution_count": 11,
   "id": "6a111b8a",
   "metadata": {},
   "outputs": [
    {
     "data": {
      "text/plain": [
       "array([0, 1, 1, ..., 0, 0, 1], shape=(1500,))"
      ]
     },
     "execution_count": 11,
     "metadata": {},
     "output_type": "execute_result"
    }
   ],
   "source": [
    "pred = log.predict(X)\n",
    "pred"
   ]
  },
  {
   "cell_type": "code",
   "execution_count": 12,
   "id": "bc2f5b03",
   "metadata": {},
   "outputs": [
    {
     "data": {
      "text/plain": [
       "(array([0.51041667, 0.50943396]),\n",
       " array([0.58565737, 0.43373494]),\n",
       " array([0.54545455, 0.46854664]),\n",
       " array(0.51),\n",
       " array(0.50969616),\n",
       " array([0.50943396, 0.51041667]),\n",
       " array([0.49056604, 0.48958333]))"
      ]
     },
     "execution_count": 12,
     "metadata": {},
     "output_type": "execute_result"
    }
   ],
   "source": [
    "confusion_matrix(Y, pred)\n",
    "precision(Y, pred), recall(Y, pred), f1_stat(Y, pred), accuracy(Y, pred), balanced_accuracy(Y, pred), NPV(Y, pred), FOR(Y, pred)"
   ]
  },
  {
   "cell_type": "code",
   "execution_count": 13,
   "id": "46a74f36",
   "metadata": {},
   "outputs": [],
   "source": [
    "data = []\n",
    "for i in np.unique(Y):\n",
    "    data.append((Y == i).astype(int))"
   ]
  },
  {
   "cell_type": "code",
   "execution_count": 14,
   "id": "5e384cfe",
   "metadata": {},
   "outputs": [
    {
     "data": {
      "text/plain": [
       "[array([0, 1, 1, ..., 0, 0, 1], shape=(1500,)),\n",
       " array([1, 0, 0, ..., 1, 1, 0], shape=(1500,))]"
      ]
     },
     "execution_count": 14,
     "metadata": {},
     "output_type": "execute_result"
    }
   ],
   "source": [
    "data"
   ]
  },
  {
   "cell_type": "code",
   "execution_count": 15,
   "id": "7b6d95f4",
   "metadata": {},
   "outputs": [
    {
     "data": {
      "text/plain": [
       "(array([[753.,   0.],\n",
       "        [747.,   0.]]),\n",
       " array(0.5))"
      ]
     },
     "execution_count": 15,
     "metadata": {},
     "output_type": "execute_result"
    }
   ],
   "source": [
    "from models.onevsall import OVA\n",
    "ova = OVA(LogisticRegression(X.shape[1], len(classes), regularization=\"l1\", n_iter=250))\n",
    "ova.fit(X, Y)\n",
    "pred = ova.predict(X)\n",
    "confusion_matrix(Y, pred=pred), balanced_accuracy(Y, pred)"
   ]
  },
  {
   "cell_type": "code",
   "execution_count": 28,
   "id": "2f8f7d06",
   "metadata": {},
   "outputs": [
    {
     "data": {
      "text/plain": [
       "(array([[500., 253.],\n",
       "        [484., 263.]]),\n",
       " array(0.5080428))"
      ]
     },
     "execution_count": 28,
     "metadata": {},
     "output_type": "execute_result"
    }
   ],
   "source": [
    "from models.onevsone import OVO\n",
    "ovo = OVO(LogisticRegression(X.shape[1], len(classes), regularization=\"l2\", n_iter=250))\n",
    "ovo.fit(X, Y)\n",
    "pred = ovo.predict(X)\n",
    "confusion_matrix(Y, pred=pred), balanced_accuracy(Y, pred)"
   ]
  },
  {
   "cell_type": "code",
   "execution_count": 30,
   "id": "93dfdb32",
   "metadata": {},
   "outputs": [
    {
     "data": {
      "text/plain": [
       "(array([[  0., 753.],\n",
       "        [  0., 747.]]),\n",
       " array(0.5))"
      ]
     },
     "execution_count": 30,
     "metadata": {},
     "output_type": "execute_result"
    }
   ],
   "source": [
    "from models.svm import SVMClassificator\n",
    "\n",
    "svm = SVMClassificator(n_iter=2000, C = 1, lr = 0.2)\n",
    "svm.fit(X, Y)\n",
    "preds = svm.predict(X) \n",
    "confusion_matrix(Y, pred=preds), balanced_accuracy(Y, preds)"
   ]
  },
  {
   "cell_type": "code",
   "execution_count": null,
   "id": "8bb8a838",
   "metadata": {},
   "outputs": [],
   "source": []
  }
 ],
 "metadata": {
  "kernelspec": {
   "display_name": "app",
   "language": "python",
   "name": "python3"
  },
  "language_info": {
   "codemirror_mode": {
    "name": "ipython",
    "version": 3
   },
   "file_extension": ".py",
   "mimetype": "text/x-python",
   "name": "python",
   "nbconvert_exporter": "python",
   "pygments_lexer": "ipython3",
   "version": "3.13.4"
  }
 },
 "nbformat": 4,
 "nbformat_minor": 5
}
