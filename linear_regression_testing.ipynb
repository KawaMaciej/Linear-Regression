{
 "cells": [
  {
   "cell_type": "code",
   "execution_count": 95,
   "id": "e86ffa10",
   "metadata": {},
   "outputs": [],
   "source": [
    "import numpy as np\n",
    "from models.linear import LinearRegression\n",
    "from models.logistic import LogisticRegression\n",
    "from metrics.classification_metrics import *"
   ]
  },
  {
   "cell_type": "code",
   "execution_count": 96,
   "id": "1b2636c1",
   "metadata": {},
   "outputs": [
    {
     "data": {
      "text/plain": [
       "array([2, 0, 2, 2, 0, 0, 2, 1, 2, 2, 2, 2, 0, 2, 1, 0, 1, 1, 1, 1, 0, 0,\n",
       "       1, 1, 0, 0, 0, 2, 2, 2, 1, 2, 1, 1, 2, 1, 2, 2, 0, 2, 0, 2, 2, 0,\n",
       "       0, 2, 1, 0, 1, 1, 1, 0, 1, 0, 1, 2, 2, 0, 2, 2, 1, 0, 1, 1, 1, 1,\n",
       "       1, 1, 1, 0, 2, 1, 1, 1, 1, 1, 1, 2, 2, 1, 2, 0, 1, 0, 0, 1, 2, 0,\n",
       "       1, 0, 0, 0, 0, 2, 0, 0, 0, 2, 0, 0, 2, 2, 2, 0, 2, 2, 0, 2, 0, 1,\n",
       "       2, 1, 0, 2, 0, 1, 0, 2, 2, 1, 0, 2, 1, 2, 2, 0, 2, 0, 2, 1, 2, 0,\n",
       "       0, 1, 2, 2, 1, 2, 2, 0, 2, 2, 1, 1, 0, 2, 2, 2, 0, 0, 1, 0, 2, 2,\n",
       "       0, 2, 2, 0, 0, 2, 2, 2, 1, 1, 1, 0, 1, 0, 0, 1, 1, 1, 2, 1, 2, 0,\n",
       "       2, 1, 0, 0, 0, 2, 1, 0, 0, 0, 2, 2, 1, 2, 0, 1, 0, 0, 2, 1, 2, 2,\n",
       "       1, 0, 0, 1, 0, 1, 1, 2, 1, 2, 0, 0, 0, 0, 2, 0, 1, 1, 1, 2, 0, 0,\n",
       "       0, 2, 1, 1, 0, 1, 1, 2, 2, 2, 2, 0, 2, 1, 0, 1, 1, 1, 2, 2, 0, 0,\n",
       "       2, 1, 0, 2, 2, 2, 1, 2, 2, 2, 2, 0, 0, 2, 1, 0, 2, 0, 0, 1, 2, 2,\n",
       "       1, 1, 2, 2, 1, 0, 0, 1, 0, 1, 0, 0, 2, 2, 0, 0, 2, 2, 2, 1, 0, 2,\n",
       "       0, 1, 1, 2, 1, 0, 2, 0, 0, 1, 1, 1, 1, 1, 2, 0, 0, 0, 0, 1, 0, 2,\n",
       "       2, 0, 0, 2, 2, 1, 2, 1, 1, 1, 1, 1, 0, 2, 1, 2, 2, 1, 0, 1, 0, 2,\n",
       "       0, 0, 0, 2, 2, 0, 0, 1, 0, 1, 0, 1, 2, 0, 0, 0, 0, 1, 0, 2, 2, 0,\n",
       "       2, 0, 0, 2, 0, 2, 1, 0, 1, 2, 1, 1, 2, 1, 1, 2, 1, 2, 1, 2, 2, 1,\n",
       "       1, 1, 0, 0, 0, 2, 1, 2, 0, 1, 2, 1, 2, 1, 0, 0, 1, 2, 0, 0, 0, 1,\n",
       "       1, 2, 2, 2, 1, 1, 2, 2, 1, 2, 0, 1, 2, 1, 0, 1, 1, 1, 1, 0, 1, 1,\n",
       "       2, 1, 2, 0, 0, 0, 0, 2, 1, 0, 1, 2, 2, 2, 0, 1, 1, 1, 2, 0, 2, 2,\n",
       "       1, 2, 1, 0, 1, 0, 1, 2, 2, 0, 0, 0, 1, 1, 0, 2, 1, 1, 1, 0, 0, 0,\n",
       "       0, 0, 2, 2, 0, 1, 0, 2, 2, 1, 2, 0, 1, 0, 0, 1, 0, 2, 0, 1, 1, 1,\n",
       "       0, 1, 1, 0, 2, 0, 1, 1, 0, 2, 1, 1, 1, 0, 1, 2])"
      ]
     },
     "execution_count": 96,
     "metadata": {},
     "output_type": "execute_result"
    }
   ],
   "source": [
    "n_samples = 500\n",
    "np.random.seed(42)\n",
    "\n",
    "classes = [\"A\", \"B\", \"C\"]\n",
    "\n",
    "random_classes = np.random.choice(classes, size=n_samples)\n",
    "\n",
    "\n",
    "class_to_int = {label: idx for idx, label in enumerate(classes)}\n",
    "random_classes_int = np.vectorize(class_to_int.get)(random_classes)\n",
    "random_classes_int"
   ]
  },
  {
   "cell_type": "code",
   "execution_count": 97,
   "id": "cf74d7bc",
   "metadata": {},
   "outputs": [],
   "source": [
    "X = np.random.normal(2, 2, n_samples)\n",
    "Z = np.random.normal(9, 1, n_samples) \n",
    "P = np.random.beta(1, 2, n_samples)\n",
    "\n",
    "Y = 2*X +  np.random.normal(0, 0.5, n_samples) + P + Z + random_classes_int * X \n",
    "\n",
    "X= np.column_stack((X,X**2, Z + X, X * P, P, random_classes_int))"
   ]
  },
  {
   "cell_type": "code",
   "execution_count": 98,
   "id": "4a214669",
   "metadata": {},
   "outputs": [],
   "source": [
    "reg = LinearRegression(regularization=\"None\").fit(X,Y)\n",
    "ridge = LinearRegression(regularization=\"Ridge\").fit(X,Y)\n",
    "lasso = LinearRegression(regularization=\"Lasso\", n_iter = 10000, lr=0.001).fit(X,Y)\n",
    "elastic = LinearRegression(regularization=\"ElasticNet\", n_iter = 10000, lr=0.001, alpha=0.4).fit(X,Y)"
   ]
  },
  {
   "cell_type": "code",
   "execution_count": 99,
   "id": "8738d918",
   "metadata": {},
   "outputs": [
    {
     "name": "stdout",
     "output_type": "stream",
     "text": [
      "╒══════════╤═════════╕\n",
      "│ Metric   │   Value │\n",
      "╞══════════╪═════════╡\n",
      "│ MAE      │  1.5889 │\n",
      "├──────────┼─────────┤\n",
      "│ RMSE     │  2.1834 │\n",
      "├──────────┼─────────┤\n",
      "│ MSE      │  4.7671 │\n",
      "╘══════════╧═════════╛\n",
      "╒══════════╤═════════╕\n",
      "│ Metric   │   Value │\n",
      "╞══════════╪═════════╡\n",
      "│ MAE      │  1.3203 │\n",
      "├──────────┼─────────┤\n",
      "│ RMSE     │  1.8239 │\n",
      "├──────────┼─────────┤\n",
      "│ MSE      │  3.3266 │\n",
      "╘══════════╧═════════╛\n",
      "╒══════════╤═════════╕\n",
      "│ Metric   │   Value │\n",
      "╞══════════╪═════════╡\n",
      "│ MAE      │  1.2972 │\n",
      "├──────────┼─────────┤\n",
      "│ RMSE     │  1.7891 │\n",
      "├──────────┼─────────┤\n",
      "│ MSE      │  3.201  │\n",
      "╘══════════╧═════════╛\n"
     ]
    },
    {
     "data": {
      "text/plain": [
       "(Array(0.9052454, dtype=float32),\n",
       " Array(0.9338775, dtype=float32),\n",
       " np.float64(0.9363737064688338))"
      ]
     },
     "execution_count": 99,
     "metadata": {},
     "output_type": "execute_result"
    }
   ],
   "source": [
    "elastic_pred = elastic.predict(X)\n",
    "elastic.print_errors(Y, elastic_pred), lasso.print_errors(Y, lasso.predict(X)), ridge.print_errors(Y, ridge.predict(X))\n",
    "elastic.score(X, Y), lasso.score(X, Y), ridge.score(X, Y)"
   ]
  },
  {
   "cell_type": "code",
   "execution_count": 100,
   "id": "e2561b93",
   "metadata": {},
   "outputs": [],
   "source": [
    "#elastic.do_all(X, Y)"
   ]
  },
  {
   "cell_type": "code",
   "execution_count": 101,
   "id": "a3fdbda3",
   "metadata": {},
   "outputs": [],
   "source": [
    "#reg.Cooks_distance(X,Y)"
   ]
  },
  {
   "cell_type": "code",
   "execution_count": 102,
   "id": "8439a82c",
   "metadata": {},
   "outputs": [],
   "source": [
    "classes = [\"A\", \"B\", \"C\", \"D\"]\n",
    "n_samples = 150\n",
    "\n",
    "random_classes = np.random.choice(classes, size=n_samples)\n",
    "\n",
    "\n",
    "class_to_int = {label: idx for idx, label in enumerate(classes)}\n",
    "random_classes_int = np.vectorize(class_to_int.get)(random_classes)\n",
    "\n",
    "X = np.random.normal(2, 2, n_samples)\n",
    "Z = np.random.normal(9, 1, n_samples) \n",
    "P = np.random.beta(1, 2, n_samples)\n",
    "\n",
    "\n",
    "X= np.column_stack((X, Z, P*Z, Z+X, X**2))\n",
    "\n",
    "Y = random_classes_int\n",
    "#Y = np.eye(len(np.unique(Y)))[random_classes_int]\n"
   ]
  },
  {
   "cell_type": "code",
   "execution_count": 103,
   "id": "8a0ce156",
   "metadata": {},
   "outputs": [
    {
     "data": {
      "text/plain": [
       "<models.logistic.LogisticRegression at 0x1b93f233ed0>"
      ]
     },
     "execution_count": 103,
     "metadata": {},
     "output_type": "execute_result"
    }
   ],
   "source": [
    "log = LogisticRegression(X.shape[1], len(classes))\n",
    "log.fit(X, Y)"
   ]
  },
  {
   "cell_type": "code",
   "execution_count": 104,
   "id": "6a111b8a",
   "metadata": {},
   "outputs": [
    {
     "data": {
      "text/plain": [
       "array([2, 3, 1, 2, 2, 3, 3, 3, 2, 3, 2, 2, 3, 3, 3, 1, 2, 2, 2, 3, 1, 2,\n",
       "       2, 3, 3, 3, 3, 3, 3, 3, 3, 3, 3, 3, 1, 3, 1, 2, 2, 1, 1, 1, 3, 3,\n",
       "       1, 2, 1, 2, 3, 3, 2, 3, 2, 1, 1, 3, 3, 3, 3, 3, 2, 3, 2, 1, 3, 3,\n",
       "       2, 1, 3, 0, 1, 3, 1, 2, 3, 3, 1, 1, 1, 2, 2, 3, 3, 2, 2, 3, 3, 2,\n",
       "       3, 0, 2, 3, 1, 1, 2, 1, 3, 3, 2, 3, 1, 3, 3, 1, 2, 1, 2, 3, 2, 3,\n",
       "       3, 2, 3, 3, 2, 3, 1, 3, 1, 2, 1, 2, 2, 1, 2, 1, 1, 0, 2, 1, 2, 3,\n",
       "       2, 1, 2, 1, 3, 1, 3, 2, 2, 1, 3, 3, 3, 3, 2, 0, 1, 2])"
      ]
     },
     "execution_count": 104,
     "metadata": {},
     "output_type": "execute_result"
    }
   ],
   "source": [
    "pred = log.predict(X)\n",
    "pred"
   ]
  },
  {
   "cell_type": "code",
   "execution_count": 105,
   "id": "bc2f5b03",
   "metadata": {},
   "outputs": [
    {
     "data": {
      "text/plain": [
       "(array([[ 2.,  7.,  9., 16.],\n",
       "        [ 2., 14., 13., 12.],\n",
       "        [ 0.,  9., 13., 16.],\n",
       "        [ 0.,  7., 11., 19.]]),\n",
       " array([0.5       , 0.37837838, 0.2826087 , 0.3015873 ]),\n",
       " array([0.05882353, 0.34146341, 0.34210526, 0.51351351]),\n",
       " array([0.10526316, 0.35897436, 0.30952381, 0.38      ]),\n",
       " array(0.32),\n",
       " array(0.31397643),\n",
       " array([0.78082192, 0.76106195, 0.75961538, 0.79310345]),\n",
       " array([0.21917808, 0.23893805, 0.24038462, 0.20689655]))"
      ]
     },
     "execution_count": 105,
     "metadata": {},
     "output_type": "execute_result"
    }
   ],
   "source": [
    "confusion_matrix(Y, pred), precision(Y, pred), recall(Y, pred), f1_stat(Y, pred), accuracy(Y, pred), balanced_accuracy(Y, pred), NPV(Y, pred), FOR(Y, pred)"
   ]
  },
  {
   "cell_type": "code",
   "execution_count": 106,
   "id": "00206546",
   "metadata": {},
   "outputs": [
    {
     "data": {
      "text/plain": [
       "array([0.17149859, 0.35944732, 0.31093717, 0.39353419])"
      ]
     },
     "execution_count": 106,
     "metadata": {},
     "output_type": "execute_result"
    }
   ],
   "source": [
    "Fowlkes_Mallows(Y, pred)"
   ]
  },
  {
   "cell_type": "code",
   "execution_count": 107,
   "id": "014c1afa",
   "metadata": {},
   "outputs": [
    {
     "data": {
      "text/plain": [
       "array([[-0.02719566,  0.00089618,  0.03213054, -0.00583106],\n",
       "       [-0.00076542, -0.00853331, -0.00309271,  0.01239144],\n",
       "       [ 0.03845553,  0.01194308, -0.07974542,  0.02934682],\n",
       "       [-0.02796108, -0.00763712,  0.02903783,  0.00656038],\n",
       "       [ 0.02448265,  0.02745062, -0.01333104, -0.03860223]])"
      ]
     },
     "execution_count": 107,
     "metadata": {},
     "output_type": "execute_result"
    }
   ],
   "source": [
    "log.theta"
   ]
  }
 ],
 "metadata": {
  "kernelspec": {
   "display_name": "app",
   "language": "python",
   "name": "python3"
  },
  "language_info": {
   "codemirror_mode": {
    "name": "ipython",
    "version": 3
   },
   "file_extension": ".py",
   "mimetype": "text/x-python",
   "name": "python",
   "nbconvert_exporter": "python",
   "pygments_lexer": "ipython3",
   "version": "3.13.4"
  }
 },
 "nbformat": 4,
 "nbformat_minor": 5
}
