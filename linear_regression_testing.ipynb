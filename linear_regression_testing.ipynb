{
 "cells": [
  {
   "cell_type": "code",
   "execution_count": 13,
   "id": "e86ffa10",
   "metadata": {},
   "outputs": [],
   "source": [
    "import numpy as np\n",
    "from models.linear import LinearRegression\n"
   ]
  },
  {
   "cell_type": "code",
   "execution_count": 14,
   "id": "1b2636c1",
   "metadata": {},
   "outputs": [],
   "source": [
    "n_samples = 500\n",
    "np.random.seed(42)\n",
    "\n",
    "classes = [\"A\", \"B\", \"C\"]\n",
    "\n",
    "random_classes = np.random.choice(classes, size=n_samples)\n",
    "\n",
    "\n",
    "X = np.random.normal(2, 2, n_samples)\n",
    "Z = np.random.normal(9, 1, n_samples) \n",
    "P = np.random.beta(1, 2, n_samples)\n",
    "\n",
    "Y = X +  np.random.normal(0, 0.5, n_samples) + P + Z\n",
    "\n",
    "X= np.column_stack((X, Z, P ))\n",
    "\n",
    "X_test = np.random.normal(2, 2, n_samples)\n",
    "Z_test = np.random.normal(9, 1, n_samples) \n",
    "P_test = np.random.beta(1, 2, n_samples)\n",
    "\n",
    "Y_test = X_test +  np.random.normal(0, 0.5, n_samples) + P_test + Z_test\n",
    "X_test= np.column_stack((X_test, Z_test, P_test))\n"
   ]
  },
  {
   "cell_type": "code",
   "execution_count": 15,
   "id": "cfdbb3ce",
   "metadata": {},
   "outputs": [],
   "source": [
    "import pandas as pd\n",
    "\n",
    "data = pd.DataFrame(X, columns=[\"lol\", \"ekhm\", \"i dont know\"])\n",
    "data[\"Y\"] = Y\n",
    "\n",
    "X = data[[\"lol\", \"ekhm\", \"i dont know\"]]\n",
    "Y = data[\"Y\"]"
   ]
  },
  {
   "cell_type": "code",
   "execution_count": 16,
   "id": "4a214669",
   "metadata": {},
   "outputs": [],
   "source": [
    "reg = LinearRegression(regularization=\"None\").fit(X,Y)\n",
    "ridge = LinearRegression(regularization=\"Ridge\").fit(X,Y)\n",
    "lasso = LinearRegression(regularization=\"Lasso\", n_iter = 10000).fit(X,Y)"
   ]
  },
  {
   "cell_type": "code",
   "execution_count": 17,
   "id": "8439a82c",
   "metadata": {},
   "outputs": [
    {
     "data": {
      "application/vnd.plotly.v1+json": {
       "config": {
        "plotlyServerURL": "https://plot.ly"
       },
       "data": [
        {
         "marker": {
          "color": "rgba(99, 110, 250, 0.7)",
          "line": {
           "color": "DarkSlateGrey",
           "width": 1
          }
         },
         "mode": "markers",
         "name": "Residuals",
         "type": "scatter",
         "x": {
          "bdata": "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",
          "dtype": "f8"
         },
         "y": {
          "bdata": "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",
          "dtype": "f8"
         }
        },
        {
         "line": {
          "color": "red",
          "dash": "dash"
         },
         "mode": "lines",
         "name": "Zero Residual Line",
         "type": "scatter",
         "x": [
          4.8890222898452365,
          19.0691586963949
         ],
         "y": [
          0,
          0
         ]
        }
       ],
       "layout": {
        "showlegend": true,
        "template": {
         "data": {
          "bar": [
           {
            "error_x": {
             "color": "#2a3f5f"
            },
            "error_y": {
             "color": "#2a3f5f"
            },
            "marker": {
             "line": {
              "color": "#E5ECF6",
              "width": 0.5
             },
             "pattern": {
              "fillmode": "overlay",
              "size": 10,
              "solidity": 0.2
             }
            },
            "type": "bar"
           }
          ],
          "barpolar": [
           {
            "marker": {
             "line": {
              "color": "#E5ECF6",
              "width": 0.5
             },
             "pattern": {
              "fillmode": "overlay",
              "size": 10,
              "solidity": 0.2
             }
            },
            "type": "barpolar"
           }
          ],
          "carpet": [
           {
            "aaxis": {
             "endlinecolor": "#2a3f5f",
             "gridcolor": "white",
             "linecolor": "white",
             "minorgridcolor": "white",
             "startlinecolor": "#2a3f5f"
            },
            "baxis": {
             "endlinecolor": "#2a3f5f",
             "gridcolor": "white",
             "linecolor": "white",
             "minorgridcolor": "white",
             "startlinecolor": "#2a3f5f"
            },
            "type": "carpet"
           }
          ],
          "choropleth": [
           {
            "colorbar": {
             "outlinewidth": 0,
             "ticks": ""
            },
            "type": "choropleth"
           }
          ],
          "contour": [
           {
            "colorbar": {
             "outlinewidth": 0,
             "ticks": ""
            },
            "colorscale": [
             [
              0,
              "#0d0887"
             ],
             [
              0.1111111111111111,
              "#46039f"
             ],
             [
              0.2222222222222222,
              "#7201a8"
             ],
             [
              0.3333333333333333,
              "#9c179e"
             ],
             [
              0.4444444444444444,
              "#bd3786"
             ],
             [
              0.5555555555555556,
              "#d8576b"
             ],
             [
              0.6666666666666666,
              "#ed7953"
             ],
             [
              0.7777777777777778,
              "#fb9f3a"
             ],
             [
              0.8888888888888888,
              "#fdca26"
             ],
             [
              1,
              "#f0f921"
             ]
            ],
            "type": "contour"
           }
          ],
          "contourcarpet": [
           {
            "colorbar": {
             "outlinewidth": 0,
             "ticks": ""
            },
            "type": "contourcarpet"
           }
          ],
          "heatmap": [
           {
            "colorbar": {
             "outlinewidth": 0,
             "ticks": ""
            },
            "colorscale": [
             [
              0,
              "#0d0887"
             ],
             [
              0.1111111111111111,
              "#46039f"
             ],
             [
              0.2222222222222222,
              "#7201a8"
             ],
             [
              0.3333333333333333,
              "#9c179e"
             ],
             [
              0.4444444444444444,
              "#bd3786"
             ],
             [
              0.5555555555555556,
              "#d8576b"
             ],
             [
              0.6666666666666666,
              "#ed7953"
             ],
             [
              0.7777777777777778,
              "#fb9f3a"
             ],
             [
              0.8888888888888888,
              "#fdca26"
             ],
             [
              1,
              "#f0f921"
             ]
            ],
            "type": "heatmap"
           }
          ],
          "histogram": [
           {
            "marker": {
             "pattern": {
              "fillmode": "overlay",
              "size": 10,
              "solidity": 0.2
             }
            },
            "type": "histogram"
           }
          ],
          "histogram2d": [
           {
            "colorbar": {
             "outlinewidth": 0,
             "ticks": ""
            },
            "colorscale": [
             [
              0,
              "#0d0887"
             ],
             [
              0.1111111111111111,
              "#46039f"
             ],
             [
              0.2222222222222222,
              "#7201a8"
             ],
             [
              0.3333333333333333,
              "#9c179e"
             ],
             [
              0.4444444444444444,
              "#bd3786"
             ],
             [
              0.5555555555555556,
              "#d8576b"
             ],
             [
              0.6666666666666666,
              "#ed7953"
             ],
             [
              0.7777777777777778,
              "#fb9f3a"
             ],
             [
              0.8888888888888888,
              "#fdca26"
             ],
             [
              1,
              "#f0f921"
             ]
            ],
            "type": "histogram2d"
           }
          ],
          "histogram2dcontour": [
           {
            "colorbar": {
             "outlinewidth": 0,
             "ticks": ""
            },
            "colorscale": [
             [
              0,
              "#0d0887"
             ],
             [
              0.1111111111111111,
              "#46039f"
             ],
             [
              0.2222222222222222,
              "#7201a8"
             ],
             [
              0.3333333333333333,
              "#9c179e"
             ],
             [
              0.4444444444444444,
              "#bd3786"
             ],
             [
              0.5555555555555556,
              "#d8576b"
             ],
             [
              0.6666666666666666,
              "#ed7953"
             ],
             [
              0.7777777777777778,
              "#fb9f3a"
             ],
             [
              0.8888888888888888,
              "#fdca26"
             ],
             [
              1,
              "#f0f921"
             ]
            ],
            "type": "histogram2dcontour"
           }
          ],
          "mesh3d": [
           {
            "colorbar": {
             "outlinewidth": 0,
             "ticks": ""
            },
            "type": "mesh3d"
           }
          ],
          "parcoords": [
           {
            "line": {
             "colorbar": {
              "outlinewidth": 0,
              "ticks": ""
             }
            },
            "type": "parcoords"
           }
          ],
          "pie": [
           {
            "automargin": true,
            "type": "pie"
           }
          ],
          "scatter": [
           {
            "fillpattern": {
             "fillmode": "overlay",
             "size": 10,
             "solidity": 0.2
            },
            "type": "scatter"
           }
          ],
          "scatter3d": [
           {
            "line": {
             "colorbar": {
              "outlinewidth": 0,
              "ticks": ""
             }
            },
            "marker": {
             "colorbar": {
              "outlinewidth": 0,
              "ticks": ""
             }
            },
            "type": "scatter3d"
           }
          ],
          "scattercarpet": [
           {
            "marker": {
             "colorbar": {
              "outlinewidth": 0,
              "ticks": ""
             }
            },
            "type": "scattercarpet"
           }
          ],
          "scattergeo": [
           {
            "marker": {
             "colorbar": {
              "outlinewidth": 0,
              "ticks": ""
             }
            },
            "type": "scattergeo"
           }
          ],
          "scattergl": [
           {
            "marker": {
             "colorbar": {
              "outlinewidth": 0,
              "ticks": ""
             }
            },
            "type": "scattergl"
           }
          ],
          "scattermap": [
           {
            "marker": {
             "colorbar": {
              "outlinewidth": 0,
              "ticks": ""
             }
            },
            "type": "scattermap"
           }
          ],
          "scattermapbox": [
           {
            "marker": {
             "colorbar": {
              "outlinewidth": 0,
              "ticks": ""
             }
            },
            "type": "scattermapbox"
           }
          ],
          "scatterpolar": [
           {
            "marker": {
             "colorbar": {
              "outlinewidth": 0,
              "ticks": ""
             }
            },
            "type": "scatterpolar"
           }
          ],
          "scatterpolargl": [
           {
            "marker": {
             "colorbar": {
              "outlinewidth": 0,
              "ticks": ""
             }
            },
            "type": "scatterpolargl"
           }
          ],
          "scatterternary": [
           {
            "marker": {
             "colorbar": {
              "outlinewidth": 0,
              "ticks": ""
             }
            },
            "type": "scatterternary"
           }
          ],
          "surface": [
           {
            "colorbar": {
             "outlinewidth": 0,
             "ticks": ""
            },
            "colorscale": [
             [
              0,
              "#0d0887"
             ],
             [
              0.1111111111111111,
              "#46039f"
             ],
             [
              0.2222222222222222,
              "#7201a8"
             ],
             [
              0.3333333333333333,
              "#9c179e"
             ],
             [
              0.4444444444444444,
              "#bd3786"
             ],
             [
              0.5555555555555556,
              "#d8576b"
             ],
             [
              0.6666666666666666,
              "#ed7953"
             ],
             [
              0.7777777777777778,
              "#fb9f3a"
             ],
             [
              0.8888888888888888,
              "#fdca26"
             ],
             [
              1,
              "#f0f921"
             ]
            ],
            "type": "surface"
           }
          ],
          "table": [
           {
            "cells": {
             "fill": {
              "color": "#EBF0F8"
             },
             "line": {
              "color": "white"
             }
            },
            "header": {
             "fill": {
              "color": "#C8D4E3"
             },
             "line": {
              "color": "white"
             }
            },
            "type": "table"
           }
          ]
         },
         "layout": {
          "annotationdefaults": {
           "arrowcolor": "#2a3f5f",
           "arrowhead": 0,
           "arrowwidth": 1
          },
          "autotypenumbers": "strict",
          "coloraxis": {
           "colorbar": {
            "outlinewidth": 0,
            "ticks": ""
           }
          },
          "colorscale": {
           "diverging": [
            [
             0,
             "#8e0152"
            ],
            [
             0.1,
             "#c51b7d"
            ],
            [
             0.2,
             "#de77ae"
            ],
            [
             0.3,
             "#f1b6da"
            ],
            [
             0.4,
             "#fde0ef"
            ],
            [
             0.5,
             "#f7f7f7"
            ],
            [
             0.6,
             "#e6f5d0"
            ],
            [
             0.7,
             "#b8e186"
            ],
            [
             0.8,
             "#7fbc41"
            ],
            [
             0.9,
             "#4d9221"
            ],
            [
             1,
             "#276419"
            ]
           ],
           "sequential": [
            [
             0,
             "#0d0887"
            ],
            [
             0.1111111111111111,
             "#46039f"
            ],
            [
             0.2222222222222222,
             "#7201a8"
            ],
            [
             0.3333333333333333,
             "#9c179e"
            ],
            [
             0.4444444444444444,
             "#bd3786"
            ],
            [
             0.5555555555555556,
             "#d8576b"
            ],
            [
             0.6666666666666666,
             "#ed7953"
            ],
            [
             0.7777777777777778,
             "#fb9f3a"
            ],
            [
             0.8888888888888888,
             "#fdca26"
            ],
            [
             1,
             "#f0f921"
            ]
           ],
           "sequentialminus": [
            [
             0,
             "#0d0887"
            ],
            [
             0.1111111111111111,
             "#46039f"
            ],
            [
             0.2222222222222222,
             "#7201a8"
            ],
            [
             0.3333333333333333,
             "#9c179e"
            ],
            [
             0.4444444444444444,
             "#bd3786"
            ],
            [
             0.5555555555555556,
             "#d8576b"
            ],
            [
             0.6666666666666666,
             "#ed7953"
            ],
            [
             0.7777777777777778,
             "#fb9f3a"
            ],
            [
             0.8888888888888888,
             "#fdca26"
            ],
            [
             1,
             "#f0f921"
            ]
           ]
          },
          "colorway": [
           "#636efa",
           "#EF553B",
           "#00cc96",
           "#ab63fa",
           "#FFA15A",
           "#19d3f3",
           "#FF6692",
           "#B6E880",
           "#FF97FF",
           "#FECB52"
          ],
          "font": {
           "color": "#2a3f5f"
          },
          "geo": {
           "bgcolor": "white",
           "lakecolor": "white",
           "landcolor": "#E5ECF6",
           "showlakes": true,
           "showland": true,
           "subunitcolor": "white"
          },
          "hoverlabel": {
           "align": "left"
          },
          "hovermode": "closest",
          "mapbox": {
           "style": "light"
          },
          "paper_bgcolor": "white",
          "plot_bgcolor": "#E5ECF6",
          "polar": {
           "angularaxis": {
            "gridcolor": "white",
            "linecolor": "white",
            "ticks": ""
           },
           "bgcolor": "#E5ECF6",
           "radialaxis": {
            "gridcolor": "white",
            "linecolor": "white",
            "ticks": ""
           }
          },
          "scene": {
           "xaxis": {
            "backgroundcolor": "#E5ECF6",
            "gridcolor": "white",
            "gridwidth": 2,
            "linecolor": "white",
            "showbackground": true,
            "ticks": "",
            "zerolinecolor": "white"
           },
           "yaxis": {
            "backgroundcolor": "#E5ECF6",
            "gridcolor": "white",
            "gridwidth": 2,
            "linecolor": "white",
            "showbackground": true,
            "ticks": "",
            "zerolinecolor": "white"
           },
           "zaxis": {
            "backgroundcolor": "#E5ECF6",
            "gridcolor": "white",
            "gridwidth": 2,
            "linecolor": "white",
            "showbackground": true,
            "ticks": "",
            "zerolinecolor": "white"
           }
          },
          "shapedefaults": {
           "line": {
            "color": "#2a3f5f"
           }
          },
          "ternary": {
           "aaxis": {
            "gridcolor": "white",
            "linecolor": "white",
            "ticks": ""
           },
           "baxis": {
            "gridcolor": "white",
            "linecolor": "white",
            "ticks": ""
           },
           "bgcolor": "#E5ECF6",
           "caxis": {
            "gridcolor": "white",
            "linecolor": "white",
            "ticks": ""
           }
          },
          "title": {
           "x": 0.05
          },
          "xaxis": {
           "automargin": true,
           "gridcolor": "white",
           "linecolor": "white",
           "ticks": "",
           "title": {
            "standoff": 15
           },
           "zerolinecolor": "white",
           "zerolinewidth": 2
          },
          "yaxis": {
           "automargin": true,
           "gridcolor": "white",
           "linecolor": "white",
           "ticks": "",
           "title": {
            "standoff": 15
           },
           "zerolinecolor": "white",
           "zerolinewidth": 2
          }
         }
        },
        "title": {
         "text": "Residuals vs Fitted Values"
        },
        "xaxis": {
         "title": {
          "text": "Fitted Values"
         }
        },
        "yaxis": {
         "title": {
          "text": "Residuals"
         }
        }
       }
      }
     },
     "metadata": {},
     "output_type": "display_data"
    },
    {
     "data": {
      "application/vnd.plotly.v1+json": {
       "config": {
        "plotlyServerURL": "https://plot.ly"
       },
       "data": [
        {
         "mode": "markers",
         "name": "Data Points",
         "type": "scatter",
         "x": {
          "bdata": "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",
          "dtype": "f8"
         },
         "y": {
          "bdata": "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",
          "dtype": "f8"
         }
        },
        {
         "mode": "lines",
         "name": "Regression Line",
         "type": "scatter",
         "x": {
          "bdata": "FD1W6qrpEsCIFxgyJWISwP3x2Xmf2hHAccybwRlTEcDmpl0JlMsQwFqBH1EORBDAnLfCMRF5D8CFbEbBBWoOwG4hylD6Wg3AV9ZN4O5LDMBAi9Fv4zwLwChAVf/XLQrAEfXYjsweCcD6qVwewQ8IwOJe4K21AAfAyxNkParxBcC0yOfMnuIEwJ19a1yT0wPAhjLv64fEAsBu53J7fLUBwFec9gpxpgDAgKL0NMsu/79QDPxTtBD9vyJ2A3Od8vq/9N8KkobU+L/GSRKxb7b2v5izGdBYmPS/aB0h70F68r86hygOK1zwvxjiX1oofOy/uLVumPo/6L9giX3WzAPkvwC6GCk+j9+/QGE2peIW178gEahCDj3Nv0C/xnWumLi/AEeFM3+Roj9AA6bUFpXFP2BaNe7mQtM/ELMXckK72z/oBf36zhniP0gy7rz8VeY/oF7ffiqS6j8Ai9BAWM7uP7DbYAFDhfE/3HFZ4lmj8z8MCFLDcMH1PzieSqSH3/c/aDRDhZ79+T+YyjtmtRv8P8RgNEfMOf4/ensWlPErAECQxpIE/ToBQKgRD3UISgJAwFyL5RNZA0DWpwdWH2gEQO7yg8YqdwVABj4ANzaGBkAciXynQZUHQDTU+BdNpAhATB91iFizCUBkavH4Y8IKQHi1bWlv0QtAkADq2XrgDECoS2ZKhu8NQMCW4rqR/g5A7HCvlc4GEEB2lu1NVI4QQAK8KwbaFRFAjuFpvl+dEUAaB6h25SQSQKYs5i5rrBJAMFIk5/AzE0C8d2KfdrsTQEidoFf8QhRA1MLeD4LKFEBg6BzIB1IVQOwNW4CN2RVAdjOZOBNhFkACWdfwmOgWQI5+FakecBdAGqRTYaT3F0CmyZEZKn8YQDDvz9GvBhlAvBQOijWOGUBIOkxCuxUaQNRfivpAnRpAYIXIssYkG0DsqgZrTKwbQHbQRCPSMxxAAvaC21e7HECOG8GT3UIdQBpB/0tjyh1ApmY9BOlRHkAwjHu8btkeQLyxuXT0YB9ASNf3LHroH0Bq/pry/zcgQDARus7CeyBA9SPZqoW/IEA=",
          "dtype": "f8"
         },
         "y": {
          "bdata": "BVAtQQWPEkDo6sT4JBkTQMmFXLBEoxNAqyD0Z2QtFECMu4sfhLcUQG5WI9ejQRVAUfG6jsPLFUAyjFJG41UWQBQn6v0C4BZA9sGBtSJqF0DYXBltQvQXQLr3sCRifhhAnJJI3IEIGUB9LeCToZIZQGDId0vBHBpAQWMPA+GmGkAj/qa6ADEbQASZPnIguxtA5jPWKUBFHEDIzm3hX88cQKppBZl/WR1AjASdUJ/jHUBunzQIv20eQFA6zL/e9x5AMtVjd/6BH0AKuH0XDwYgQHqFSfMeSyBA7FIVzy6QIEBcIOGqPtUgQM3trIZOGiFAPrt4Yl5fIUCviEQ+bqQhQCBWEBp+6SFAkSPc9Y0uIkAC8afRnXMiQHO+c62tuCJA5Is/ib39IkBVWQtlzUIjQMYm10DdhyNANvSiHO3MI0CowW74/BEkQBmPOtQMVyRAiVwGsBycJED6KdKLLOEkQGz3nWc8JiVA3MRpQ0xrJUBNkjUfXLAlQL5fAftr9SVALy3N1ns6JkCg+piyi38mQBHIZI6bxCZAgpUwaqsJJ0DyYvxFu04nQGQwyCHLkydA1P2T/drYJ0BFy1/Z6h0oQLaYK7X6YihAKGb3kAqoKECYM8NsGu0oQAkBj0gqMilAes5aJDp3KUDrmyYASrwpQFxp8ttZASpAzDa+t2lGKkA+BIqTeYsqQK/RVW+J0CpAIJ8hS5kVK0CQbO0mqVorQAE6uQK5nytAcgeF3sjkK0Dk1FC62CksQFSiHJbobixAxG/ocfizLEA2PbRNCPksQKcKgCkYPi1AGNhLBSiDLUCJpRfhN8gtQPpy47xHDS5AakCvmFdSLkDcDXt0Z5cuQEzbRlB33C5AvqgSLIchL0Audt4Hl2YvQJ5DquOmqy9AEBF2v7bwL0BA76BN4xowQPnVhjtrPTBAsrxsKfNfMEBqo1IXe4IwQCKKOAUDpTBA23Ae84rHMECTVwThEuowQEw+6s6aDDFABCXQvCIvMUC8C7aqqlExQHXym5gydDFALtmBhrqWMUDmv2d0QrkxQJ6mTWLK2zFAVo0zUFL+MUA=",
          "dtype": "f8"
         }
        }
       ],
       "layout": {
        "template": {
         "data": {
          "bar": [
           {
            "error_x": {
             "color": "#2a3f5f"
            },
            "error_y": {
             "color": "#2a3f5f"
            },
            "marker": {
             "line": {
              "color": "#E5ECF6",
              "width": 0.5
             },
             "pattern": {
              "fillmode": "overlay",
              "size": 10,
              "solidity": 0.2
             }
            },
            "type": "bar"
           }
          ],
          "barpolar": [
           {
            "marker": {
             "line": {
              "color": "#E5ECF6",
              "width": 0.5
             },
             "pattern": {
              "fillmode": "overlay",
              "size": 10,
              "solidity": 0.2
             }
            },
            "type": "barpolar"
           }
          ],
          "carpet": [
           {
            "aaxis": {
             "endlinecolor": "#2a3f5f",
             "gridcolor": "white",
             "linecolor": "white",
             "minorgridcolor": "white",
             "startlinecolor": "#2a3f5f"
            },
            "baxis": {
             "endlinecolor": "#2a3f5f",
             "gridcolor": "white",
             "linecolor": "white",
             "minorgridcolor": "white",
             "startlinecolor": "#2a3f5f"
            },
            "type": "carpet"
           }
          ],
          "choropleth": [
           {
            "colorbar": {
             "outlinewidth": 0,
             "ticks": ""
            },
            "type": "choropleth"
           }
          ],
          "contour": [
           {
            "colorbar": {
             "outlinewidth": 0,
             "ticks": ""
            },
            "colorscale": [
             [
              0,
              "#0d0887"
             ],
             [
              0.1111111111111111,
              "#46039f"
             ],
             [
              0.2222222222222222,
              "#7201a8"
             ],
             [
              0.3333333333333333,
              "#9c179e"
             ],
             [
              0.4444444444444444,
              "#bd3786"
             ],
             [
              0.5555555555555556,
              "#d8576b"
             ],
             [
              0.6666666666666666,
              "#ed7953"
             ],
             [
              0.7777777777777778,
              "#fb9f3a"
             ],
             [
              0.8888888888888888,
              "#fdca26"
             ],
             [
              1,
              "#f0f921"
             ]
            ],
            "type": "contour"
           }
          ],
          "contourcarpet": [
           {
            "colorbar": {
             "outlinewidth": 0,
             "ticks": ""
            },
            "type": "contourcarpet"
           }
          ],
          "heatmap": [
           {
            "colorbar": {
             "outlinewidth": 0,
             "ticks": ""
            },
            "colorscale": [
             [
              0,
              "#0d0887"
             ],
             [
              0.1111111111111111,
              "#46039f"
             ],
             [
              0.2222222222222222,
              "#7201a8"
             ],
             [
              0.3333333333333333,
              "#9c179e"
             ],
             [
              0.4444444444444444,
              "#bd3786"
             ],
             [
              0.5555555555555556,
              "#d8576b"
             ],
             [
              0.6666666666666666,
              "#ed7953"
             ],
             [
              0.7777777777777778,
              "#fb9f3a"
             ],
             [
              0.8888888888888888,
              "#fdca26"
             ],
             [
              1,
              "#f0f921"
             ]
            ],
            "type": "heatmap"
           }
          ],
          "histogram": [
           {
            "marker": {
             "pattern": {
              "fillmode": "overlay",
              "size": 10,
              "solidity": 0.2
             }
            },
            "type": "histogram"
           }
          ],
          "histogram2d": [
           {
            "colorbar": {
             "outlinewidth": 0,
             "ticks": ""
            },
            "colorscale": [
             [
              0,
              "#0d0887"
             ],
             [
              0.1111111111111111,
              "#46039f"
             ],
             [
              0.2222222222222222,
              "#7201a8"
             ],
             [
              0.3333333333333333,
              "#9c179e"
             ],
             [
              0.4444444444444444,
              "#bd3786"
             ],
             [
              0.5555555555555556,
              "#d8576b"
             ],
             [
              0.6666666666666666,
              "#ed7953"
             ],
             [
              0.7777777777777778,
              "#fb9f3a"
             ],
             [
              0.8888888888888888,
              "#fdca26"
             ],
             [
              1,
              "#f0f921"
             ]
            ],
            "type": "histogram2d"
           }
          ],
          "histogram2dcontour": [
           {
            "colorbar": {
             "outlinewidth": 0,
             "ticks": ""
            },
            "colorscale": [
             [
              0,
              "#0d0887"
             ],
             [
              0.1111111111111111,
              "#46039f"
             ],
             [
              0.2222222222222222,
              "#7201a8"
             ],
             [
              0.3333333333333333,
              "#9c179e"
             ],
             [
              0.4444444444444444,
              "#bd3786"
             ],
             [
              0.5555555555555556,
              "#d8576b"
             ],
             [
              0.6666666666666666,
              "#ed7953"
             ],
             [
              0.7777777777777778,
              "#fb9f3a"
             ],
             [
              0.8888888888888888,
              "#fdca26"
             ],
             [
              1,
              "#f0f921"
             ]
            ],
            "type": "histogram2dcontour"
           }
          ],
          "mesh3d": [
           {
            "colorbar": {
             "outlinewidth": 0,
             "ticks": ""
            },
            "type": "mesh3d"
           }
          ],
          "parcoords": [
           {
            "line": {
             "colorbar": {
              "outlinewidth": 0,
              "ticks": ""
             }
            },
            "type": "parcoords"
           }
          ],
          "pie": [
           {
            "automargin": true,
            "type": "pie"
           }
          ],
          "scatter": [
           {
            "fillpattern": {
             "fillmode": "overlay",
             "size": 10,
             "solidity": 0.2
            },
            "type": "scatter"
           }
          ],
          "scatter3d": [
           {
            "line": {
             "colorbar": {
              "outlinewidth": 0,
              "ticks": ""
             }
            },
            "marker": {
             "colorbar": {
              "outlinewidth": 0,
              "ticks": ""
             }
            },
            "type": "scatter3d"
           }
          ],
          "scattercarpet": [
           {
            "marker": {
             "colorbar": {
              "outlinewidth": 0,
              "ticks": ""
             }
            },
            "type": "scattercarpet"
           }
          ],
          "scattergeo": [
           {
            "marker": {
             "colorbar": {
              "outlinewidth": 0,
              "ticks": ""
             }
            },
            "type": "scattergeo"
           }
          ],
          "scattergl": [
           {
            "marker": {
             "colorbar": {
              "outlinewidth": 0,
              "ticks": ""
             }
            },
            "type": "scattergl"
           }
          ],
          "scattermap": [
           {
            "marker": {
             "colorbar": {
              "outlinewidth": 0,
              "ticks": ""
             }
            },
            "type": "scattermap"
           }
          ],
          "scattermapbox": [
           {
            "marker": {
             "colorbar": {
              "outlinewidth": 0,
              "ticks": ""
             }
            },
            "type": "scattermapbox"
           }
          ],
          "scatterpolar": [
           {
            "marker": {
             "colorbar": {
              "outlinewidth": 0,
              "ticks": ""
             }
            },
            "type": "scatterpolar"
           }
          ],
          "scatterpolargl": [
           {
            "marker": {
             "colorbar": {
              "outlinewidth": 0,
              "ticks": ""
             }
            },
            "type": "scatterpolargl"
           }
          ],
          "scatterternary": [
           {
            "marker": {
             "colorbar": {
              "outlinewidth": 0,
              "ticks": ""
             }
            },
            "type": "scatterternary"
           }
          ],
          "surface": [
           {
            "colorbar": {
             "outlinewidth": 0,
             "ticks": ""
            },
            "colorscale": [
             [
              0,
              "#0d0887"
             ],
             [
              0.1111111111111111,
              "#46039f"
             ],
             [
              0.2222222222222222,
              "#7201a8"
             ],
             [
              0.3333333333333333,
              "#9c179e"
             ],
             [
              0.4444444444444444,
              "#bd3786"
             ],
             [
              0.5555555555555556,
              "#d8576b"
             ],
             [
              0.6666666666666666,
              "#ed7953"
             ],
             [
              0.7777777777777778,
              "#fb9f3a"
             ],
             [
              0.8888888888888888,
              "#fdca26"
             ],
             [
              1,
              "#f0f921"
             ]
            ],
            "type": "surface"
           }
          ],
          "table": [
           {
            "cells": {
             "fill": {
              "color": "#EBF0F8"
             },
             "line": {
              "color": "white"
             }
            },
            "header": {
             "fill": {
              "color": "#C8D4E3"
             },
             "line": {
              "color": "white"
             }
            },
            "type": "table"
           }
          ]
         },
         "layout": {
          "annotationdefaults": {
           "arrowcolor": "#2a3f5f",
           "arrowhead": 0,
           "arrowwidth": 1
          },
          "autotypenumbers": "strict",
          "coloraxis": {
           "colorbar": {
            "outlinewidth": 0,
            "ticks": ""
           }
          },
          "colorscale": {
           "diverging": [
            [
             0,
             "#8e0152"
            ],
            [
             0.1,
             "#c51b7d"
            ],
            [
             0.2,
             "#de77ae"
            ],
            [
             0.3,
             "#f1b6da"
            ],
            [
             0.4,
             "#fde0ef"
            ],
            [
             0.5,
             "#f7f7f7"
            ],
            [
             0.6,
             "#e6f5d0"
            ],
            [
             0.7,
             "#b8e186"
            ],
            [
             0.8,
             "#7fbc41"
            ],
            [
             0.9,
             "#4d9221"
            ],
            [
             1,
             "#276419"
            ]
           ],
           "sequential": [
            [
             0,
             "#0d0887"
            ],
            [
             0.1111111111111111,
             "#46039f"
            ],
            [
             0.2222222222222222,
             "#7201a8"
            ],
            [
             0.3333333333333333,
             "#9c179e"
            ],
            [
             0.4444444444444444,
             "#bd3786"
            ],
            [
             0.5555555555555556,
             "#d8576b"
            ],
            [
             0.6666666666666666,
             "#ed7953"
            ],
            [
             0.7777777777777778,
             "#fb9f3a"
            ],
            [
             0.8888888888888888,
             "#fdca26"
            ],
            [
             1,
             "#f0f921"
            ]
           ],
           "sequentialminus": [
            [
             0,
             "#0d0887"
            ],
            [
             0.1111111111111111,
             "#46039f"
            ],
            [
             0.2222222222222222,
             "#7201a8"
            ],
            [
             0.3333333333333333,
             "#9c179e"
            ],
            [
             0.4444444444444444,
             "#bd3786"
            ],
            [
             0.5555555555555556,
             "#d8576b"
            ],
            [
             0.6666666666666666,
             "#ed7953"
            ],
            [
             0.7777777777777778,
             "#fb9f3a"
            ],
            [
             0.8888888888888888,
             "#fdca26"
            ],
            [
             1,
             "#f0f921"
            ]
           ]
          },
          "colorway": [
           "#636efa",
           "#EF553B",
           "#00cc96",
           "#ab63fa",
           "#FFA15A",
           "#19d3f3",
           "#FF6692",
           "#B6E880",
           "#FF97FF",
           "#FECB52"
          ],
          "font": {
           "color": "#2a3f5f"
          },
          "geo": {
           "bgcolor": "white",
           "lakecolor": "white",
           "landcolor": "#E5ECF6",
           "showlakes": true,
           "showland": true,
           "subunitcolor": "white"
          },
          "hoverlabel": {
           "align": "left"
          },
          "hovermode": "closest",
          "mapbox": {
           "style": "light"
          },
          "paper_bgcolor": "white",
          "plot_bgcolor": "#E5ECF6",
          "polar": {
           "angularaxis": {
            "gridcolor": "white",
            "linecolor": "white",
            "ticks": ""
           },
           "bgcolor": "#E5ECF6",
           "radialaxis": {
            "gridcolor": "white",
            "linecolor": "white",
            "ticks": ""
           }
          },
          "scene": {
           "xaxis": {
            "backgroundcolor": "#E5ECF6",
            "gridcolor": "white",
            "gridwidth": 2,
            "linecolor": "white",
            "showbackground": true,
            "ticks": "",
            "zerolinecolor": "white"
           },
           "yaxis": {
            "backgroundcolor": "#E5ECF6",
            "gridcolor": "white",
            "gridwidth": 2,
            "linecolor": "white",
            "showbackground": true,
            "ticks": "",
            "zerolinecolor": "white"
           },
           "zaxis": {
            "backgroundcolor": "#E5ECF6",
            "gridcolor": "white",
            "gridwidth": 2,
            "linecolor": "white",
            "showbackground": true,
            "ticks": "",
            "zerolinecolor": "white"
           }
          },
          "shapedefaults": {
           "line": {
            "color": "#2a3f5f"
           }
          },
          "ternary": {
           "aaxis": {
            "gridcolor": "white",
            "linecolor": "white",
            "ticks": ""
           },
           "baxis": {
            "gridcolor": "white",
            "linecolor": "white",
            "ticks": ""
           },
           "bgcolor": "#E5ECF6",
           "caxis": {
            "gridcolor": "white",
            "linecolor": "white",
            "ticks": ""
           }
          },
          "title": {
           "x": 0.05
          },
          "xaxis": {
           "automargin": true,
           "gridcolor": "white",
           "linecolor": "white",
           "ticks": "",
           "title": {
            "standoff": 15
           },
           "zerolinecolor": "white",
           "zerolinewidth": 2
          },
          "yaxis": {
           "automargin": true,
           "gridcolor": "white",
           "linecolor": "white",
           "ticks": "",
           "title": {
            "standoff": 15
           },
           "zerolinecolor": "white",
           "zerolinewidth": 2
          }
         }
        },
        "title": {
         "text": "Feature 1 vs Y"
        },
        "xaxis": {
         "title": {
          "text": "X1"
         }
        },
        "yaxis": {
         "title": {
          "text": "Y"
         }
        }
       }
      }
     },
     "metadata": {},
     "output_type": "display_data"
    },
    {
     "data": {
      "application/vnd.plotly.v1+json": {
       "config": {
        "plotlyServerURL": "https://plot.ly"
       },
       "data": [
        {
         "mode": "markers",
         "name": "Data Points",
         "type": "scatter",
         "x": {
          "bdata": "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",
          "dtype": "f8"
         },
         "y": {
          "bdata": "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",
          "dtype": "f8"
         }
        },
        {
         "mode": "lines",
         "name": "Regression Line",
         "type": "scatter",
         "x": {
          "bdata": "Jp4NooWPGUCj3Tg6R8sZQCAdZNIIBxpAnFyPaspCGkAZnLoCjH4aQJbb5ZpNuhpAExsRMw/2GkCQWjzL0DEbQA2aZ2OSbRtAitmS+1OpG0AGGb6TFeUbQINY6SvXIBxAAJgUxJhcHEB91z9cWpgcQPoWa/Qb1BxAdlaWjN0PHUDzlcEkn0sdQHDV7Lxghx1A7RQYVSLDHUBqVEPt4/4dQOaTboWlOh5AZNOZHWd2HkDgEsW1KLIeQF1S8E3q7R5A2pEb5qspH0BX0UZ+bWUfQNQQchYvoR9AUFCdrvDcH0DnR2QjWQwgQKXnee85KiBAY4ePuxpIIEAiJ6WH+2UgQODGulPcgyBAn2bQH72hIEBdBubrnb8gQBym+7d+3SBA2kURhF/7IECY5SZQQBkhQFeFPBwhNyFAFSVS6AFVIUDUxGe04nIhQJJkfYDDkCFAUASTTKSuIUAPpKgYhcwhQM1DvuRl6iFAjOPTsEYIIkBKg+l8JyYiQAgj/0gIRCJAx8IUFelhIkCFYirhyX8iQEQCQK2qnSJAAqJVeYu7IkDAQWtFbNkiQH/hgBFN9yJAPYGW3S0VI0D8IKypDjMjQLrAwXXvUCNAeGDXQdBuI0A3AO0NsYwjQPafAtqRqiNAtD8YpnLII0By3y1yU+YjQDF/Qz40BCRA7x5ZChUiJECuvm7W9T8kQGxehKLWXSRAKv6Zbrd7JEDpna86mJkkQKc9xQZ5tyRAZt3a0lnVJEAkffCeOvMkQOIcBmsbESVAobwbN/wuJUBfXDED3UwlQB78Rs+9aiVA3Jtcm56IJUCaO3Jnf6YlQFnbhzNgxCVAGHud/0DiJUDWGrPLIQAmQJS6yJcCHiZAUlreY+M7JkAR+vMvxFkmQNCZCfykdyZAjjkfyIWVJkBM2TSUZrMmQAp5SmBH0SZAyRhgLCjvJkCIuHX4CA0nQEZYi8TpKidABPigkMpIJ0DCl7Zcq2YnQIE3zCiMhCdAQNfh9GyiJ0D+dvfATcAnQLwWDY0u3idAe7YiWQ/8J0A5Vjgl8BkoQPj1TfHQNyhAtpVjvbFVKEA=",
          "dtype": "f8"
         },
         "y": {
          "bdata": "aqf4qUJEIUB8nzwGe2QhQI6XgGKzhCFAn4/EvuukIUCwhwgbJMUhQMJ/THdc5SFA1HeQ05QFIkDmb9QvzSUiQPhnGIwFRiJACmBc6D1mIkAcWKBEdoYiQC5Q5KCupiJAP0go/ebGIkBRQGxZH+ciQGM4sLVXByNAdDD0EZAnI0CGKDhuyEcjQJggfMoAaCNAqhjAJjmII0C8EASDcagjQM4ISN+pyCNA4ACMO+LoI0Dw+M+XGgkkQALxE/RSKSRAFOlXUItJJEAm4Zusw2kkQDjZ3wj8iSRAStEjZTSqJEBcyWfBbMokQG7Bqx2l6iRAfrnved0KJUCSsTPWFSslQKKpdzJOSyVAtKG7joZrJUDGmf/qvoslQNiRQ0f3qyVA6omHoy/MJUD8gcv/Z+wlQA56D1ygDCZAIHJTuNgsJkAyapcUEU0mQEJi23BJbSZAVFofzYGNJkBmUmMpuq0mQHhKp4XyzSZAikLr4SruJkCcOi8+Yw4nQK4yc5qbLidAwCq39tNOJ0DQIvtSDG8nQOQaP69EjydA9BKDC32vJ0AGC8dntc8nQBgDC8Tt7ydAKvtOICYQKEA885J8XjAoQE7r1tiWUChAXuMaNc9wKEBy216RB5EoQITTou0/sShAlMvmSXjRKECmwyqmsPEoQLi7bgLpESlAyrOyXiEyKUDcq/a6WVIpQO6jOheScilAAJx+c8qSKUASlMLPArMpQCKMBiw70ylANoRKiHPzKUBGfI7kqxMqQFh00kDkMypAamwWnRxUKkB8ZFr5VHQqQI5cnlWNlCpAoFTiscW0KkCwTCYO/tQqQMREamo29SpA1jyuxm4VK0DoNPIipzUrQPgsNn/fVStACiV62xd2K0AcHb43UJYrQC4VApSItitAQA1G8MDWK0BSBYpM+fYrQGL9zagxFyxAdPURBWo3LECI7VVholcsQJjlmb3adyxAqt3dGROYLEC81SF2S7gsQM7NZdKD2CxA4MWpLrz4LEDyve2K9BgtQAK2MecsOS1AFq51Q2VZLUAmprmfnXktQDqe/fvVmS1ASpZBWA66LUA=",
          "dtype": "f8"
         }
        }
       ],
       "layout": {
        "template": {
         "data": {
          "bar": [
           {
            "error_x": {
             "color": "#2a3f5f"
            },
            "error_y": {
             "color": "#2a3f5f"
            },
            "marker": {
             "line": {
              "color": "#E5ECF6",
              "width": 0.5
             },
             "pattern": {
              "fillmode": "overlay",
              "size": 10,
              "solidity": 0.2
             }
            },
            "type": "bar"
           }
          ],
          "barpolar": [
           {
            "marker": {
             "line": {
              "color": "#E5ECF6",
              "width": 0.5
             },
             "pattern": {
              "fillmode": "overlay",
              "size": 10,
              "solidity": 0.2
             }
            },
            "type": "barpolar"
           }
          ],
          "carpet": [
           {
            "aaxis": {
             "endlinecolor": "#2a3f5f",
             "gridcolor": "white",
             "linecolor": "white",
             "minorgridcolor": "white",
             "startlinecolor": "#2a3f5f"
            },
            "baxis": {
             "endlinecolor": "#2a3f5f",
             "gridcolor": "white",
             "linecolor": "white",
             "minorgridcolor": "white",
             "startlinecolor": "#2a3f5f"
            },
            "type": "carpet"
           }
          ],
          "choropleth": [
           {
            "colorbar": {
             "outlinewidth": 0,
             "ticks": ""
            },
            "type": "choropleth"
           }
          ],
          "contour": [
           {
            "colorbar": {
             "outlinewidth": 0,
             "ticks": ""
            },
            "colorscale": [
             [
              0,
              "#0d0887"
             ],
             [
              0.1111111111111111,
              "#46039f"
             ],
             [
              0.2222222222222222,
              "#7201a8"
             ],
             [
              0.3333333333333333,
              "#9c179e"
             ],
             [
              0.4444444444444444,
              "#bd3786"
             ],
             [
              0.5555555555555556,
              "#d8576b"
             ],
             [
              0.6666666666666666,
              "#ed7953"
             ],
             [
              0.7777777777777778,
              "#fb9f3a"
             ],
             [
              0.8888888888888888,
              "#fdca26"
             ],
             [
              1,
              "#f0f921"
             ]
            ],
            "type": "contour"
           }
          ],
          "contourcarpet": [
           {
            "colorbar": {
             "outlinewidth": 0,
             "ticks": ""
            },
            "type": "contourcarpet"
           }
          ],
          "heatmap": [
           {
            "colorbar": {
             "outlinewidth": 0,
             "ticks": ""
            },
            "colorscale": [
             [
              0,
              "#0d0887"
             ],
             [
              0.1111111111111111,
              "#46039f"
             ],
             [
              0.2222222222222222,
              "#7201a8"
             ],
             [
              0.3333333333333333,
              "#9c179e"
             ],
             [
              0.4444444444444444,
              "#bd3786"
             ],
             [
              0.5555555555555556,
              "#d8576b"
             ],
             [
              0.6666666666666666,
              "#ed7953"
             ],
             [
              0.7777777777777778,
              "#fb9f3a"
             ],
             [
              0.8888888888888888,
              "#fdca26"
             ],
             [
              1,
              "#f0f921"
             ]
            ],
            "type": "heatmap"
           }
          ],
          "histogram": [
           {
            "marker": {
             "pattern": {
              "fillmode": "overlay",
              "size": 10,
              "solidity": 0.2
             }
            },
            "type": "histogram"
           }
          ],
          "histogram2d": [
           {
            "colorbar": {
             "outlinewidth": 0,
             "ticks": ""
            },
            "colorscale": [
             [
              0,
              "#0d0887"
             ],
             [
              0.1111111111111111,
              "#46039f"
             ],
             [
              0.2222222222222222,
              "#7201a8"
             ],
             [
              0.3333333333333333,
              "#9c179e"
             ],
             [
              0.4444444444444444,
              "#bd3786"
             ],
             [
              0.5555555555555556,
              "#d8576b"
             ],
             [
              0.6666666666666666,
              "#ed7953"
             ],
             [
              0.7777777777777778,
              "#fb9f3a"
             ],
             [
              0.8888888888888888,
              "#fdca26"
             ],
             [
              1,
              "#f0f921"
             ]
            ],
            "type": "histogram2d"
           }
          ],
          "histogram2dcontour": [
           {
            "colorbar": {
             "outlinewidth": 0,
             "ticks": ""
            },
            "colorscale": [
             [
              0,
              "#0d0887"
             ],
             [
              0.1111111111111111,
              "#46039f"
             ],
             [
              0.2222222222222222,
              "#7201a8"
             ],
             [
              0.3333333333333333,
              "#9c179e"
             ],
             [
              0.4444444444444444,
              "#bd3786"
             ],
             [
              0.5555555555555556,
              "#d8576b"
             ],
             [
              0.6666666666666666,
              "#ed7953"
             ],
             [
              0.7777777777777778,
              "#fb9f3a"
             ],
             [
              0.8888888888888888,
              "#fdca26"
             ],
             [
              1,
              "#f0f921"
             ]
            ],
            "type": "histogram2dcontour"
           }
          ],
          "mesh3d": [
           {
            "colorbar": {
             "outlinewidth": 0,
             "ticks": ""
            },
            "type": "mesh3d"
           }
          ],
          "parcoords": [
           {
            "line": {
             "colorbar": {
              "outlinewidth": 0,
              "ticks": ""
             }
            },
            "type": "parcoords"
           }
          ],
          "pie": [
           {
            "automargin": true,
            "type": "pie"
           }
          ],
          "scatter": [
           {
            "fillpattern": {
             "fillmode": "overlay",
             "size": 10,
             "solidity": 0.2
            },
            "type": "scatter"
           }
          ],
          "scatter3d": [
           {
            "line": {
             "colorbar": {
              "outlinewidth": 0,
              "ticks": ""
             }
            },
            "marker": {
             "colorbar": {
              "outlinewidth": 0,
              "ticks": ""
             }
            },
            "type": "scatter3d"
           }
          ],
          "scattercarpet": [
           {
            "marker": {
             "colorbar": {
              "outlinewidth": 0,
              "ticks": ""
             }
            },
            "type": "scattercarpet"
           }
          ],
          "scattergeo": [
           {
            "marker": {
             "colorbar": {
              "outlinewidth": 0,
              "ticks": ""
             }
            },
            "type": "scattergeo"
           }
          ],
          "scattergl": [
           {
            "marker": {
             "colorbar": {
              "outlinewidth": 0,
              "ticks": ""
             }
            },
            "type": "scattergl"
           }
          ],
          "scattermap": [
           {
            "marker": {
             "colorbar": {
              "outlinewidth": 0,
              "ticks": ""
             }
            },
            "type": "scattermap"
           }
          ],
          "scattermapbox": [
           {
            "marker": {
             "colorbar": {
              "outlinewidth": 0,
              "ticks": ""
             }
            },
            "type": "scattermapbox"
           }
          ],
          "scatterpolar": [
           {
            "marker": {
             "colorbar": {
              "outlinewidth": 0,
              "ticks": ""
             }
            },
            "type": "scatterpolar"
           }
          ],
          "scatterpolargl": [
           {
            "marker": {
             "colorbar": {
              "outlinewidth": 0,
              "ticks": ""
             }
            },
            "type": "scatterpolargl"
           }
          ],
          "scatterternary": [
           {
            "marker": {
             "colorbar": {
              "outlinewidth": 0,
              "ticks": ""
             }
            },
            "type": "scatterternary"
           }
          ],
          "surface": [
           {
            "colorbar": {
             "outlinewidth": 0,
             "ticks": ""
            },
            "colorscale": [
             [
              0,
              "#0d0887"
             ],
             [
              0.1111111111111111,
              "#46039f"
             ],
             [
              0.2222222222222222,
              "#7201a8"
             ],
             [
              0.3333333333333333,
              "#9c179e"
             ],
             [
              0.4444444444444444,
              "#bd3786"
             ],
             [
              0.5555555555555556,
              "#d8576b"
             ],
             [
              0.6666666666666666,
              "#ed7953"
             ],
             [
              0.7777777777777778,
              "#fb9f3a"
             ],
             [
              0.8888888888888888,
              "#fdca26"
             ],
             [
              1,
              "#f0f921"
             ]
            ],
            "type": "surface"
           }
          ],
          "table": [
           {
            "cells": {
             "fill": {
              "color": "#EBF0F8"
             },
             "line": {
              "color": "white"
             }
            },
            "header": {
             "fill": {
              "color": "#C8D4E3"
             },
             "line": {
              "color": "white"
             }
            },
            "type": "table"
           }
          ]
         },
         "layout": {
          "annotationdefaults": {
           "arrowcolor": "#2a3f5f",
           "arrowhead": 0,
           "arrowwidth": 1
          },
          "autotypenumbers": "strict",
          "coloraxis": {
           "colorbar": {
            "outlinewidth": 0,
            "ticks": ""
           }
          },
          "colorscale": {
           "diverging": [
            [
             0,
             "#8e0152"
            ],
            [
             0.1,
             "#c51b7d"
            ],
            [
             0.2,
             "#de77ae"
            ],
            [
             0.3,
             "#f1b6da"
            ],
            [
             0.4,
             "#fde0ef"
            ],
            [
             0.5,
             "#f7f7f7"
            ],
            [
             0.6,
             "#e6f5d0"
            ],
            [
             0.7,
             "#b8e186"
            ],
            [
             0.8,
             "#7fbc41"
            ],
            [
             0.9,
             "#4d9221"
            ],
            [
             1,
             "#276419"
            ]
           ],
           "sequential": [
            [
             0,
             "#0d0887"
            ],
            [
             0.1111111111111111,
             "#46039f"
            ],
            [
             0.2222222222222222,
             "#7201a8"
            ],
            [
             0.3333333333333333,
             "#9c179e"
            ],
            [
             0.4444444444444444,
             "#bd3786"
            ],
            [
             0.5555555555555556,
             "#d8576b"
            ],
            [
             0.6666666666666666,
             "#ed7953"
            ],
            [
             0.7777777777777778,
             "#fb9f3a"
            ],
            [
             0.8888888888888888,
             "#fdca26"
            ],
            [
             1,
             "#f0f921"
            ]
           ],
           "sequentialminus": [
            [
             0,
             "#0d0887"
            ],
            [
             0.1111111111111111,
             "#46039f"
            ],
            [
             0.2222222222222222,
             "#7201a8"
            ],
            [
             0.3333333333333333,
             "#9c179e"
            ],
            [
             0.4444444444444444,
             "#bd3786"
            ],
            [
             0.5555555555555556,
             "#d8576b"
            ],
            [
             0.6666666666666666,
             "#ed7953"
            ],
            [
             0.7777777777777778,
             "#fb9f3a"
            ],
            [
             0.8888888888888888,
             "#fdca26"
            ],
            [
             1,
             "#f0f921"
            ]
           ]
          },
          "colorway": [
           "#636efa",
           "#EF553B",
           "#00cc96",
           "#ab63fa",
           "#FFA15A",
           "#19d3f3",
           "#FF6692",
           "#B6E880",
           "#FF97FF",
           "#FECB52"
          ],
          "font": {
           "color": "#2a3f5f"
          },
          "geo": {
           "bgcolor": "white",
           "lakecolor": "white",
           "landcolor": "#E5ECF6",
           "showlakes": true,
           "showland": true,
           "subunitcolor": "white"
          },
          "hoverlabel": {
           "align": "left"
          },
          "hovermode": "closest",
          "mapbox": {
           "style": "light"
          },
          "paper_bgcolor": "white",
          "plot_bgcolor": "#E5ECF6",
          "polar": {
           "angularaxis": {
            "gridcolor": "white",
            "linecolor": "white",
            "ticks": ""
           },
           "bgcolor": "#E5ECF6",
           "radialaxis": {
            "gridcolor": "white",
            "linecolor": "white",
            "ticks": ""
           }
          },
          "scene": {
           "xaxis": {
            "backgroundcolor": "#E5ECF6",
            "gridcolor": "white",
            "gridwidth": 2,
            "linecolor": "white",
            "showbackground": true,
            "ticks": "",
            "zerolinecolor": "white"
           },
           "yaxis": {
            "backgroundcolor": "#E5ECF6",
            "gridcolor": "white",
            "gridwidth": 2,
            "linecolor": "white",
            "showbackground": true,
            "ticks": "",
            "zerolinecolor": "white"
           },
           "zaxis": {
            "backgroundcolor": "#E5ECF6",
            "gridcolor": "white",
            "gridwidth": 2,
            "linecolor": "white",
            "showbackground": true,
            "ticks": "",
            "zerolinecolor": "white"
           }
          },
          "shapedefaults": {
           "line": {
            "color": "#2a3f5f"
           }
          },
          "ternary": {
           "aaxis": {
            "gridcolor": "white",
            "linecolor": "white",
            "ticks": ""
           },
           "baxis": {
            "gridcolor": "white",
            "linecolor": "white",
            "ticks": ""
           },
           "bgcolor": "#E5ECF6",
           "caxis": {
            "gridcolor": "white",
            "linecolor": "white",
            "ticks": ""
           }
          },
          "title": {
           "x": 0.05
          },
          "xaxis": {
           "automargin": true,
           "gridcolor": "white",
           "linecolor": "white",
           "ticks": "",
           "title": {
            "standoff": 15
           },
           "zerolinecolor": "white",
           "zerolinewidth": 2
          },
          "yaxis": {
           "automargin": true,
           "gridcolor": "white",
           "linecolor": "white",
           "ticks": "",
           "title": {
            "standoff": 15
           },
           "zerolinecolor": "white",
           "zerolinewidth": 2
          }
         }
        },
        "title": {
         "text": "Feature 2 vs Y"
        },
        "xaxis": {
         "title": {
          "text": "X2"
         }
        },
        "yaxis": {
         "title": {
          "text": "Y"
         }
        }
       }
      }
     },
     "metadata": {},
     "output_type": "display_data"
    },
    {
     "data": {
      "application/vnd.plotly.v1+json": {
       "config": {
        "plotlyServerURL": "https://plot.ly"
       },
       "data": [
        {
         "mode": "markers",
         "name": "Data Points",
         "type": "scatter",
         "x": {
          "bdata": "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",
          "dtype": "f8"
         },
         "y": {
          "bdata": "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",
          "dtype": "f8"
         }
        },
        {
         "mode": "lines",
         "name": "Regression Line",
         "type": "scatter",
         "x": {
          "bdata": "JaaTmidLUj/pd94hJ5mGP4Y9Nah0dJU/GD97v1Wcnz9VoGBrG+KkPx6hA/cL9qk/56GmgvwJrz9Z0SSH9g6yP71R9szumLQ/IdLHEucitz+GUplY36y5P+vSap7XNrw/T1M85M/Avj/Z6QYVZKXAPwyq7zdg6sE/PmrYWlwvwz9wKsF9WHTEP6LqqaBUucU/1KqSw1D+xj8Ha3vmTEPIPzkrZAlJiMk/a+tMLEXNyj+eqzVPQRLMP9BrHnI9V80/AiwHlTmczj807O+3NeHPPzNWbO0Yk9A/TLbg/pY10T9mFlUQFdjRP392ySGTetI/mNY9MxEd0z+xNrJEj7/TP8qWJlYNYtQ/4/aaZ4sE1T/8Vg95CafVPxW3g4qHSdY/Lhf4mwXs1j9Id2ytg47XP2HX4L4BMdg/ejdV0H/T2D+Tl8nh/XXZP6z3PfN7GNo/xVeyBPq62j/etyYWeF3bP/gXmyf2/9s/EXgPOXSi3D8q2INK8kTdP0M4+Ftw590/XJhsbe6J3j91+OB+bCzfP45YVZDqzt8/VNzkULQ44D9gDJ9Z84ngP208WWIy2+A/eWwTa3Es4T+GnM1zsH3hP5PMh3zvzuE/n/xBhS4g4j+sLPyNbXHiP7hctpaswuI/xYxwn+sT4z/RvCqoKmXjP97s5LBptuM/6hyfuagH5D/3TFnC51jkPwR9E8smquQ/EK3N02X75D8d3YfcpEzlPykNQuXjneU/Nj387SLv5T9Cbbb2YUDmP0+dcP+gkeY/W80qCODi5j9o/eQQHzTnP3Utnxlehec/gV1ZIp3W5z+OjRMr3CfoP5q9zTMbeeg/p+2HPFrK6D+zHUJFmRvpP8BN/E3YbOk/zX22Vhe+6T/ZrXBfVg/qP+bdKmiVYOo/8g3lcNSx6j//PZ95EwPrPwtuWYJSVOs/GJ4Ti5Gl6z8lzs2T0PbrPzH+h5wPSOw/Pi5CpU6Z7D9KXvytjersP1eOtrbMO+0/Y75wvwuN7T9w7irISt7tP3we5dCJL+4/iU6f2ciA7j+WflniB9LuP6KuE+tGI+8/r97N84V07z8=",
          "dtype": "f8"
         },
         "y": {
          "bdata": "QH6L4hBEJkBHD8aYk0omQE6gAE8WUSZAVTE7BZlXJkBcwnW7G14mQGRTsHGeZCZAa+TqJyFrJkBydSXeo3EmQHkGYJQmeCZAgJeaSql+JkCHKNUALIUmQI65D7euiyZAlUpKbTGSJkCc24QjtJgmQKNsv9k2nyZAqv35j7mlJkCxjjRGPKwmQLgfb/y+siZAwLCpskG5JkDHQeRoxL8mQM7SHh9HxiZA1WNZ1cnMJkDc9JOLTNMmQOOFzkHP2SZA6hYJ+FHgJkDxp0Ou1OYmQPg4fmRX7SZA/8m4GtrzJkAGW/PQXPomQA3sLYffACdAFH1oPWIHJ0AbDqPz5A0nQCOf3alnFCdAKjAYYOoaJ0AxwVIWbSEnQDhSjczvJydAP+PHgnIuJ0BGdAI59TQnQE0FPe93OydAVJZ3pfpBJ0BbJ7JbfUgnQGK47BEATydAaUknyIJVJ0Bw2mF+BVwnQHdrnDSIYidAfvzW6gppJ0CGjRGhjW8nQI0eTFcQdidAlK+GDZN8J0CbQMHDFYMnQKLR+3mYiSdAqWI2MBuQJ0Cw83DmnZYnQLeEq5wgnSdAvhXmUqOjJ0DFpiAJJqonQMw3W7+osCdA08iVdSu3J0DaWdArrr0nQOLqCuIwxCdA6XtFmLPKJ0DwDIBONtEnQPedugS51ydA/i71ujveJ0AFwC9xvuQnQAxRaidB6ydAE+Kk3cPxJ0Aac9+TRvgnQCEEGkrJ/idAKJVUAEwFKEAvJo+2zgsoQDa3yWxREihAPUgEI9QYKEBF2T7ZVh8oQExqeY/ZJShAU/uzRVwsKEBajO773jIoQGEdKbJhOShAaK5jaOQ/KEBvP54eZ0YoQHbQ2NTpTChAfWETi2xTKECE8k1B71koQIuDiPdxYChAkhTDrfRmKECapf1jd20oQKA2OBr6cyhAqMdy0Hx6KECvWK2G/4AoQLbp5zyChyhAvXoi8wSOKEDEC12ph5QoQMucl18KmyhA0i3SFY2hKEDZvgzMD6goQOBPR4KSrihA5+CBOBW1KEDucbzul7soQPUC96QawihA/JMxW53IKEA=",
          "dtype": "f8"
         }
        }
       ],
       "layout": {
        "template": {
         "data": {
          "bar": [
           {
            "error_x": {
             "color": "#2a3f5f"
            },
            "error_y": {
             "color": "#2a3f5f"
            },
            "marker": {
             "line": {
              "color": "#E5ECF6",
              "width": 0.5
             },
             "pattern": {
              "fillmode": "overlay",
              "size": 10,
              "solidity": 0.2
             }
            },
            "type": "bar"
           }
          ],
          "barpolar": [
           {
            "marker": {
             "line": {
              "color": "#E5ECF6",
              "width": 0.5
             },
             "pattern": {
              "fillmode": "overlay",
              "size": 10,
              "solidity": 0.2
             }
            },
            "type": "barpolar"
           }
          ],
          "carpet": [
           {
            "aaxis": {
             "endlinecolor": "#2a3f5f",
             "gridcolor": "white",
             "linecolor": "white",
             "minorgridcolor": "white",
             "startlinecolor": "#2a3f5f"
            },
            "baxis": {
             "endlinecolor": "#2a3f5f",
             "gridcolor": "white",
             "linecolor": "white",
             "minorgridcolor": "white",
             "startlinecolor": "#2a3f5f"
            },
            "type": "carpet"
           }
          ],
          "choropleth": [
           {
            "colorbar": {
             "outlinewidth": 0,
             "ticks": ""
            },
            "type": "choropleth"
           }
          ],
          "contour": [
           {
            "colorbar": {
             "outlinewidth": 0,
             "ticks": ""
            },
            "colorscale": [
             [
              0,
              "#0d0887"
             ],
             [
              0.1111111111111111,
              "#46039f"
             ],
             [
              0.2222222222222222,
              "#7201a8"
             ],
             [
              0.3333333333333333,
              "#9c179e"
             ],
             [
              0.4444444444444444,
              "#bd3786"
             ],
             [
              0.5555555555555556,
              "#d8576b"
             ],
             [
              0.6666666666666666,
              "#ed7953"
             ],
             [
              0.7777777777777778,
              "#fb9f3a"
             ],
             [
              0.8888888888888888,
              "#fdca26"
             ],
             [
              1,
              "#f0f921"
             ]
            ],
            "type": "contour"
           }
          ],
          "contourcarpet": [
           {
            "colorbar": {
             "outlinewidth": 0,
             "ticks": ""
            },
            "type": "contourcarpet"
           }
          ],
          "heatmap": [
           {
            "colorbar": {
             "outlinewidth": 0,
             "ticks": ""
            },
            "colorscale": [
             [
              0,
              "#0d0887"
             ],
             [
              0.1111111111111111,
              "#46039f"
             ],
             [
              0.2222222222222222,
              "#7201a8"
             ],
             [
              0.3333333333333333,
              "#9c179e"
             ],
             [
              0.4444444444444444,
              "#bd3786"
             ],
             [
              0.5555555555555556,
              "#d8576b"
             ],
             [
              0.6666666666666666,
              "#ed7953"
             ],
             [
              0.7777777777777778,
              "#fb9f3a"
             ],
             [
              0.8888888888888888,
              "#fdca26"
             ],
             [
              1,
              "#f0f921"
             ]
            ],
            "type": "heatmap"
           }
          ],
          "histogram": [
           {
            "marker": {
             "pattern": {
              "fillmode": "overlay",
              "size": 10,
              "solidity": 0.2
             }
            },
            "type": "histogram"
           }
          ],
          "histogram2d": [
           {
            "colorbar": {
             "outlinewidth": 0,
             "ticks": ""
            },
            "colorscale": [
             [
              0,
              "#0d0887"
             ],
             [
              0.1111111111111111,
              "#46039f"
             ],
             [
              0.2222222222222222,
              "#7201a8"
             ],
             [
              0.3333333333333333,
              "#9c179e"
             ],
             [
              0.4444444444444444,
              "#bd3786"
             ],
             [
              0.5555555555555556,
              "#d8576b"
             ],
             [
              0.6666666666666666,
              "#ed7953"
             ],
             [
              0.7777777777777778,
              "#fb9f3a"
             ],
             [
              0.8888888888888888,
              "#fdca26"
             ],
             [
              1,
              "#f0f921"
             ]
            ],
            "type": "histogram2d"
           }
          ],
          "histogram2dcontour": [
           {
            "colorbar": {
             "outlinewidth": 0,
             "ticks": ""
            },
            "colorscale": [
             [
              0,
              "#0d0887"
             ],
             [
              0.1111111111111111,
              "#46039f"
             ],
             [
              0.2222222222222222,
              "#7201a8"
             ],
             [
              0.3333333333333333,
              "#9c179e"
             ],
             [
              0.4444444444444444,
              "#bd3786"
             ],
             [
              0.5555555555555556,
              "#d8576b"
             ],
             [
              0.6666666666666666,
              "#ed7953"
             ],
             [
              0.7777777777777778,
              "#fb9f3a"
             ],
             [
              0.8888888888888888,
              "#fdca26"
             ],
             [
              1,
              "#f0f921"
             ]
            ],
            "type": "histogram2dcontour"
           }
          ],
          "mesh3d": [
           {
            "colorbar": {
             "outlinewidth": 0,
             "ticks": ""
            },
            "type": "mesh3d"
           }
          ],
          "parcoords": [
           {
            "line": {
             "colorbar": {
              "outlinewidth": 0,
              "ticks": ""
             }
            },
            "type": "parcoords"
           }
          ],
          "pie": [
           {
            "automargin": true,
            "type": "pie"
           }
          ],
          "scatter": [
           {
            "fillpattern": {
             "fillmode": "overlay",
             "size": 10,
             "solidity": 0.2
            },
            "type": "scatter"
           }
          ],
          "scatter3d": [
           {
            "line": {
             "colorbar": {
              "outlinewidth": 0,
              "ticks": ""
             }
            },
            "marker": {
             "colorbar": {
              "outlinewidth": 0,
              "ticks": ""
             }
            },
            "type": "scatter3d"
           }
          ],
          "scattercarpet": [
           {
            "marker": {
             "colorbar": {
              "outlinewidth": 0,
              "ticks": ""
             }
            },
            "type": "scattercarpet"
           }
          ],
          "scattergeo": [
           {
            "marker": {
             "colorbar": {
              "outlinewidth": 0,
              "ticks": ""
             }
            },
            "type": "scattergeo"
           }
          ],
          "scattergl": [
           {
            "marker": {
             "colorbar": {
              "outlinewidth": 0,
              "ticks": ""
             }
            },
            "type": "scattergl"
           }
          ],
          "scattermap": [
           {
            "marker": {
             "colorbar": {
              "outlinewidth": 0,
              "ticks": ""
             }
            },
            "type": "scattermap"
           }
          ],
          "scattermapbox": [
           {
            "marker": {
             "colorbar": {
              "outlinewidth": 0,
              "ticks": ""
             }
            },
            "type": "scattermapbox"
           }
          ],
          "scatterpolar": [
           {
            "marker": {
             "colorbar": {
              "outlinewidth": 0,
              "ticks": ""
             }
            },
            "type": "scatterpolar"
           }
          ],
          "scatterpolargl": [
           {
            "marker": {
             "colorbar": {
              "outlinewidth": 0,
              "ticks": ""
             }
            },
            "type": "scatterpolargl"
           }
          ],
          "scatterternary": [
           {
            "marker": {
             "colorbar": {
              "outlinewidth": 0,
              "ticks": ""
             }
            },
            "type": "scatterternary"
           }
          ],
          "surface": [
           {
            "colorbar": {
             "outlinewidth": 0,
             "ticks": ""
            },
            "colorscale": [
             [
              0,
              "#0d0887"
             ],
             [
              0.1111111111111111,
              "#46039f"
             ],
             [
              0.2222222222222222,
              "#7201a8"
             ],
             [
              0.3333333333333333,
              "#9c179e"
             ],
             [
              0.4444444444444444,
              "#bd3786"
             ],
             [
              0.5555555555555556,
              "#d8576b"
             ],
             [
              0.6666666666666666,
              "#ed7953"
             ],
             [
              0.7777777777777778,
              "#fb9f3a"
             ],
             [
              0.8888888888888888,
              "#fdca26"
             ],
             [
              1,
              "#f0f921"
             ]
            ],
            "type": "surface"
           }
          ],
          "table": [
           {
            "cells": {
             "fill": {
              "color": "#EBF0F8"
             },
             "line": {
              "color": "white"
             }
            },
            "header": {
             "fill": {
              "color": "#C8D4E3"
             },
             "line": {
              "color": "white"
             }
            },
            "type": "table"
           }
          ]
         },
         "layout": {
          "annotationdefaults": {
           "arrowcolor": "#2a3f5f",
           "arrowhead": 0,
           "arrowwidth": 1
          },
          "autotypenumbers": "strict",
          "coloraxis": {
           "colorbar": {
            "outlinewidth": 0,
            "ticks": ""
           }
          },
          "colorscale": {
           "diverging": [
            [
             0,
             "#8e0152"
            ],
            [
             0.1,
             "#c51b7d"
            ],
            [
             0.2,
             "#de77ae"
            ],
            [
             0.3,
             "#f1b6da"
            ],
            [
             0.4,
             "#fde0ef"
            ],
            [
             0.5,
             "#f7f7f7"
            ],
            [
             0.6,
             "#e6f5d0"
            ],
            [
             0.7,
             "#b8e186"
            ],
            [
             0.8,
             "#7fbc41"
            ],
            [
             0.9,
             "#4d9221"
            ],
            [
             1,
             "#276419"
            ]
           ],
           "sequential": [
            [
             0,
             "#0d0887"
            ],
            [
             0.1111111111111111,
             "#46039f"
            ],
            [
             0.2222222222222222,
             "#7201a8"
            ],
            [
             0.3333333333333333,
             "#9c179e"
            ],
            [
             0.4444444444444444,
             "#bd3786"
            ],
            [
             0.5555555555555556,
             "#d8576b"
            ],
            [
             0.6666666666666666,
             "#ed7953"
            ],
            [
             0.7777777777777778,
             "#fb9f3a"
            ],
            [
             0.8888888888888888,
             "#fdca26"
            ],
            [
             1,
             "#f0f921"
            ]
           ],
           "sequentialminus": [
            [
             0,
             "#0d0887"
            ],
            [
             0.1111111111111111,
             "#46039f"
            ],
            [
             0.2222222222222222,
             "#7201a8"
            ],
            [
             0.3333333333333333,
             "#9c179e"
            ],
            [
             0.4444444444444444,
             "#bd3786"
            ],
            [
             0.5555555555555556,
             "#d8576b"
            ],
            [
             0.6666666666666666,
             "#ed7953"
            ],
            [
             0.7777777777777778,
             "#fb9f3a"
            ],
            [
             0.8888888888888888,
             "#fdca26"
            ],
            [
             1,
             "#f0f921"
            ]
           ]
          },
          "colorway": [
           "#636efa",
           "#EF553B",
           "#00cc96",
           "#ab63fa",
           "#FFA15A",
           "#19d3f3",
           "#FF6692",
           "#B6E880",
           "#FF97FF",
           "#FECB52"
          ],
          "font": {
           "color": "#2a3f5f"
          },
          "geo": {
           "bgcolor": "white",
           "lakecolor": "white",
           "landcolor": "#E5ECF6",
           "showlakes": true,
           "showland": true,
           "subunitcolor": "white"
          },
          "hoverlabel": {
           "align": "left"
          },
          "hovermode": "closest",
          "mapbox": {
           "style": "light"
          },
          "paper_bgcolor": "white",
          "plot_bgcolor": "#E5ECF6",
          "polar": {
           "angularaxis": {
            "gridcolor": "white",
            "linecolor": "white",
            "ticks": ""
           },
           "bgcolor": "#E5ECF6",
           "radialaxis": {
            "gridcolor": "white",
            "linecolor": "white",
            "ticks": ""
           }
          },
          "scene": {
           "xaxis": {
            "backgroundcolor": "#E5ECF6",
            "gridcolor": "white",
            "gridwidth": 2,
            "linecolor": "white",
            "showbackground": true,
            "ticks": "",
            "zerolinecolor": "white"
           },
           "yaxis": {
            "backgroundcolor": "#E5ECF6",
            "gridcolor": "white",
            "gridwidth": 2,
            "linecolor": "white",
            "showbackground": true,
            "ticks": "",
            "zerolinecolor": "white"
           },
           "zaxis": {
            "backgroundcolor": "#E5ECF6",
            "gridcolor": "white",
            "gridwidth": 2,
            "linecolor": "white",
            "showbackground": true,
            "ticks": "",
            "zerolinecolor": "white"
           }
          },
          "shapedefaults": {
           "line": {
            "color": "#2a3f5f"
           }
          },
          "ternary": {
           "aaxis": {
            "gridcolor": "white",
            "linecolor": "white",
            "ticks": ""
           },
           "baxis": {
            "gridcolor": "white",
            "linecolor": "white",
            "ticks": ""
           },
           "bgcolor": "#E5ECF6",
           "caxis": {
            "gridcolor": "white",
            "linecolor": "white",
            "ticks": ""
           }
          },
          "title": {
           "x": 0.05
          },
          "xaxis": {
           "automargin": true,
           "gridcolor": "white",
           "linecolor": "white",
           "ticks": "",
           "title": {
            "standoff": 15
           },
           "zerolinecolor": "white",
           "zerolinewidth": 2
          },
          "yaxis": {
           "automargin": true,
           "gridcolor": "white",
           "linecolor": "white",
           "ticks": "",
           "title": {
            "standoff": 15
           },
           "zerolinecolor": "white",
           "zerolinewidth": 2
          }
         }
        },
        "title": {
         "text": "Feature 3 vs Y"
        },
        "xaxis": {
         "title": {
          "text": "X3"
         }
        },
        "yaxis": {
         "title": {
          "text": "Y"
         }
        }
       }
      }
     },
     "metadata": {},
     "output_type": "display_data"
    }
   ],
   "source": [
    "reg.plot_residuals(X,Y)\n",
    "reg.Beta\n",
    "reg.coef\n",
    "reg.feature_names\n",
    "reg.MAE(X,Y)\n",
    "reg.score(X,Y)\n",
    "reg.predict(X)\n",
    "reg.plot(X,Y)"
   ]
  },
  {
   "cell_type": "code",
   "execution_count": 18,
   "id": "09632c38",
   "metadata": {},
   "outputs": [
    {
     "name": "stdout",
     "output_type": "stream",
     "text": [
      "================================================================================\n",
      "        The Ramsey RESET test for linearity\n",
      "        Test Statistic : 0.5453 \n",
      "        P-value        : 0.4606 \n",
      "        Interpretation : The model is likely correctly specified ✅\n",
      "================================================================================\n",
      "        \n",
      "================================================================================\n",
      "        Breusch-Pagan Test for Heteroscedasticity\n",
      "        Test Statistic : 2.1203\n",
      "        P-value        : 0.5478\n",
      "        Interpretation : No evidence of heteroscedasticity — residuals appear homoscedastic. ✅\n",
      "================================================================================\n",
      "        \n",
      "================================================================================\n",
      "        Durbin-Watson Test for Independence of Errors\n",
      "        DW Statistic  : 1.9749\n",
      "        Interpretation: No autocorrelation ✅ \n",
      "    ================================================================================\n",
      "        \n",
      "================================================================================\n",
      "        VIF Test for Multicollinearity\n",
      "        Feature 1: VIF = 1.0016853118975928 | No Multicollinearity ✅\n",
      "        Feature 2: VIF = 1.001653888642085 | No Multicollinearity ✅\n",
      "        Feature 3: VIF = 1.0017339999407102 | No Multicollinearity ✅\n",
      "================================================================================\n",
      "================================================================================\n",
      "        Shapiro-Wilk normality test of residuals \n",
      "\n",
      "        Residuals are from normal distribution ✅\n",
      "================================================================================\n"
     ]
    }
   ],
   "source": [
    "ridge.run_assumptions(X,Y)"
   ]
  },
  {
   "cell_type": "code",
   "execution_count": 19,
   "id": "0a92a876",
   "metadata": {},
   "outputs": [
    {
     "name": "stdout",
     "output_type": "stream",
     "text": [
      "╒══════════╤═════════╕\n",
      "│ Metric   │   Value │\n",
      "╞══════════╪═════════╡\n",
      "│ MAE      │  0.4859 │\n",
      "├──────────┼─────────┤\n",
      "│ RMSE     │  0.5939 │\n",
      "├──────────┼─────────┤\n",
      "│ MSE      │  0.3527 │\n",
      "╘══════════╧═════════╛\n",
      "╒══════════╤═════════╕\n",
      "│ Metric   │   Value │\n",
      "╞══════════╪═════════╡\n",
      "│ MAE      │  0.4342 │\n",
      "├──────────┼─────────┤\n",
      "│ RMSE     │  0.534  │\n",
      "├──────────┼─────────┤\n",
      "│ MSE      │  0.2852 │\n",
      "╘══════════╧═════════╛\n",
      "╒══════════╤═════════╕\n",
      "│ Metric   │   Value │\n",
      "╞══════════╪═════════╡\n",
      "│ MAE      │  0.4335 │\n",
      "├──────────┼─────────┤\n",
      "│ RMSE     │  0.5337 │\n",
      "├──────────┼─────────┤\n",
      "│ MSE      │  0.2848 │\n",
      "╘══════════╧═════════╛\n"
     ]
    },
    {
     "data": {
      "text/plain": [
       "Array(0.932923, dtype=float32)"
      ]
     },
     "execution_count": 19,
     "metadata": {},
     "output_type": "execute_result"
    }
   ],
   "source": [
    "lasso.print_errors(X_test,Y_test), ridge.print_errors(X_test,Y_test), reg.print_errors(X_test,Y_test)\n",
    "lasso.score(X_test,Y_test)"
   ]
  },
  {
   "cell_type": "code",
   "execution_count": null,
   "id": "ed86da44",
   "metadata": {},
   "outputs": [],
   "source": [
    "import inspect\n",
    "\n",
    "def call_all_methods(instance, X, Y):\n",
    "    for name, method in inspect.getmembers(instance, predicate=inspect.ismethod):\n",
    "        if name.startswith(\"__\"):\n",
    "            continue  # skip dunders\n",
    "\n",
    "        sig = inspect.signature(method)\n",
    "        num_args = len(sig.parameters)\n",
    "\n",
    "        print(f\"Calling {name} with {num_args} argument(s)...\")\n",
    "\n",
    "        try:\n",
    "            if num_args == 1:\n",
    "                method(X)\n",
    "            elif num_args == 2:\n",
    "                method(X, Y)\n",
    "            else:\n",
    "                print(f\"⚠️ Skipping {name} — expects {num_args} arguments\")\n",
    "        except Exception as e:\n",
    "            print(f\"❌ Failed to call {name}: {e}\")\n"
   ]
  },
  {
   "cell_type": "code",
   "execution_count": 21,
   "id": "6c5603d1",
   "metadata": {},
   "outputs": [
    {
     "name": "stdout",
     "output_type": "stream",
     "text": [
      "Calling MAE with 2 argument(s)...\n",
      "Calling MSE with 2 argument(s)...\n",
      "Calling RMSE with 2 argument(s)...\n",
      "Calling check_Linearity with 4 argument(s)...\n",
      "⚠️ Skipping check_Linearity — expects 4 arguments\n",
      "Calling check_homoscedasticity with 2 argument(s)...\n",
      "================================================================================\n",
      "        Breusch-Pagan Test for Heteroscedasticity\n",
      "        Test Statistic : 2.1854\n",
      "        P-value        : 0.5348\n",
      "        Interpretation : No evidence of heteroscedasticity — residuals appear homoscedastic. ✅\n",
      "================================================================================\n",
      "        \n",
      "Calling check_independence with 2 argument(s)...\n",
      "================================================================================\n",
      "        Durbin-Watson Test for Independence of Errors\n",
      "        DW Statistic  : 1.9753\n",
      "        Interpretation: No autocorrelation ✅ \n",
      "    ================================================================================\n",
      "        \n",
      "Calling check_multicollinearity with 2 argument(s)...\n",
      "================================================================================\n",
      "        VIF Test for Multicollinearity\n",
      "        Feature 1: VIF = 1.0016853118975928 | No Multicollinearity ✅\n",
      "        Feature 2: VIF = 1.001653888642085 | No Multicollinearity ✅\n",
      "        Feature 3: VIF = 1.0017339999407102 | No Multicollinearity ✅\n",
      "================================================================================\n",
      "Calling check_normality_of_resid with 2 argument(s)...\n",
      "================================================================================\n",
      "        Shapiro-Wilk normality test of residuals \n",
      "\n",
      "        Residuals are from normal distribution ✅\n",
      "================================================================================\n",
      "Calling fit with 2 argument(s)...\n",
      "Calling plot with 2 argument(s)...\n"
     ]
    },
    {
     "data": {
      "application/vnd.plotly.v1+json": {
       "config": {
        "plotlyServerURL": "https://plot.ly"
       },
       "data": [
        {
         "mode": "markers",
         "name": "Data Points",
         "type": "scatter",
         "x": {
          "bdata": "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",
          "dtype": "f8"
         },
         "y": {
          "bdata": "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",
          "dtype": "f8"
         }
        },
        {
         "mode": "lines",
         "name": "Regression Line",
         "type": "scatter",
         "x": {
          "bdata": "FD1W6qrpEsCIFxgyJWISwP3x2Xmf2hHAccybwRlTEcDmpl0JlMsQwFqBH1EORBDAnLfCMRF5D8CFbEbBBWoOwG4hylD6Wg3AV9ZN4O5LDMBAi9Fv4zwLwChAVf/XLQrAEfXYjsweCcD6qVwewQ8IwOJe4K21AAfAyxNkParxBcC0yOfMnuIEwJ19a1yT0wPAhjLv64fEAsBu53J7fLUBwFec9gpxpgDAgKL0NMsu/79QDPxTtBD9vyJ2A3Od8vq/9N8KkobU+L/GSRKxb7b2v5izGdBYmPS/aB0h70F68r86hygOK1zwvxjiX1oofOy/uLVumPo/6L9giX3WzAPkvwC6GCk+j9+/QGE2peIW178gEahCDj3Nv0C/xnWumLi/AEeFM3+Roj9AA6bUFpXFP2BaNe7mQtM/ELMXckK72z/oBf36zhniP0gy7rz8VeY/oF7ffiqS6j8Ai9BAWM7uP7DbYAFDhfE/3HFZ4lmj8z8MCFLDcMH1PzieSqSH3/c/aDRDhZ79+T+YyjtmtRv8P8RgNEfMOf4/ensWlPErAECQxpIE/ToBQKgRD3UISgJAwFyL5RNZA0DWpwdWH2gEQO7yg8YqdwVABj4ANzaGBkAciXynQZUHQDTU+BdNpAhATB91iFizCUBkavH4Y8IKQHi1bWlv0QtAkADq2XrgDECoS2ZKhu8NQMCW4rqR/g5A7HCvlc4GEEB2lu1NVI4QQAK8KwbaFRFAjuFpvl+dEUAaB6h25SQSQKYs5i5rrBJAMFIk5/AzE0C8d2KfdrsTQEidoFf8QhRA1MLeD4LKFEBg6BzIB1IVQOwNW4CN2RVAdjOZOBNhFkACWdfwmOgWQI5+FakecBdAGqRTYaT3F0CmyZEZKn8YQDDvz9GvBhlAvBQOijWOGUBIOkxCuxUaQNRfivpAnRpAYIXIssYkG0DsqgZrTKwbQHbQRCPSMxxAAvaC21e7HECOG8GT3UIdQBpB/0tjyh1ApmY9BOlRHkAwjHu8btkeQLyxuXT0YB9ASNf3LHroH0Bq/pry/zcgQDARus7CeyBA9SPZqoW/IEA=",
          "dtype": "f8"
         },
         "y": {
          "bdata": "BVAtQQWPEkDo6sT4JBkTQMmFXLBEoxNAqyD0Z2QtFECMu4sfhLcUQG5WI9ejQRVAUfG6jsPLFUAyjFJG41UWQBQn6v0C4BZA9sGBtSJqF0DYXBltQvQXQLr3sCRifhhAnJJI3IEIGUB9LeCToZIZQGDId0vBHBpAQWMPA+GmGkAj/qa6ADEbQASZPnIguxtA5jPWKUBFHEDIzm3hX88cQKppBZl/WR1AjASdUJ/jHUBunzQIv20eQFA6zL/e9x5AMtVjd/6BH0AKuH0XDwYgQHqFSfMeSyBA7FIVzy6QIEBcIOGqPtUgQM3trIZOGiFAPrt4Yl5fIUCviEQ+bqQhQCBWEBp+6SFAkSPc9Y0uIkAC8afRnXMiQHO+c62tuCJA5Is/ib39IkBVWQtlzUIjQMYm10DdhyNANvSiHO3MI0CowW74/BEkQBmPOtQMVyRAiVwGsBycJED6KdKLLOEkQGz3nWc8JiVA3MRpQ0xrJUBNkjUfXLAlQL5fAftr9SVALy3N1ns6JkCg+piyi38mQBHIZI6bxCZAgpUwaqsJJ0DyYvxFu04nQGQwyCHLkydA1P2T/drYJ0BFy1/Z6h0oQLaYK7X6YihAKGb3kAqoKECYM8NsGu0oQAkBj0gqMilAes5aJDp3KUDrmyYASrwpQFxp8ttZASpAzDa+t2lGKkA+BIqTeYsqQK/RVW+J0CpAIJ8hS5kVK0CQbO0mqVorQAE6uQK5nytAcgeF3sjkK0Dk1FC62CksQFSiHJbobixAxG/ocfizLEA2PbRNCPksQKcKgCkYPi1AGNhLBSiDLUCJpRfhN8gtQPpy47xHDS5AakCvmFdSLkDcDXt0Z5cuQEzbRlB33C5AvqgSLIchL0Audt4Hl2YvQJ5DquOmqy9AEBF2v7bwL0BA76BN4xowQPnVhjtrPTBAsrxsKfNfMEBqo1IXe4IwQCKKOAUDpTBA23Ae84rHMECTVwThEuowQEw+6s6aDDFABCXQvCIvMUC8C7aqqlExQHXym5gydDFALtmBhrqWMUDmv2d0QrkxQJ6mTWLK2zFAVo0zUFL+MUA=",
          "dtype": "f8"
         }
        }
       ],
       "layout": {
        "template": {
         "data": {
          "bar": [
           {
            "error_x": {
             "color": "#2a3f5f"
            },
            "error_y": {
             "color": "#2a3f5f"
            },
            "marker": {
             "line": {
              "color": "#E5ECF6",
              "width": 0.5
             },
             "pattern": {
              "fillmode": "overlay",
              "size": 10,
              "solidity": 0.2
             }
            },
            "type": "bar"
           }
          ],
          "barpolar": [
           {
            "marker": {
             "line": {
              "color": "#E5ECF6",
              "width": 0.5
             },
             "pattern": {
              "fillmode": "overlay",
              "size": 10,
              "solidity": 0.2
             }
            },
            "type": "barpolar"
           }
          ],
          "carpet": [
           {
            "aaxis": {
             "endlinecolor": "#2a3f5f",
             "gridcolor": "white",
             "linecolor": "white",
             "minorgridcolor": "white",
             "startlinecolor": "#2a3f5f"
            },
            "baxis": {
             "endlinecolor": "#2a3f5f",
             "gridcolor": "white",
             "linecolor": "white",
             "minorgridcolor": "white",
             "startlinecolor": "#2a3f5f"
            },
            "type": "carpet"
           }
          ],
          "choropleth": [
           {
            "colorbar": {
             "outlinewidth": 0,
             "ticks": ""
            },
            "type": "choropleth"
           }
          ],
          "contour": [
           {
            "colorbar": {
             "outlinewidth": 0,
             "ticks": ""
            },
            "colorscale": [
             [
              0,
              "#0d0887"
             ],
             [
              0.1111111111111111,
              "#46039f"
             ],
             [
              0.2222222222222222,
              "#7201a8"
             ],
             [
              0.3333333333333333,
              "#9c179e"
             ],
             [
              0.4444444444444444,
              "#bd3786"
             ],
             [
              0.5555555555555556,
              "#d8576b"
             ],
             [
              0.6666666666666666,
              "#ed7953"
             ],
             [
              0.7777777777777778,
              "#fb9f3a"
             ],
             [
              0.8888888888888888,
              "#fdca26"
             ],
             [
              1,
              "#f0f921"
             ]
            ],
            "type": "contour"
           }
          ],
          "contourcarpet": [
           {
            "colorbar": {
             "outlinewidth": 0,
             "ticks": ""
            },
            "type": "contourcarpet"
           }
          ],
          "heatmap": [
           {
            "colorbar": {
             "outlinewidth": 0,
             "ticks": ""
            },
            "colorscale": [
             [
              0,
              "#0d0887"
             ],
             [
              0.1111111111111111,
              "#46039f"
             ],
             [
              0.2222222222222222,
              "#7201a8"
             ],
             [
              0.3333333333333333,
              "#9c179e"
             ],
             [
              0.4444444444444444,
              "#bd3786"
             ],
             [
              0.5555555555555556,
              "#d8576b"
             ],
             [
              0.6666666666666666,
              "#ed7953"
             ],
             [
              0.7777777777777778,
              "#fb9f3a"
             ],
             [
              0.8888888888888888,
              "#fdca26"
             ],
             [
              1,
              "#f0f921"
             ]
            ],
            "type": "heatmap"
           }
          ],
          "histogram": [
           {
            "marker": {
             "pattern": {
              "fillmode": "overlay",
              "size": 10,
              "solidity": 0.2
             }
            },
            "type": "histogram"
           }
          ],
          "histogram2d": [
           {
            "colorbar": {
             "outlinewidth": 0,
             "ticks": ""
            },
            "colorscale": [
             [
              0,
              "#0d0887"
             ],
             [
              0.1111111111111111,
              "#46039f"
             ],
             [
              0.2222222222222222,
              "#7201a8"
             ],
             [
              0.3333333333333333,
              "#9c179e"
             ],
             [
              0.4444444444444444,
              "#bd3786"
             ],
             [
              0.5555555555555556,
              "#d8576b"
             ],
             [
              0.6666666666666666,
              "#ed7953"
             ],
             [
              0.7777777777777778,
              "#fb9f3a"
             ],
             [
              0.8888888888888888,
              "#fdca26"
             ],
             [
              1,
              "#f0f921"
             ]
            ],
            "type": "histogram2d"
           }
          ],
          "histogram2dcontour": [
           {
            "colorbar": {
             "outlinewidth": 0,
             "ticks": ""
            },
            "colorscale": [
             [
              0,
              "#0d0887"
             ],
             [
              0.1111111111111111,
              "#46039f"
             ],
             [
              0.2222222222222222,
              "#7201a8"
             ],
             [
              0.3333333333333333,
              "#9c179e"
             ],
             [
              0.4444444444444444,
              "#bd3786"
             ],
             [
              0.5555555555555556,
              "#d8576b"
             ],
             [
              0.6666666666666666,
              "#ed7953"
             ],
             [
              0.7777777777777778,
              "#fb9f3a"
             ],
             [
              0.8888888888888888,
              "#fdca26"
             ],
             [
              1,
              "#f0f921"
             ]
            ],
            "type": "histogram2dcontour"
           }
          ],
          "mesh3d": [
           {
            "colorbar": {
             "outlinewidth": 0,
             "ticks": ""
            },
            "type": "mesh3d"
           }
          ],
          "parcoords": [
           {
            "line": {
             "colorbar": {
              "outlinewidth": 0,
              "ticks": ""
             }
            },
            "type": "parcoords"
           }
          ],
          "pie": [
           {
            "automargin": true,
            "type": "pie"
           }
          ],
          "scatter": [
           {
            "fillpattern": {
             "fillmode": "overlay",
             "size": 10,
             "solidity": 0.2
            },
            "type": "scatter"
           }
          ],
          "scatter3d": [
           {
            "line": {
             "colorbar": {
              "outlinewidth": 0,
              "ticks": ""
             }
            },
            "marker": {
             "colorbar": {
              "outlinewidth": 0,
              "ticks": ""
             }
            },
            "type": "scatter3d"
           }
          ],
          "scattercarpet": [
           {
            "marker": {
             "colorbar": {
              "outlinewidth": 0,
              "ticks": ""
             }
            },
            "type": "scattercarpet"
           }
          ],
          "scattergeo": [
           {
            "marker": {
             "colorbar": {
              "outlinewidth": 0,
              "ticks": ""
             }
            },
            "type": "scattergeo"
           }
          ],
          "scattergl": [
           {
            "marker": {
             "colorbar": {
              "outlinewidth": 0,
              "ticks": ""
             }
            },
            "type": "scattergl"
           }
          ],
          "scattermap": [
           {
            "marker": {
             "colorbar": {
              "outlinewidth": 0,
              "ticks": ""
             }
            },
            "type": "scattermap"
           }
          ],
          "scattermapbox": [
           {
            "marker": {
             "colorbar": {
              "outlinewidth": 0,
              "ticks": ""
             }
            },
            "type": "scattermapbox"
           }
          ],
          "scatterpolar": [
           {
            "marker": {
             "colorbar": {
              "outlinewidth": 0,
              "ticks": ""
             }
            },
            "type": "scatterpolar"
           }
          ],
          "scatterpolargl": [
           {
            "marker": {
             "colorbar": {
              "outlinewidth": 0,
              "ticks": ""
             }
            },
            "type": "scatterpolargl"
           }
          ],
          "scatterternary": [
           {
            "marker": {
             "colorbar": {
              "outlinewidth": 0,
              "ticks": ""
             }
            },
            "type": "scatterternary"
           }
          ],
          "surface": [
           {
            "colorbar": {
             "outlinewidth": 0,
             "ticks": ""
            },
            "colorscale": [
             [
              0,
              "#0d0887"
             ],
             [
              0.1111111111111111,
              "#46039f"
             ],
             [
              0.2222222222222222,
              "#7201a8"
             ],
             [
              0.3333333333333333,
              "#9c179e"
             ],
             [
              0.4444444444444444,
              "#bd3786"
             ],
             [
              0.5555555555555556,
              "#d8576b"
             ],
             [
              0.6666666666666666,
              "#ed7953"
             ],
             [
              0.7777777777777778,
              "#fb9f3a"
             ],
             [
              0.8888888888888888,
              "#fdca26"
             ],
             [
              1,
              "#f0f921"
             ]
            ],
            "type": "surface"
           }
          ],
          "table": [
           {
            "cells": {
             "fill": {
              "color": "#EBF0F8"
             },
             "line": {
              "color": "white"
             }
            },
            "header": {
             "fill": {
              "color": "#C8D4E3"
             },
             "line": {
              "color": "white"
             }
            },
            "type": "table"
           }
          ]
         },
         "layout": {
          "annotationdefaults": {
           "arrowcolor": "#2a3f5f",
           "arrowhead": 0,
           "arrowwidth": 1
          },
          "autotypenumbers": "strict",
          "coloraxis": {
           "colorbar": {
            "outlinewidth": 0,
            "ticks": ""
           }
          },
          "colorscale": {
           "diverging": [
            [
             0,
             "#8e0152"
            ],
            [
             0.1,
             "#c51b7d"
            ],
            [
             0.2,
             "#de77ae"
            ],
            [
             0.3,
             "#f1b6da"
            ],
            [
             0.4,
             "#fde0ef"
            ],
            [
             0.5,
             "#f7f7f7"
            ],
            [
             0.6,
             "#e6f5d0"
            ],
            [
             0.7,
             "#b8e186"
            ],
            [
             0.8,
             "#7fbc41"
            ],
            [
             0.9,
             "#4d9221"
            ],
            [
             1,
             "#276419"
            ]
           ],
           "sequential": [
            [
             0,
             "#0d0887"
            ],
            [
             0.1111111111111111,
             "#46039f"
            ],
            [
             0.2222222222222222,
             "#7201a8"
            ],
            [
             0.3333333333333333,
             "#9c179e"
            ],
            [
             0.4444444444444444,
             "#bd3786"
            ],
            [
             0.5555555555555556,
             "#d8576b"
            ],
            [
             0.6666666666666666,
             "#ed7953"
            ],
            [
             0.7777777777777778,
             "#fb9f3a"
            ],
            [
             0.8888888888888888,
             "#fdca26"
            ],
            [
             1,
             "#f0f921"
            ]
           ],
           "sequentialminus": [
            [
             0,
             "#0d0887"
            ],
            [
             0.1111111111111111,
             "#46039f"
            ],
            [
             0.2222222222222222,
             "#7201a8"
            ],
            [
             0.3333333333333333,
             "#9c179e"
            ],
            [
             0.4444444444444444,
             "#bd3786"
            ],
            [
             0.5555555555555556,
             "#d8576b"
            ],
            [
             0.6666666666666666,
             "#ed7953"
            ],
            [
             0.7777777777777778,
             "#fb9f3a"
            ],
            [
             0.8888888888888888,
             "#fdca26"
            ],
            [
             1,
             "#f0f921"
            ]
           ]
          },
          "colorway": [
           "#636efa",
           "#EF553B",
           "#00cc96",
           "#ab63fa",
           "#FFA15A",
           "#19d3f3",
           "#FF6692",
           "#B6E880",
           "#FF97FF",
           "#FECB52"
          ],
          "font": {
           "color": "#2a3f5f"
          },
          "geo": {
           "bgcolor": "white",
           "lakecolor": "white",
           "landcolor": "#E5ECF6",
           "showlakes": true,
           "showland": true,
           "subunitcolor": "white"
          },
          "hoverlabel": {
           "align": "left"
          },
          "hovermode": "closest",
          "mapbox": {
           "style": "light"
          },
          "paper_bgcolor": "white",
          "plot_bgcolor": "#E5ECF6",
          "polar": {
           "angularaxis": {
            "gridcolor": "white",
            "linecolor": "white",
            "ticks": ""
           },
           "bgcolor": "#E5ECF6",
           "radialaxis": {
            "gridcolor": "white",
            "linecolor": "white",
            "ticks": ""
           }
          },
          "scene": {
           "xaxis": {
            "backgroundcolor": "#E5ECF6",
            "gridcolor": "white",
            "gridwidth": 2,
            "linecolor": "white",
            "showbackground": true,
            "ticks": "",
            "zerolinecolor": "white"
           },
           "yaxis": {
            "backgroundcolor": "#E5ECF6",
            "gridcolor": "white",
            "gridwidth": 2,
            "linecolor": "white",
            "showbackground": true,
            "ticks": "",
            "zerolinecolor": "white"
           },
           "zaxis": {
            "backgroundcolor": "#E5ECF6",
            "gridcolor": "white",
            "gridwidth": 2,
            "linecolor": "white",
            "showbackground": true,
            "ticks": "",
            "zerolinecolor": "white"
           }
          },
          "shapedefaults": {
           "line": {
            "color": "#2a3f5f"
           }
          },
          "ternary": {
           "aaxis": {
            "gridcolor": "white",
            "linecolor": "white",
            "ticks": ""
           },
           "baxis": {
            "gridcolor": "white",
            "linecolor": "white",
            "ticks": ""
           },
           "bgcolor": "#E5ECF6",
           "caxis": {
            "gridcolor": "white",
            "linecolor": "white",
            "ticks": ""
           }
          },
          "title": {
           "x": 0.05
          },
          "xaxis": {
           "automargin": true,
           "gridcolor": "white",
           "linecolor": "white",
           "ticks": "",
           "title": {
            "standoff": 15
           },
           "zerolinecolor": "white",
           "zerolinewidth": 2
          },
          "yaxis": {
           "automargin": true,
           "gridcolor": "white",
           "linecolor": "white",
           "ticks": "",
           "title": {
            "standoff": 15
           },
           "zerolinecolor": "white",
           "zerolinewidth": 2
          }
         }
        },
        "title": {
         "text": "Feature 1 vs Y"
        },
        "xaxis": {
         "title": {
          "text": "X1"
         }
        },
        "yaxis": {
         "title": {
          "text": "Y"
         }
        }
       }
      }
     },
     "metadata": {},
     "output_type": "display_data"
    },
    {
     "data": {
      "application/vnd.plotly.v1+json": {
       "config": {
        "plotlyServerURL": "https://plot.ly"
       },
       "data": [
        {
         "mode": "markers",
         "name": "Data Points",
         "type": "scatter",
         "x": {
          "bdata": "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",
          "dtype": "f8"
         },
         "y": {
          "bdata": "e2bHJf8mM0C/Cv7GOdApQKYkmd7PbStAt81tNQymLUAPAHy+qT4kQHNm+fv38ipAESEB3y4pJkA4t1nyj4QqQBNfgd7w7yNA/uMAIJJ9KEDfdsQIHL0nQAhCB+rLqC5AMo50cBo9KUCWnQ5PC9EmQN4n0fDKJCZA5Rt9Cjf1JkDaLP7yypohQILjq0FDZydAWHax3OoDJ0D6JeQ1DgolQITTK2J3YCJAts1l2eC0L0COkyrp5L8kQAMV8gQhdi9AJnIgMIjXIkBypHqhGMssQMuDyiWTuidAINl6qSUiHkAWtXNXJgwkQIBC6My76SxAL7W/THwvJ0CwasXh/sEjQKATxDXt3hpAGcUpnTsLLEA40bZVtSgrQL/L3NOBKzFAeaOhJfs9IkCgEMZ48e0mQCJuL2yXkSdAicK3ZQnEIEDithND3pQmQLRLAvW+1ClAmnJGHm5fKkDz29CWFcQjQAYcxUnyfCNAwefMCH0LKECWHBEH5aUtQHyw6+Ds/BtA3XJyy1TRE0AmfxKBD2MpQOSUu97lfiRANmf4PfMTLECW/G7CVPAkQLeoWe+R7StA+6nLvlQOI0DU71cttwEmQMCX3rHYiiRArtY7bDOgFkBw3aBCLT8vQDQ8cIDGADBALBwHJ1iUJ0Cg2pC5gVgpQA7hFt2WBSpA0mO3nzcgLEAw6nCn3dMpQPo3RG4IHCJA5Vzk85lII0CAPgDHhzwkQCAMYMYEpSdAbpwSuT8uJUD+02YXZUooQGytSXXE/iNAfL63l//9JED6Pv8huosiQHZJbU55LipAQzR9dHXxIECZoELumlkoQHlkcQc+oCNAOMbg0gNcIkDEf9QJjbUpQO0kvbzX4yZAPhKJRilKMUAcYsyxc24sQIigX75zFSRAIR99cbN3I0BlyCETWVYgQACGYHtDxyJA+wEl3DyoH0Ao75H3t9QuQDryQ+5gWhxAsaM7XZG7KkBmdfg6NU4pQAaBwIGgsipAJC1DMGvEK0B2rB4K1MMhQObeeZHSwydAmNfHFGUKJkBqf3uZoLsaQOImiw0ncCVAHDHjenOwIUAyw6qqvmIxQLUPdo6vUCdAnmDQuitQIkBFeoEGqLEoQGIPK+vKyyJAFDCfzdplLUDZbaQtXJAtQGLBvpz+3yBA4t8eVNCPIECo67FD3W0hQIR0IrlZSStAiLgLh0BpIUCQVmmeD1YmQK4AaTQ0vyRAuCMP+/a/JUBxEnCzw1ckQEblEcd3OiRAZmBYkxuKIEDOfKCn+vYiQLs2jdDOYSJAz0thV9ZUJkBuU3D0gxYiQPqnuB2AKCpAT68B/XHlIUAyjnfk6MMuQDzfyFcvBCBAeoMwxQMMJkAG2pc7OaQpQKj1CWQq7C1AiiVQP8SsH0AaWqiNjdQnQCQpS6BCyypA/sqHjmqRI0AJUMhXG/YgQJ7B6gooaSRASkj6B/JnL0DqLul1AwgmQH0DrQLNJyxAcV8iS/lFJkCioe+IQs8rQL7eRCmBdyVA9u+dclbgJUCyt2QUcFwuQM1DDom4biNAwHW8Dub/JUDv1qjAa0MoQBL9HseZsClAKqn0nfmdKECn9MWfFFMhQC5PXMrTiCNAzu01BDWYIkA1kZGsRjcmQGjuBNsviCRAiZaDvMHXIkCAQYk49+MkQENpqfmoOChADQVOXTc8J0BJQsnBfbAiQKgrkfI/4itAGuSJUP+aKkDm1NS3of8oQD8DqhiUNChAnquhvVYCK0DasLGO2nEvQKKfyaHu0RJAexYkSHoZIkCk7aGrNzIpQBQYnjkOei9A7hmEB11CJEAKERXQVisnQN72gVSxUy9Av5wSm1QaK0DCbw7/OYcmQHXeS/1jUidAM3VgifHrKUBMAHdn/YUsQB4mgT6DoihAt/4KuVWvKEBjETYXSmMpQFMO70cELyBAnFLSmxfsKUC+7JlAQXYrQP5QYJMQaCpAsL0i0urSI0CWW4bBQxooQAREO/LROihAHeUgHFfaIUBaZGIdgXIlQNzBm+kJBSBAnDDJjXNHLEC6k9XGhWMkQAqrCeOfdCtA+Z1GNFXZHEAtBRMZtMwrQMxs2EoCSCdASOGmTGoUJEDwIpKy+wIkQPAycMrkgS1ARm4/azfaKUD8er23kuYtQJ4L7WO0uilA9ol7R3beJUCsGZ8RwgMoQKKn36rtdCRAVjqy2WFsHkD9vhpaoJAiQKBrrPnnzCNAyOFL5iXoKkDFOvRC8ZsjQAWZ2EdEcidADLqN94w2IUDa9kGI+5sgQLOUnm0//ChAvpKZt2MkKEBFURF4bcwnQIwUqeSFBjBAsrjtFZaDI0A+gDMJowcjQBXYI4KkAidArYXnzGBiHkCwWFgLXtonQKksJKl06SVAH5q7GaHdJUD66TwJE0klQB8NcY7cWSlAd4LcG/L+K0BmExdXQuIiQLYTJ7kawilAIGznG9HXKkAKZ9j7lG4mQCc0EMJm3iZAZ09PcC1CKEDXhxIkAs0mQP7ckPr+hCdATQpkVWt4HkA7jv3TCuAqQB5MofFEGi1AcKMGza8GJ0D1qMHXaagmQC9xEeJEXilAw7X6OcF5JED56XMkrKwlQAh7Xz/+Ch9AKrsai4qaJ0DyB98vebQkQLO+MrX0EzBARs61pj/6LEB+t7SWg+wlQJNXClqp5jBATI+CslIBL0AGNMSMnJ8ZQNkgcB70ly1A5rvLASxwJUA0vDdtbXEmQGiI7CdCACVAIUpTmpUuKEALjWZWksIaQEyVVtvmdylAlKuIBPerJkAJUG6P2dIbQKvfxpxVMCdAiCybwtLSKEDX+mDiwv8lQOKBa85ewSpAeDqyj9WcJEAp3ilWlpgoQPR2RLB1rClAju87KG2YKkBQyjU0ZdgoQJYmaTCdai5Ay30pO+iwLEBD/68GBTcmQLBnyHEJsiVAKLpopsDpK0Ab8vYspQMuQE7vbCeDCzBA7O1NG2I2MEDWrc04C/4qQBgsXS8cFyZAsJn2w65iI0D3nOsNz0spQKHyKCbP+ypA5twWMhQnHEDHm4ieV/ssQDj71p/fTy1A430WhKNcGEDy+nUOQ4skQH6exhV4YilAfYMOdg3iJkCDN41I3QUmQNdvHoSuhSlAoPw8HbUzIEBskJQeVJMpQFkn9jm9My1AeHlh80PcIUAOj1iJhRQwQG6LmM+QtCZAS2nhb0K5IEAuqNKrNNQoQKNaa9u9GyhAK7NQ0YWkK0AzPSykb1ksQNAMkBGMPidAQMi1/kqdKEBLdWW6GOQgQAmVXhm+sSZAVEwVZKoxKkDsM8/k/OAmQHbZ8hM8ISpAGA8vU00pH0BcZTVsfCkiQKgdpkxcNzFAUH6vh/K0J0BaCEuKhgkoQGXiLDVdESpAjbz9NX+fMUAe483zlLAtQPqc6kLqvhhANYEqKW+oIUAWrZCx4BgfQNxx7EA/5ylAYrwGqi0jJEANspEziBQkQDnyRvpFKxtAz8IVefsQFkD1U+ZLC4koQEJ3XBpd7SxAnjg8zmx6K0DMklw1G9wqQJIWjRhwSitAIh8oR+2NKUBMvtOf9y0tQDawo8fuZCNAghhiyJgfJkCmueDbPWkmQFH8s3CgwCRAyJPALq9XLkBmJkN6q1smQKuBreVHHSdA/qYtRWawJkAEvWrLgdwnQAG6NgWJYRlA6nizbEuxJ0DSMk0fxQYxQL+zm1RdqCNAWPoltD4uMEAE1drP428uQKiXVjd1gSBAoEhj/b92JED0YtUMTm8nQA4Eod11/i1A6D/ETtsaJUB9Of1w5+YpQFA2UziJLCVAlH9S2yJGJ0D6rxFXhbopQHcp8/l0xCRAKIf1J7XwH0B5+6EE+uIqQKjvJVTeGyBAuMm/hhnPJkAiEyvnJA0nQJumGlaGuSlAPB/t0ViILkBv+b0XHIEsQHXz/bikySpAbFvUZ2gNIkDFQdHx7SgnQJfcv/pRzyBAdgg/JaRKJUBhxqhrRIckQIilScFM+yVAOk4/Dbz1IkBXoDzX5/EpQG4BXYCloSRAB3SubvLrJUAiryRnASgcQBKBvOxkDy5AcqhkA6TaJECqziwT0JAoQBRXVag+YCRA6RDfq6eFK0BVMu0v6yciQPftWq4UByNAzMakgAfoIkDavM+VkkUgQLYkxDu8LiJAHPKz3OVdK0APYh73CNAsQC27VEiZFCJA8i2g+VIAJ0AZ4rJET1YnQFmn/9B+DiRAM1imCQAJIkCaTHBNl9YmQF7VqE4RVx5AFd1i1dNoJkACiopTAkYsQLI4AkKXaSxAahYGsC91J0CrNCwSXU4jQD9XWUbb/SNAo7WEqIMMIkDUwy3enYkeQICWdFribiNA6Nd4dviZFEDrGth7qIwlQP/qFBBg0StABEk1IZWTMUCadm/FklkjQI5xQxN2/CxAgm+S3xv5JUAQoBy9kvgXQPRW9CSqqy5AVdUx14XKJkBefdtH7WYrQKnnHWzfZB5Avr4OCaFjMEBC+J7EhP0tQBxlDi7BayxArTug2Fn8JUBXbPhPi3IlQDG1H7VsrSxAuvERtYGlKEAIhNAMB6ApQPpAd1OiWSVAMvTqDlYxLEA1H5qQlxsnQHyoh3t+ASZALqB8CjwbLUBmYlyzHv8eQEvgA72wridAQ3g1mo/RKUAE8eg4R8sdQGA8TckD+R5AykFPDX7YK0DMz5d8gpMqQCSyedB63ClAZAlSNL19LECSYBy5jOQnQCQPn/BFsDBAmILQrwW8KUAEVE7HOo0kQFTQXw/wryVAh4NVIxvTJEBb3OsUaaYjQNAYU/BOeitAyoJqlg2DKUCmDV+IkBojQFeVwrCDXCpA1M8zphFOKkDW/2XUUdolQC97CoHodCFAC55spTmhLEBI1LNwuwMmQPDMxxgaeCxA/qPGr7pGKkCvk7drr/MiQDhf/P+vgypAsShUskn1I0A3VQVFF00mQNxZVjh8NClAfQs7V3HoJUAqeH/JWwsnQFtAnQipbB5AfLnqqvTVJUDSKsOYJXkwQGJzgRD2ghFAWv38MQUYLEAf4ogIJ1ApQCEwtE62fSFADq/wOqngIUAmuWoMLv4gQMoD9H4+QTBAnniyBfZ/LkDP8AVb6CArQF7UZjgXySdA9u5eQofILUDtQYFifoUoQODy7s6BtS1AiAkL+4aEJEBG34AP150lQA5cDxr2BTBAF4fZffBsKkBuVXvV+6weQNtl2uwC2hxApp9PcsgbJkC4Mj4AfEkpQGHDwFifrylAXM43738GLkCCRF+BGuIpQHqYxda/pCZATKEH111NLEC843kdP30mQHOMbxwrnSRARqjnyQZEJkAmZNByT4MlQHrnI5+6VyJAMIU6O8/vJ0A0q3bnBjwiQA==",
          "dtype": "f8"
         }
        },
        {
         "mode": "lines",
         "name": "Regression Line",
         "type": "scatter",
         "x": {
          "bdata": "Jp4NooWPGUCj3Tg6R8sZQCAdZNIIBxpAnFyPaspCGkAZnLoCjH4aQJbb5ZpNuhpAExsRMw/2GkCQWjzL0DEbQA2aZ2OSbRtAitmS+1OpG0AGGb6TFeUbQINY6SvXIBxAAJgUxJhcHEB91z9cWpgcQPoWa/Qb1BxAdlaWjN0PHUDzlcEkn0sdQHDV7Lxghx1A7RQYVSLDHUBqVEPt4/4dQOaTboWlOh5AZNOZHWd2HkDgEsW1KLIeQF1S8E3q7R5A2pEb5qspH0BX0UZ+bWUfQNQQchYvoR9AUFCdrvDcH0DnR2QjWQwgQKXnee85KiBAY4ePuxpIIEAiJ6WH+2UgQODGulPcgyBAn2bQH72hIEBdBubrnb8gQBym+7d+3SBA2kURhF/7IECY5SZQQBkhQFeFPBwhNyFAFSVS6AFVIUDUxGe04nIhQJJkfYDDkCFAUASTTKSuIUAPpKgYhcwhQM1DvuRl6iFAjOPTsEYIIkBKg+l8JyYiQAgj/0gIRCJAx8IUFelhIkCFYirhyX8iQEQCQK2qnSJAAqJVeYu7IkDAQWtFbNkiQH/hgBFN9yJAPYGW3S0VI0D8IKypDjMjQLrAwXXvUCNAeGDXQdBuI0A3AO0NsYwjQPafAtqRqiNAtD8YpnLII0By3y1yU+YjQDF/Qz40BCRA7x5ZChUiJECuvm7W9T8kQGxehKLWXSRAKv6Zbrd7JEDpna86mJkkQKc9xQZ5tyRAZt3a0lnVJEAkffCeOvMkQOIcBmsbESVAobwbN/wuJUBfXDED3UwlQB78Rs+9aiVA3Jtcm56IJUCaO3Jnf6YlQFnbhzNgxCVAGHud/0DiJUDWGrPLIQAmQJS6yJcCHiZAUlreY+M7JkAR+vMvxFkmQNCZCfykdyZAjjkfyIWVJkBM2TSUZrMmQAp5SmBH0SZAyRhgLCjvJkCIuHX4CA0nQEZYi8TpKidABPigkMpIJ0DCl7Zcq2YnQIE3zCiMhCdAQNfh9GyiJ0D+dvfATcAnQLwWDY0u3idAe7YiWQ/8J0A5Vjgl8BkoQPj1TfHQNyhAtpVjvbFVKEA=",
          "dtype": "f8"
         },
         "y": {
          "bdata": "aqf4qUJEIUB8nzwGe2QhQI6XgGKzhCFAn4/EvuukIUCwhwgbJMUhQMJ/THdc5SFA1HeQ05QFIkDmb9QvzSUiQPhnGIwFRiJACmBc6D1mIkAcWKBEdoYiQC5Q5KCupiJAP0go/ebGIkBRQGxZH+ciQGM4sLVXByNAdDD0EZAnI0CGKDhuyEcjQJggfMoAaCNAqhjAJjmII0C8EASDcagjQM4ISN+pyCNA4ACMO+LoI0Dw+M+XGgkkQALxE/RSKSRAFOlXUItJJEAm4Zusw2kkQDjZ3wj8iSRAStEjZTSqJEBcyWfBbMokQG7Bqx2l6iRAfrnved0KJUCSsTPWFSslQKKpdzJOSyVAtKG7joZrJUDGmf/qvoslQNiRQ0f3qyVA6omHoy/MJUD8gcv/Z+wlQA56D1ygDCZAIHJTuNgsJkAyapcUEU0mQEJi23BJbSZAVFofzYGNJkBmUmMpuq0mQHhKp4XyzSZAikLr4SruJkCcOi8+Yw4nQK4yc5qbLidAwCq39tNOJ0DQIvtSDG8nQOQaP69EjydA9BKDC32vJ0AGC8dntc8nQBgDC8Tt7ydAKvtOICYQKEA885J8XjAoQE7r1tiWUChAXuMaNc9wKEBy216RB5EoQITTou0/sShAlMvmSXjRKECmwyqmsPEoQLi7bgLpESlAyrOyXiEyKUDcq/a6WVIpQO6jOheScilAAJx+c8qSKUASlMLPArMpQCKMBiw70ylANoRKiHPzKUBGfI7kqxMqQFh00kDkMypAamwWnRxUKkB8ZFr5VHQqQI5cnlWNlCpAoFTiscW0KkCwTCYO/tQqQMREamo29SpA1jyuxm4VK0DoNPIipzUrQPgsNn/fVStACiV62xd2K0AcHb43UJYrQC4VApSItitAQA1G8MDWK0BSBYpM+fYrQGL9zagxFyxAdPURBWo3LECI7VVholcsQJjlmb3adyxAqt3dGROYLEC81SF2S7gsQM7NZdKD2CxA4MWpLrz4LEDyve2K9BgtQAK2MecsOS1AFq51Q2VZLUAmprmfnXktQDqe/fvVmS1ASpZBWA66LUA=",
          "dtype": "f8"
         }
        }
       ],
       "layout": {
        "template": {
         "data": {
          "bar": [
           {
            "error_x": {
             "color": "#2a3f5f"
            },
            "error_y": {
             "color": "#2a3f5f"
            },
            "marker": {
             "line": {
              "color": "#E5ECF6",
              "width": 0.5
             },
             "pattern": {
              "fillmode": "overlay",
              "size": 10,
              "solidity": 0.2
             }
            },
            "type": "bar"
           }
          ],
          "barpolar": [
           {
            "marker": {
             "line": {
              "color": "#E5ECF6",
              "width": 0.5
             },
             "pattern": {
              "fillmode": "overlay",
              "size": 10,
              "solidity": 0.2
             }
            },
            "type": "barpolar"
           }
          ],
          "carpet": [
           {
            "aaxis": {
             "endlinecolor": "#2a3f5f",
             "gridcolor": "white",
             "linecolor": "white",
             "minorgridcolor": "white",
             "startlinecolor": "#2a3f5f"
            },
            "baxis": {
             "endlinecolor": "#2a3f5f",
             "gridcolor": "white",
             "linecolor": "white",
             "minorgridcolor": "white",
             "startlinecolor": "#2a3f5f"
            },
            "type": "carpet"
           }
          ],
          "choropleth": [
           {
            "colorbar": {
             "outlinewidth": 0,
             "ticks": ""
            },
            "type": "choropleth"
           }
          ],
          "contour": [
           {
            "colorbar": {
             "outlinewidth": 0,
             "ticks": ""
            },
            "colorscale": [
             [
              0,
              "#0d0887"
             ],
             [
              0.1111111111111111,
              "#46039f"
             ],
             [
              0.2222222222222222,
              "#7201a8"
             ],
             [
              0.3333333333333333,
              "#9c179e"
             ],
             [
              0.4444444444444444,
              "#bd3786"
             ],
             [
              0.5555555555555556,
              "#d8576b"
             ],
             [
              0.6666666666666666,
              "#ed7953"
             ],
             [
              0.7777777777777778,
              "#fb9f3a"
             ],
             [
              0.8888888888888888,
              "#fdca26"
             ],
             [
              1,
              "#f0f921"
             ]
            ],
            "type": "contour"
           }
          ],
          "contourcarpet": [
           {
            "colorbar": {
             "outlinewidth": 0,
             "ticks": ""
            },
            "type": "contourcarpet"
           }
          ],
          "heatmap": [
           {
            "colorbar": {
             "outlinewidth": 0,
             "ticks": ""
            },
            "colorscale": [
             [
              0,
              "#0d0887"
             ],
             [
              0.1111111111111111,
              "#46039f"
             ],
             [
              0.2222222222222222,
              "#7201a8"
             ],
             [
              0.3333333333333333,
              "#9c179e"
             ],
             [
              0.4444444444444444,
              "#bd3786"
             ],
             [
              0.5555555555555556,
              "#d8576b"
             ],
             [
              0.6666666666666666,
              "#ed7953"
             ],
             [
              0.7777777777777778,
              "#fb9f3a"
             ],
             [
              0.8888888888888888,
              "#fdca26"
             ],
             [
              1,
              "#f0f921"
             ]
            ],
            "type": "heatmap"
           }
          ],
          "histogram": [
           {
            "marker": {
             "pattern": {
              "fillmode": "overlay",
              "size": 10,
              "solidity": 0.2
             }
            },
            "type": "histogram"
           }
          ],
          "histogram2d": [
           {
            "colorbar": {
             "outlinewidth": 0,
             "ticks": ""
            },
            "colorscale": [
             [
              0,
              "#0d0887"
             ],
             [
              0.1111111111111111,
              "#46039f"
             ],
             [
              0.2222222222222222,
              "#7201a8"
             ],
             [
              0.3333333333333333,
              "#9c179e"
             ],
             [
              0.4444444444444444,
              "#bd3786"
             ],
             [
              0.5555555555555556,
              "#d8576b"
             ],
             [
              0.6666666666666666,
              "#ed7953"
             ],
             [
              0.7777777777777778,
              "#fb9f3a"
             ],
             [
              0.8888888888888888,
              "#fdca26"
             ],
             [
              1,
              "#f0f921"
             ]
            ],
            "type": "histogram2d"
           }
          ],
          "histogram2dcontour": [
           {
            "colorbar": {
             "outlinewidth": 0,
             "ticks": ""
            },
            "colorscale": [
             [
              0,
              "#0d0887"
             ],
             [
              0.1111111111111111,
              "#46039f"
             ],
             [
              0.2222222222222222,
              "#7201a8"
             ],
             [
              0.3333333333333333,
              "#9c179e"
             ],
             [
              0.4444444444444444,
              "#bd3786"
             ],
             [
              0.5555555555555556,
              "#d8576b"
             ],
             [
              0.6666666666666666,
              "#ed7953"
             ],
             [
              0.7777777777777778,
              "#fb9f3a"
             ],
             [
              0.8888888888888888,
              "#fdca26"
             ],
             [
              1,
              "#f0f921"
             ]
            ],
            "type": "histogram2dcontour"
           }
          ],
          "mesh3d": [
           {
            "colorbar": {
             "outlinewidth": 0,
             "ticks": ""
            },
            "type": "mesh3d"
           }
          ],
          "parcoords": [
           {
            "line": {
             "colorbar": {
              "outlinewidth": 0,
              "ticks": ""
             }
            },
            "type": "parcoords"
           }
          ],
          "pie": [
           {
            "automargin": true,
            "type": "pie"
           }
          ],
          "scatter": [
           {
            "fillpattern": {
             "fillmode": "overlay",
             "size": 10,
             "solidity": 0.2
            },
            "type": "scatter"
           }
          ],
          "scatter3d": [
           {
            "line": {
             "colorbar": {
              "outlinewidth": 0,
              "ticks": ""
             }
            },
            "marker": {
             "colorbar": {
              "outlinewidth": 0,
              "ticks": ""
             }
            },
            "type": "scatter3d"
           }
          ],
          "scattercarpet": [
           {
            "marker": {
             "colorbar": {
              "outlinewidth": 0,
              "ticks": ""
             }
            },
            "type": "scattercarpet"
           }
          ],
          "scattergeo": [
           {
            "marker": {
             "colorbar": {
              "outlinewidth": 0,
              "ticks": ""
             }
            },
            "type": "scattergeo"
           }
          ],
          "scattergl": [
           {
            "marker": {
             "colorbar": {
              "outlinewidth": 0,
              "ticks": ""
             }
            },
            "type": "scattergl"
           }
          ],
          "scattermap": [
           {
            "marker": {
             "colorbar": {
              "outlinewidth": 0,
              "ticks": ""
             }
            },
            "type": "scattermap"
           }
          ],
          "scattermapbox": [
           {
            "marker": {
             "colorbar": {
              "outlinewidth": 0,
              "ticks": ""
             }
            },
            "type": "scattermapbox"
           }
          ],
          "scatterpolar": [
           {
            "marker": {
             "colorbar": {
              "outlinewidth": 0,
              "ticks": ""
             }
            },
            "type": "scatterpolar"
           }
          ],
          "scatterpolargl": [
           {
            "marker": {
             "colorbar": {
              "outlinewidth": 0,
              "ticks": ""
             }
            },
            "type": "scatterpolargl"
           }
          ],
          "scatterternary": [
           {
            "marker": {
             "colorbar": {
              "outlinewidth": 0,
              "ticks": ""
             }
            },
            "type": "scatterternary"
           }
          ],
          "surface": [
           {
            "colorbar": {
             "outlinewidth": 0,
             "ticks": ""
            },
            "colorscale": [
             [
              0,
              "#0d0887"
             ],
             [
              0.1111111111111111,
              "#46039f"
             ],
             [
              0.2222222222222222,
              "#7201a8"
             ],
             [
              0.3333333333333333,
              "#9c179e"
             ],
             [
              0.4444444444444444,
              "#bd3786"
             ],
             [
              0.5555555555555556,
              "#d8576b"
             ],
             [
              0.6666666666666666,
              "#ed7953"
             ],
             [
              0.7777777777777778,
              "#fb9f3a"
             ],
             [
              0.8888888888888888,
              "#fdca26"
             ],
             [
              1,
              "#f0f921"
             ]
            ],
            "type": "surface"
           }
          ],
          "table": [
           {
            "cells": {
             "fill": {
              "color": "#EBF0F8"
             },
             "line": {
              "color": "white"
             }
            },
            "header": {
             "fill": {
              "color": "#C8D4E3"
             },
             "line": {
              "color": "white"
             }
            },
            "type": "table"
           }
          ]
         },
         "layout": {
          "annotationdefaults": {
           "arrowcolor": "#2a3f5f",
           "arrowhead": 0,
           "arrowwidth": 1
          },
          "autotypenumbers": "strict",
          "coloraxis": {
           "colorbar": {
            "outlinewidth": 0,
            "ticks": ""
           }
          },
          "colorscale": {
           "diverging": [
            [
             0,
             "#8e0152"
            ],
            [
             0.1,
             "#c51b7d"
            ],
            [
             0.2,
             "#de77ae"
            ],
            [
             0.3,
             "#f1b6da"
            ],
            [
             0.4,
             "#fde0ef"
            ],
            [
             0.5,
             "#f7f7f7"
            ],
            [
             0.6,
             "#e6f5d0"
            ],
            [
             0.7,
             "#b8e186"
            ],
            [
             0.8,
             "#7fbc41"
            ],
            [
             0.9,
             "#4d9221"
            ],
            [
             1,
             "#276419"
            ]
           ],
           "sequential": [
            [
             0,
             "#0d0887"
            ],
            [
             0.1111111111111111,
             "#46039f"
            ],
            [
             0.2222222222222222,
             "#7201a8"
            ],
            [
             0.3333333333333333,
             "#9c179e"
            ],
            [
             0.4444444444444444,
             "#bd3786"
            ],
            [
             0.5555555555555556,
             "#d8576b"
            ],
            [
             0.6666666666666666,
             "#ed7953"
            ],
            [
             0.7777777777777778,
             "#fb9f3a"
            ],
            [
             0.8888888888888888,
             "#fdca26"
            ],
            [
             1,
             "#f0f921"
            ]
           ],
           "sequentialminus": [
            [
             0,
             "#0d0887"
            ],
            [
             0.1111111111111111,
             "#46039f"
            ],
            [
             0.2222222222222222,
             "#7201a8"
            ],
            [
             0.3333333333333333,
             "#9c179e"
            ],
            [
             0.4444444444444444,
             "#bd3786"
            ],
            [
             0.5555555555555556,
             "#d8576b"
            ],
            [
             0.6666666666666666,
             "#ed7953"
            ],
            [
             0.7777777777777778,
             "#fb9f3a"
            ],
            [
             0.8888888888888888,
             "#fdca26"
            ],
            [
             1,
             "#f0f921"
            ]
           ]
          },
          "colorway": [
           "#636efa",
           "#EF553B",
           "#00cc96",
           "#ab63fa",
           "#FFA15A",
           "#19d3f3",
           "#FF6692",
           "#B6E880",
           "#FF97FF",
           "#FECB52"
          ],
          "font": {
           "color": "#2a3f5f"
          },
          "geo": {
           "bgcolor": "white",
           "lakecolor": "white",
           "landcolor": "#E5ECF6",
           "showlakes": true,
           "showland": true,
           "subunitcolor": "white"
          },
          "hoverlabel": {
           "align": "left"
          },
          "hovermode": "closest",
          "mapbox": {
           "style": "light"
          },
          "paper_bgcolor": "white",
          "plot_bgcolor": "#E5ECF6",
          "polar": {
           "angularaxis": {
            "gridcolor": "white",
            "linecolor": "white",
            "ticks": ""
           },
           "bgcolor": "#E5ECF6",
           "radialaxis": {
            "gridcolor": "white",
            "linecolor": "white",
            "ticks": ""
           }
          },
          "scene": {
           "xaxis": {
            "backgroundcolor": "#E5ECF6",
            "gridcolor": "white",
            "gridwidth": 2,
            "linecolor": "white",
            "showbackground": true,
            "ticks": "",
            "zerolinecolor": "white"
           },
           "yaxis": {
            "backgroundcolor": "#E5ECF6",
            "gridcolor": "white",
            "gridwidth": 2,
            "linecolor": "white",
            "showbackground": true,
            "ticks": "",
            "zerolinecolor": "white"
           },
           "zaxis": {
            "backgroundcolor": "#E5ECF6",
            "gridcolor": "white",
            "gridwidth": 2,
            "linecolor": "white",
            "showbackground": true,
            "ticks": "",
            "zerolinecolor": "white"
           }
          },
          "shapedefaults": {
           "line": {
            "color": "#2a3f5f"
           }
          },
          "ternary": {
           "aaxis": {
            "gridcolor": "white",
            "linecolor": "white",
            "ticks": ""
           },
           "baxis": {
            "gridcolor": "white",
            "linecolor": "white",
            "ticks": ""
           },
           "bgcolor": "#E5ECF6",
           "caxis": {
            "gridcolor": "white",
            "linecolor": "white",
            "ticks": ""
           }
          },
          "title": {
           "x": 0.05
          },
          "xaxis": {
           "automargin": true,
           "gridcolor": "white",
           "linecolor": "white",
           "ticks": "",
           "title": {
            "standoff": 15
           },
           "zerolinecolor": "white",
           "zerolinewidth": 2
          },
          "yaxis": {
           "automargin": true,
           "gridcolor": "white",
           "linecolor": "white",
           "ticks": "",
           "title": {
            "standoff": 15
           },
           "zerolinecolor": "white",
           "zerolinewidth": 2
          }
         }
        },
        "title": {
         "text": "Feature 2 vs Y"
        },
        "xaxis": {
         "title": {
          "text": "X2"
         }
        },
        "yaxis": {
         "title": {
          "text": "Y"
         }
        }
       }
      }
     },
     "metadata": {},
     "output_type": "display_data"
    },
    {
     "data": {
      "application/vnd.plotly.v1+json": {
       "config": {
        "plotlyServerURL": "https://plot.ly"
       },
       "data": [
        {
         "mode": "markers",
         "name": "Data Points",
         "type": "scatter",
         "x": {
          "bdata": "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",
          "dtype": "f8"
         },
         "y": {
          "bdata": "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",
          "dtype": "f8"
         }
        },
        {
         "mode": "lines",
         "name": "Regression Line",
         "type": "scatter",
         "x": {
          "bdata": "JaaTmidLUj/pd94hJ5mGP4Y9Nah0dJU/GD97v1Wcnz9VoGBrG+KkPx6hA/cL9qk/56GmgvwJrz9Z0SSH9g6yP71R9szumLQ/IdLHEucitz+GUplY36y5P+vSap7XNrw/T1M85M/Avj/Z6QYVZKXAPwyq7zdg6sE/PmrYWlwvwz9wKsF9WHTEP6LqqaBUucU/1KqSw1D+xj8Ha3vmTEPIPzkrZAlJiMk/a+tMLEXNyj+eqzVPQRLMP9BrHnI9V80/AiwHlTmczj807O+3NeHPPzNWbO0Yk9A/TLbg/pY10T9mFlUQFdjRP392ySGTetI/mNY9MxEd0z+xNrJEj7/TP8qWJlYNYtQ/4/aaZ4sE1T/8Vg95CafVPxW3g4qHSdY/Lhf4mwXs1j9Id2ytg47XP2HX4L4BMdg/ejdV0H/T2D+Tl8nh/XXZP6z3PfN7GNo/xVeyBPq62j/etyYWeF3bP/gXmyf2/9s/EXgPOXSi3D8q2INK8kTdP0M4+Ftw590/XJhsbe6J3j91+OB+bCzfP45YVZDqzt8/VNzkULQ44D9gDJ9Z84ngP208WWIy2+A/eWwTa3Es4T+GnM1zsH3hP5PMh3zvzuE/n/xBhS4g4j+sLPyNbXHiP7hctpaswuI/xYxwn+sT4z/RvCqoKmXjP97s5LBptuM/6hyfuagH5D/3TFnC51jkPwR9E8smquQ/EK3N02X75D8d3YfcpEzlPykNQuXjneU/Nj387SLv5T9Cbbb2YUDmP0+dcP+gkeY/W80qCODi5j9o/eQQHzTnP3Utnxlehec/gV1ZIp3W5z+OjRMr3CfoP5q9zTMbeeg/p+2HPFrK6D+zHUJFmRvpP8BN/E3YbOk/zX22Vhe+6T/ZrXBfVg/qP+bdKmiVYOo/8g3lcNSx6j//PZ95EwPrPwtuWYJSVOs/GJ4Ti5Gl6z8lzs2T0PbrPzH+h5wPSOw/Pi5CpU6Z7D9KXvytjersP1eOtrbMO+0/Y75wvwuN7T9w7irISt7tP3we5dCJL+4/iU6f2ciA7j+WflniB9LuP6KuE+tGI+8/r97N84V07z8=",
          "dtype": "f8"
         },
         "y": {
          "bdata": "QH6L4hBEJkBHD8aYk0omQE6gAE8WUSZAVTE7BZlXJkBcwnW7G14mQGRTsHGeZCZAa+TqJyFrJkBydSXeo3EmQHkGYJQmeCZAgJeaSql+JkCHKNUALIUmQI65D7euiyZAlUpKbTGSJkCc24QjtJgmQKNsv9k2nyZAqv35j7mlJkCxjjRGPKwmQLgfb/y+siZAwLCpskG5JkDHQeRoxL8mQM7SHh9HxiZA1WNZ1cnMJkDc9JOLTNMmQOOFzkHP2SZA6hYJ+FHgJkDxp0Ou1OYmQPg4fmRX7SZA/8m4GtrzJkAGW/PQXPomQA3sLYffACdAFH1oPWIHJ0AbDqPz5A0nQCOf3alnFCdAKjAYYOoaJ0AxwVIWbSEnQDhSjczvJydAP+PHgnIuJ0BGdAI59TQnQE0FPe93OydAVJZ3pfpBJ0BbJ7JbfUgnQGK47BEATydAaUknyIJVJ0Bw2mF+BVwnQHdrnDSIYidAfvzW6gppJ0CGjRGhjW8nQI0eTFcQdidAlK+GDZN8J0CbQMHDFYMnQKLR+3mYiSdAqWI2MBuQJ0Cw83DmnZYnQLeEq5wgnSdAvhXmUqOjJ0DFpiAJJqonQMw3W7+osCdA08iVdSu3J0DaWdArrr0nQOLqCuIwxCdA6XtFmLPKJ0DwDIBONtEnQPedugS51ydA/i71ujveJ0AFwC9xvuQnQAxRaidB6ydAE+Kk3cPxJ0Aac9+TRvgnQCEEGkrJ/idAKJVUAEwFKEAvJo+2zgsoQDa3yWxREihAPUgEI9QYKEBF2T7ZVh8oQExqeY/ZJShAU/uzRVwsKEBajO773jIoQGEdKbJhOShAaK5jaOQ/KEBvP54eZ0YoQHbQ2NTpTChAfWETi2xTKECE8k1B71koQIuDiPdxYChAkhTDrfRmKECapf1jd20oQKA2OBr6cyhAqMdy0Hx6KECvWK2G/4AoQLbp5zyChyhAvXoi8wSOKEDEC12ph5QoQMucl18KmyhA0i3SFY2hKEDZvgzMD6goQOBPR4KSrihA5+CBOBW1KEDucbzul7soQPUC96QawihA/JMxW53IKEA=",
          "dtype": "f8"
         }
        }
       ],
       "layout": {
        "template": {
         "data": {
          "bar": [
           {
            "error_x": {
             "color": "#2a3f5f"
            },
            "error_y": {
             "color": "#2a3f5f"
            },
            "marker": {
             "line": {
              "color": "#E5ECF6",
              "width": 0.5
             },
             "pattern": {
              "fillmode": "overlay",
              "size": 10,
              "solidity": 0.2
             }
            },
            "type": "bar"
           }
          ],
          "barpolar": [
           {
            "marker": {
             "line": {
              "color": "#E5ECF6",
              "width": 0.5
             },
             "pattern": {
              "fillmode": "overlay",
              "size": 10,
              "solidity": 0.2
             }
            },
            "type": "barpolar"
           }
          ],
          "carpet": [
           {
            "aaxis": {
             "endlinecolor": "#2a3f5f",
             "gridcolor": "white",
             "linecolor": "white",
             "minorgridcolor": "white",
             "startlinecolor": "#2a3f5f"
            },
            "baxis": {
             "endlinecolor": "#2a3f5f",
             "gridcolor": "white",
             "linecolor": "white",
             "minorgridcolor": "white",
             "startlinecolor": "#2a3f5f"
            },
            "type": "carpet"
           }
          ],
          "choropleth": [
           {
            "colorbar": {
             "outlinewidth": 0,
             "ticks": ""
            },
            "type": "choropleth"
           }
          ],
          "contour": [
           {
            "colorbar": {
             "outlinewidth": 0,
             "ticks": ""
            },
            "colorscale": [
             [
              0,
              "#0d0887"
             ],
             [
              0.1111111111111111,
              "#46039f"
             ],
             [
              0.2222222222222222,
              "#7201a8"
             ],
             [
              0.3333333333333333,
              "#9c179e"
             ],
             [
              0.4444444444444444,
              "#bd3786"
             ],
             [
              0.5555555555555556,
              "#d8576b"
             ],
             [
              0.6666666666666666,
              "#ed7953"
             ],
             [
              0.7777777777777778,
              "#fb9f3a"
             ],
             [
              0.8888888888888888,
              "#fdca26"
             ],
             [
              1,
              "#f0f921"
             ]
            ],
            "type": "contour"
           }
          ],
          "contourcarpet": [
           {
            "colorbar": {
             "outlinewidth": 0,
             "ticks": ""
            },
            "type": "contourcarpet"
           }
          ],
          "heatmap": [
           {
            "colorbar": {
             "outlinewidth": 0,
             "ticks": ""
            },
            "colorscale": [
             [
              0,
              "#0d0887"
             ],
             [
              0.1111111111111111,
              "#46039f"
             ],
             [
              0.2222222222222222,
              "#7201a8"
             ],
             [
              0.3333333333333333,
              "#9c179e"
             ],
             [
              0.4444444444444444,
              "#bd3786"
             ],
             [
              0.5555555555555556,
              "#d8576b"
             ],
             [
              0.6666666666666666,
              "#ed7953"
             ],
             [
              0.7777777777777778,
              "#fb9f3a"
             ],
             [
              0.8888888888888888,
              "#fdca26"
             ],
             [
              1,
              "#f0f921"
             ]
            ],
            "type": "heatmap"
           }
          ],
          "histogram": [
           {
            "marker": {
             "pattern": {
              "fillmode": "overlay",
              "size": 10,
              "solidity": 0.2
             }
            },
            "type": "histogram"
           }
          ],
          "histogram2d": [
           {
            "colorbar": {
             "outlinewidth": 0,
             "ticks": ""
            },
            "colorscale": [
             [
              0,
              "#0d0887"
             ],
             [
              0.1111111111111111,
              "#46039f"
             ],
             [
              0.2222222222222222,
              "#7201a8"
             ],
             [
              0.3333333333333333,
              "#9c179e"
             ],
             [
              0.4444444444444444,
              "#bd3786"
             ],
             [
              0.5555555555555556,
              "#d8576b"
             ],
             [
              0.6666666666666666,
              "#ed7953"
             ],
             [
              0.7777777777777778,
              "#fb9f3a"
             ],
             [
              0.8888888888888888,
              "#fdca26"
             ],
             [
              1,
              "#f0f921"
             ]
            ],
            "type": "histogram2d"
           }
          ],
          "histogram2dcontour": [
           {
            "colorbar": {
             "outlinewidth": 0,
             "ticks": ""
            },
            "colorscale": [
             [
              0,
              "#0d0887"
             ],
             [
              0.1111111111111111,
              "#46039f"
             ],
             [
              0.2222222222222222,
              "#7201a8"
             ],
             [
              0.3333333333333333,
              "#9c179e"
             ],
             [
              0.4444444444444444,
              "#bd3786"
             ],
             [
              0.5555555555555556,
              "#d8576b"
             ],
             [
              0.6666666666666666,
              "#ed7953"
             ],
             [
              0.7777777777777778,
              "#fb9f3a"
             ],
             [
              0.8888888888888888,
              "#fdca26"
             ],
             [
              1,
              "#f0f921"
             ]
            ],
            "type": "histogram2dcontour"
           }
          ],
          "mesh3d": [
           {
            "colorbar": {
             "outlinewidth": 0,
             "ticks": ""
            },
            "type": "mesh3d"
           }
          ],
          "parcoords": [
           {
            "line": {
             "colorbar": {
              "outlinewidth": 0,
              "ticks": ""
             }
            },
            "type": "parcoords"
           }
          ],
          "pie": [
           {
            "automargin": true,
            "type": "pie"
           }
          ],
          "scatter": [
           {
            "fillpattern": {
             "fillmode": "overlay",
             "size": 10,
             "solidity": 0.2
            },
            "type": "scatter"
           }
          ],
          "scatter3d": [
           {
            "line": {
             "colorbar": {
              "outlinewidth": 0,
              "ticks": ""
             }
            },
            "marker": {
             "colorbar": {
              "outlinewidth": 0,
              "ticks": ""
             }
            },
            "type": "scatter3d"
           }
          ],
          "scattercarpet": [
           {
            "marker": {
             "colorbar": {
              "outlinewidth": 0,
              "ticks": ""
             }
            },
            "type": "scattercarpet"
           }
          ],
          "scattergeo": [
           {
            "marker": {
             "colorbar": {
              "outlinewidth": 0,
              "ticks": ""
             }
            },
            "type": "scattergeo"
           }
          ],
          "scattergl": [
           {
            "marker": {
             "colorbar": {
              "outlinewidth": 0,
              "ticks": ""
             }
            },
            "type": "scattergl"
           }
          ],
          "scattermap": [
           {
            "marker": {
             "colorbar": {
              "outlinewidth": 0,
              "ticks": ""
             }
            },
            "type": "scattermap"
           }
          ],
          "scattermapbox": [
           {
            "marker": {
             "colorbar": {
              "outlinewidth": 0,
              "ticks": ""
             }
            },
            "type": "scattermapbox"
           }
          ],
          "scatterpolar": [
           {
            "marker": {
             "colorbar": {
              "outlinewidth": 0,
              "ticks": ""
             }
            },
            "type": "scatterpolar"
           }
          ],
          "scatterpolargl": [
           {
            "marker": {
             "colorbar": {
              "outlinewidth": 0,
              "ticks": ""
             }
            },
            "type": "scatterpolargl"
           }
          ],
          "scatterternary": [
           {
            "marker": {
             "colorbar": {
              "outlinewidth": 0,
              "ticks": ""
             }
            },
            "type": "scatterternary"
           }
          ],
          "surface": [
           {
            "colorbar": {
             "outlinewidth": 0,
             "ticks": ""
            },
            "colorscale": [
             [
              0,
              "#0d0887"
             ],
             [
              0.1111111111111111,
              "#46039f"
             ],
             [
              0.2222222222222222,
              "#7201a8"
             ],
             [
              0.3333333333333333,
              "#9c179e"
             ],
             [
              0.4444444444444444,
              "#bd3786"
             ],
             [
              0.5555555555555556,
              "#d8576b"
             ],
             [
              0.6666666666666666,
              "#ed7953"
             ],
             [
              0.7777777777777778,
              "#fb9f3a"
             ],
             [
              0.8888888888888888,
              "#fdca26"
             ],
             [
              1,
              "#f0f921"
             ]
            ],
            "type": "surface"
           }
          ],
          "table": [
           {
            "cells": {
             "fill": {
              "color": "#EBF0F8"
             },
             "line": {
              "color": "white"
             }
            },
            "header": {
             "fill": {
              "color": "#C8D4E3"
             },
             "line": {
              "color": "white"
             }
            },
            "type": "table"
           }
          ]
         },
         "layout": {
          "annotationdefaults": {
           "arrowcolor": "#2a3f5f",
           "arrowhead": 0,
           "arrowwidth": 1
          },
          "autotypenumbers": "strict",
          "coloraxis": {
           "colorbar": {
            "outlinewidth": 0,
            "ticks": ""
           }
          },
          "colorscale": {
           "diverging": [
            [
             0,
             "#8e0152"
            ],
            [
             0.1,
             "#c51b7d"
            ],
            [
             0.2,
             "#de77ae"
            ],
            [
             0.3,
             "#f1b6da"
            ],
            [
             0.4,
             "#fde0ef"
            ],
            [
             0.5,
             "#f7f7f7"
            ],
            [
             0.6,
             "#e6f5d0"
            ],
            [
             0.7,
             "#b8e186"
            ],
            [
             0.8,
             "#7fbc41"
            ],
            [
             0.9,
             "#4d9221"
            ],
            [
             1,
             "#276419"
            ]
           ],
           "sequential": [
            [
             0,
             "#0d0887"
            ],
            [
             0.1111111111111111,
             "#46039f"
            ],
            [
             0.2222222222222222,
             "#7201a8"
            ],
            [
             0.3333333333333333,
             "#9c179e"
            ],
            [
             0.4444444444444444,
             "#bd3786"
            ],
            [
             0.5555555555555556,
             "#d8576b"
            ],
            [
             0.6666666666666666,
             "#ed7953"
            ],
            [
             0.7777777777777778,
             "#fb9f3a"
            ],
            [
             0.8888888888888888,
             "#fdca26"
            ],
            [
             1,
             "#f0f921"
            ]
           ],
           "sequentialminus": [
            [
             0,
             "#0d0887"
            ],
            [
             0.1111111111111111,
             "#46039f"
            ],
            [
             0.2222222222222222,
             "#7201a8"
            ],
            [
             0.3333333333333333,
             "#9c179e"
            ],
            [
             0.4444444444444444,
             "#bd3786"
            ],
            [
             0.5555555555555556,
             "#d8576b"
            ],
            [
             0.6666666666666666,
             "#ed7953"
            ],
            [
             0.7777777777777778,
             "#fb9f3a"
            ],
            [
             0.8888888888888888,
             "#fdca26"
            ],
            [
             1,
             "#f0f921"
            ]
           ]
          },
          "colorway": [
           "#636efa",
           "#EF553B",
           "#00cc96",
           "#ab63fa",
           "#FFA15A",
           "#19d3f3",
           "#FF6692",
           "#B6E880",
           "#FF97FF",
           "#FECB52"
          ],
          "font": {
           "color": "#2a3f5f"
          },
          "geo": {
           "bgcolor": "white",
           "lakecolor": "white",
           "landcolor": "#E5ECF6",
           "showlakes": true,
           "showland": true,
           "subunitcolor": "white"
          },
          "hoverlabel": {
           "align": "left"
          },
          "hovermode": "closest",
          "mapbox": {
           "style": "light"
          },
          "paper_bgcolor": "white",
          "plot_bgcolor": "#E5ECF6",
          "polar": {
           "angularaxis": {
            "gridcolor": "white",
            "linecolor": "white",
            "ticks": ""
           },
           "bgcolor": "#E5ECF6",
           "radialaxis": {
            "gridcolor": "white",
            "linecolor": "white",
            "ticks": ""
           }
          },
          "scene": {
           "xaxis": {
            "backgroundcolor": "#E5ECF6",
            "gridcolor": "white",
            "gridwidth": 2,
            "linecolor": "white",
            "showbackground": true,
            "ticks": "",
            "zerolinecolor": "white"
           },
           "yaxis": {
            "backgroundcolor": "#E5ECF6",
            "gridcolor": "white",
            "gridwidth": 2,
            "linecolor": "white",
            "showbackground": true,
            "ticks": "",
            "zerolinecolor": "white"
           },
           "zaxis": {
            "backgroundcolor": "#E5ECF6",
            "gridcolor": "white",
            "gridwidth": 2,
            "linecolor": "white",
            "showbackground": true,
            "ticks": "",
            "zerolinecolor": "white"
           }
          },
          "shapedefaults": {
           "line": {
            "color": "#2a3f5f"
           }
          },
          "ternary": {
           "aaxis": {
            "gridcolor": "white",
            "linecolor": "white",
            "ticks": ""
           },
           "baxis": {
            "gridcolor": "white",
            "linecolor": "white",
            "ticks": ""
           },
           "bgcolor": "#E5ECF6",
           "caxis": {
            "gridcolor": "white",
            "linecolor": "white",
            "ticks": ""
           }
          },
          "title": {
           "x": 0.05
          },
          "xaxis": {
           "automargin": true,
           "gridcolor": "white",
           "linecolor": "white",
           "ticks": "",
           "title": {
            "standoff": 15
           },
           "zerolinecolor": "white",
           "zerolinewidth": 2
          },
          "yaxis": {
           "automargin": true,
           "gridcolor": "white",
           "linecolor": "white",
           "ticks": "",
           "title": {
            "standoff": 15
           },
           "zerolinecolor": "white",
           "zerolinewidth": 2
          }
         }
        },
        "title": {
         "text": "Feature 3 vs Y"
        },
        "xaxis": {
         "title": {
          "text": "X3"
         }
        },
        "yaxis": {
         "title": {
          "text": "Y"
         }
        }
       }
      }
     },
     "metadata": {},
     "output_type": "display_data"
    },
    {
     "name": "stdout",
     "output_type": "stream",
     "text": [
      "Calling plot_residuals with 2 argument(s)...\n"
     ]
    },
    {
     "data": {
      "application/vnd.plotly.v1+json": {
       "config": {
        "plotlyServerURL": "https://plot.ly"
       },
       "data": [
        {
         "marker": {
          "color": "rgba(99, 110, 250, 0.7)",
          "line": {
           "color": "DarkSlateGrey",
           "width": 1
          }
         },
         "mode": "markers",
         "name": "Residuals",
         "type": "scatter",
         "x": {
          "bdata": "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",
          "dtype": "f8"
         },
         "y": {
          "bdata": "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",
          "dtype": "f8"
         }
        },
        {
         "line": {
          "color": "red",
          "dash": "dash"
         },
         "mode": "lines",
         "name": "Zero Residual Line",
         "type": "scatter",
         "x": [
          4.8890222898452365,
          19.0691586963949
         ],
         "y": [
          0,
          0
         ]
        }
       ],
       "layout": {
        "showlegend": true,
        "template": {
         "data": {
          "bar": [
           {
            "error_x": {
             "color": "#2a3f5f"
            },
            "error_y": {
             "color": "#2a3f5f"
            },
            "marker": {
             "line": {
              "color": "#E5ECF6",
              "width": 0.5
             },
             "pattern": {
              "fillmode": "overlay",
              "size": 10,
              "solidity": 0.2
             }
            },
            "type": "bar"
           }
          ],
          "barpolar": [
           {
            "marker": {
             "line": {
              "color": "#E5ECF6",
              "width": 0.5
             },
             "pattern": {
              "fillmode": "overlay",
              "size": 10,
              "solidity": 0.2
             }
            },
            "type": "barpolar"
           }
          ],
          "carpet": [
           {
            "aaxis": {
             "endlinecolor": "#2a3f5f",
             "gridcolor": "white",
             "linecolor": "white",
             "minorgridcolor": "white",
             "startlinecolor": "#2a3f5f"
            },
            "baxis": {
             "endlinecolor": "#2a3f5f",
             "gridcolor": "white",
             "linecolor": "white",
             "minorgridcolor": "white",
             "startlinecolor": "#2a3f5f"
            },
            "type": "carpet"
           }
          ],
          "choropleth": [
           {
            "colorbar": {
             "outlinewidth": 0,
             "ticks": ""
            },
            "type": "choropleth"
           }
          ],
          "contour": [
           {
            "colorbar": {
             "outlinewidth": 0,
             "ticks": ""
            },
            "colorscale": [
             [
              0,
              "#0d0887"
             ],
             [
              0.1111111111111111,
              "#46039f"
             ],
             [
              0.2222222222222222,
              "#7201a8"
             ],
             [
              0.3333333333333333,
              "#9c179e"
             ],
             [
              0.4444444444444444,
              "#bd3786"
             ],
             [
              0.5555555555555556,
              "#d8576b"
             ],
             [
              0.6666666666666666,
              "#ed7953"
             ],
             [
              0.7777777777777778,
              "#fb9f3a"
             ],
             [
              0.8888888888888888,
              "#fdca26"
             ],
             [
              1,
              "#f0f921"
             ]
            ],
            "type": "contour"
           }
          ],
          "contourcarpet": [
           {
            "colorbar": {
             "outlinewidth": 0,
             "ticks": ""
            },
            "type": "contourcarpet"
           }
          ],
          "heatmap": [
           {
            "colorbar": {
             "outlinewidth": 0,
             "ticks": ""
            },
            "colorscale": [
             [
              0,
              "#0d0887"
             ],
             [
              0.1111111111111111,
              "#46039f"
             ],
             [
              0.2222222222222222,
              "#7201a8"
             ],
             [
              0.3333333333333333,
              "#9c179e"
             ],
             [
              0.4444444444444444,
              "#bd3786"
             ],
             [
              0.5555555555555556,
              "#d8576b"
             ],
             [
              0.6666666666666666,
              "#ed7953"
             ],
             [
              0.7777777777777778,
              "#fb9f3a"
             ],
             [
              0.8888888888888888,
              "#fdca26"
             ],
             [
              1,
              "#f0f921"
             ]
            ],
            "type": "heatmap"
           }
          ],
          "histogram": [
           {
            "marker": {
             "pattern": {
              "fillmode": "overlay",
              "size": 10,
              "solidity": 0.2
             }
            },
            "type": "histogram"
           }
          ],
          "histogram2d": [
           {
            "colorbar": {
             "outlinewidth": 0,
             "ticks": ""
            },
            "colorscale": [
             [
              0,
              "#0d0887"
             ],
             [
              0.1111111111111111,
              "#46039f"
             ],
             [
              0.2222222222222222,
              "#7201a8"
             ],
             [
              0.3333333333333333,
              "#9c179e"
             ],
             [
              0.4444444444444444,
              "#bd3786"
             ],
             [
              0.5555555555555556,
              "#d8576b"
             ],
             [
              0.6666666666666666,
              "#ed7953"
             ],
             [
              0.7777777777777778,
              "#fb9f3a"
             ],
             [
              0.8888888888888888,
              "#fdca26"
             ],
             [
              1,
              "#f0f921"
             ]
            ],
            "type": "histogram2d"
           }
          ],
          "histogram2dcontour": [
           {
            "colorbar": {
             "outlinewidth": 0,
             "ticks": ""
            },
            "colorscale": [
             [
              0,
              "#0d0887"
             ],
             [
              0.1111111111111111,
              "#46039f"
             ],
             [
              0.2222222222222222,
              "#7201a8"
             ],
             [
              0.3333333333333333,
              "#9c179e"
             ],
             [
              0.4444444444444444,
              "#bd3786"
             ],
             [
              0.5555555555555556,
              "#d8576b"
             ],
             [
              0.6666666666666666,
              "#ed7953"
             ],
             [
              0.7777777777777778,
              "#fb9f3a"
             ],
             [
              0.8888888888888888,
              "#fdca26"
             ],
             [
              1,
              "#f0f921"
             ]
            ],
            "type": "histogram2dcontour"
           }
          ],
          "mesh3d": [
           {
            "colorbar": {
             "outlinewidth": 0,
             "ticks": ""
            },
            "type": "mesh3d"
           }
          ],
          "parcoords": [
           {
            "line": {
             "colorbar": {
              "outlinewidth": 0,
              "ticks": ""
             }
            },
            "type": "parcoords"
           }
          ],
          "pie": [
           {
            "automargin": true,
            "type": "pie"
           }
          ],
          "scatter": [
           {
            "fillpattern": {
             "fillmode": "overlay",
             "size": 10,
             "solidity": 0.2
            },
            "type": "scatter"
           }
          ],
          "scatter3d": [
           {
            "line": {
             "colorbar": {
              "outlinewidth": 0,
              "ticks": ""
             }
            },
            "marker": {
             "colorbar": {
              "outlinewidth": 0,
              "ticks": ""
             }
            },
            "type": "scatter3d"
           }
          ],
          "scattercarpet": [
           {
            "marker": {
             "colorbar": {
              "outlinewidth": 0,
              "ticks": ""
             }
            },
            "type": "scattercarpet"
           }
          ],
          "scattergeo": [
           {
            "marker": {
             "colorbar": {
              "outlinewidth": 0,
              "ticks": ""
             }
            },
            "type": "scattergeo"
           }
          ],
          "scattergl": [
           {
            "marker": {
             "colorbar": {
              "outlinewidth": 0,
              "ticks": ""
             }
            },
            "type": "scattergl"
           }
          ],
          "scattermap": [
           {
            "marker": {
             "colorbar": {
              "outlinewidth": 0,
              "ticks": ""
             }
            },
            "type": "scattermap"
           }
          ],
          "scattermapbox": [
           {
            "marker": {
             "colorbar": {
              "outlinewidth": 0,
              "ticks": ""
             }
            },
            "type": "scattermapbox"
           }
          ],
          "scatterpolar": [
           {
            "marker": {
             "colorbar": {
              "outlinewidth": 0,
              "ticks": ""
             }
            },
            "type": "scatterpolar"
           }
          ],
          "scatterpolargl": [
           {
            "marker": {
             "colorbar": {
              "outlinewidth": 0,
              "ticks": ""
             }
            },
            "type": "scatterpolargl"
           }
          ],
          "scatterternary": [
           {
            "marker": {
             "colorbar": {
              "outlinewidth": 0,
              "ticks": ""
             }
            },
            "type": "scatterternary"
           }
          ],
          "surface": [
           {
            "colorbar": {
             "outlinewidth": 0,
             "ticks": ""
            },
            "colorscale": [
             [
              0,
              "#0d0887"
             ],
             [
              0.1111111111111111,
              "#46039f"
             ],
             [
              0.2222222222222222,
              "#7201a8"
             ],
             [
              0.3333333333333333,
              "#9c179e"
             ],
             [
              0.4444444444444444,
              "#bd3786"
             ],
             [
              0.5555555555555556,
              "#d8576b"
             ],
             [
              0.6666666666666666,
              "#ed7953"
             ],
             [
              0.7777777777777778,
              "#fb9f3a"
             ],
             [
              0.8888888888888888,
              "#fdca26"
             ],
             [
              1,
              "#f0f921"
             ]
            ],
            "type": "surface"
           }
          ],
          "table": [
           {
            "cells": {
             "fill": {
              "color": "#EBF0F8"
             },
             "line": {
              "color": "white"
             }
            },
            "header": {
             "fill": {
              "color": "#C8D4E3"
             },
             "line": {
              "color": "white"
             }
            },
            "type": "table"
           }
          ]
         },
         "layout": {
          "annotationdefaults": {
           "arrowcolor": "#2a3f5f",
           "arrowhead": 0,
           "arrowwidth": 1
          },
          "autotypenumbers": "strict",
          "coloraxis": {
           "colorbar": {
            "outlinewidth": 0,
            "ticks": ""
           }
          },
          "colorscale": {
           "diverging": [
            [
             0,
             "#8e0152"
            ],
            [
             0.1,
             "#c51b7d"
            ],
            [
             0.2,
             "#de77ae"
            ],
            [
             0.3,
             "#f1b6da"
            ],
            [
             0.4,
             "#fde0ef"
            ],
            [
             0.5,
             "#f7f7f7"
            ],
            [
             0.6,
             "#e6f5d0"
            ],
            [
             0.7,
             "#b8e186"
            ],
            [
             0.8,
             "#7fbc41"
            ],
            [
             0.9,
             "#4d9221"
            ],
            [
             1,
             "#276419"
            ]
           ],
           "sequential": [
            [
             0,
             "#0d0887"
            ],
            [
             0.1111111111111111,
             "#46039f"
            ],
            [
             0.2222222222222222,
             "#7201a8"
            ],
            [
             0.3333333333333333,
             "#9c179e"
            ],
            [
             0.4444444444444444,
             "#bd3786"
            ],
            [
             0.5555555555555556,
             "#d8576b"
            ],
            [
             0.6666666666666666,
             "#ed7953"
            ],
            [
             0.7777777777777778,
             "#fb9f3a"
            ],
            [
             0.8888888888888888,
             "#fdca26"
            ],
            [
             1,
             "#f0f921"
            ]
           ],
           "sequentialminus": [
            [
             0,
             "#0d0887"
            ],
            [
             0.1111111111111111,
             "#46039f"
            ],
            [
             0.2222222222222222,
             "#7201a8"
            ],
            [
             0.3333333333333333,
             "#9c179e"
            ],
            [
             0.4444444444444444,
             "#bd3786"
            ],
            [
             0.5555555555555556,
             "#d8576b"
            ],
            [
             0.6666666666666666,
             "#ed7953"
            ],
            [
             0.7777777777777778,
             "#fb9f3a"
            ],
            [
             0.8888888888888888,
             "#fdca26"
            ],
            [
             1,
             "#f0f921"
            ]
           ]
          },
          "colorway": [
           "#636efa",
           "#EF553B",
           "#00cc96",
           "#ab63fa",
           "#FFA15A",
           "#19d3f3",
           "#FF6692",
           "#B6E880",
           "#FF97FF",
           "#FECB52"
          ],
          "font": {
           "color": "#2a3f5f"
          },
          "geo": {
           "bgcolor": "white",
           "lakecolor": "white",
           "landcolor": "#E5ECF6",
           "showlakes": true,
           "showland": true,
           "subunitcolor": "white"
          },
          "hoverlabel": {
           "align": "left"
          },
          "hovermode": "closest",
          "mapbox": {
           "style": "light"
          },
          "paper_bgcolor": "white",
          "plot_bgcolor": "#E5ECF6",
          "polar": {
           "angularaxis": {
            "gridcolor": "white",
            "linecolor": "white",
            "ticks": ""
           },
           "bgcolor": "#E5ECF6",
           "radialaxis": {
            "gridcolor": "white",
            "linecolor": "white",
            "ticks": ""
           }
          },
          "scene": {
           "xaxis": {
            "backgroundcolor": "#E5ECF6",
            "gridcolor": "white",
            "gridwidth": 2,
            "linecolor": "white",
            "showbackground": true,
            "ticks": "",
            "zerolinecolor": "white"
           },
           "yaxis": {
            "backgroundcolor": "#E5ECF6",
            "gridcolor": "white",
            "gridwidth": 2,
            "linecolor": "white",
            "showbackground": true,
            "ticks": "",
            "zerolinecolor": "white"
           },
           "zaxis": {
            "backgroundcolor": "#E5ECF6",
            "gridcolor": "white",
            "gridwidth": 2,
            "linecolor": "white",
            "showbackground": true,
            "ticks": "",
            "zerolinecolor": "white"
           }
          },
          "shapedefaults": {
           "line": {
            "color": "#2a3f5f"
           }
          },
          "ternary": {
           "aaxis": {
            "gridcolor": "white",
            "linecolor": "white",
            "ticks": ""
           },
           "baxis": {
            "gridcolor": "white",
            "linecolor": "white",
            "ticks": ""
           },
           "bgcolor": "#E5ECF6",
           "caxis": {
            "gridcolor": "white",
            "linecolor": "white",
            "ticks": ""
           }
          },
          "title": {
           "x": 0.05
          },
          "xaxis": {
           "automargin": true,
           "gridcolor": "white",
           "linecolor": "white",
           "ticks": "",
           "title": {
            "standoff": 15
           },
           "zerolinecolor": "white",
           "zerolinewidth": 2
          },
          "yaxis": {
           "automargin": true,
           "gridcolor": "white",
           "linecolor": "white",
           "ticks": "",
           "title": {
            "standoff": 15
           },
           "zerolinecolor": "white",
           "zerolinewidth": 2
          }
         }
        },
        "title": {
         "text": "Residuals vs Fitted Values"
        },
        "xaxis": {
         "title": {
          "text": "Fitted Values"
         }
        },
        "yaxis": {
         "title": {
          "text": "Residuals"
         }
        }
       }
      }
     },
     "metadata": {},
     "output_type": "display_data"
    },
    {
     "name": "stdout",
     "output_type": "stream",
     "text": [
      "Calling predict with 1 argument(s)...\n",
      "Calling print_errors with 2 argument(s)...\n",
      "╒══════════╤═════════╕\n",
      "│ Metric   │   Value │\n",
      "╞══════════╪═════════╡\n",
      "│ MAE      │  0.3956 │\n",
      "├──────────┼─────────┤\n",
      "│ RMSE     │  0.4949 │\n",
      "├──────────┼─────────┤\n",
      "│ MSE      │  0.2449 │\n",
      "╘══════════╧═════════╛\n",
      "Calling resid with 2 argument(s)...\n",
      "Calling run_assumptions with 2 argument(s)...\n",
      "================================================================================\n",
      "        The Ramsey RESET test for linearity\n",
      "        Test Statistic : 0.5013 \n",
      "        P-value        : 0.4793 \n",
      "        Interpretation : The model is likely correctly specified ✅\n",
      "================================================================================\n",
      "        \n",
      "================================================================================\n",
      "        Breusch-Pagan Test for Heteroscedasticity\n",
      "        Test Statistic : 2.1854\n",
      "        P-value        : 0.5348\n",
      "        Interpretation : No evidence of heteroscedasticity — residuals appear homoscedastic. ✅\n",
      "================================================================================\n",
      "        \n",
      "================================================================================\n",
      "        Durbin-Watson Test for Independence of Errors\n",
      "        DW Statistic  : 1.9753\n",
      "        Interpretation: No autocorrelation ✅ \n",
      "    ================================================================================\n",
      "        \n",
      "================================================================================\n",
      "        VIF Test for Multicollinearity\n",
      "        Feature 1: VIF = 1.0016853118975928 | No Multicollinearity ✅\n",
      "        Feature 2: VIF = 1.001653888642085 | No Multicollinearity ✅\n",
      "        Feature 3: VIF = 1.0017339999407102 | No Multicollinearity ✅\n",
      "================================================================================\n",
      "================================================================================\n",
      "        Shapiro-Wilk normality test of residuals \n",
      "\n",
      "        Residuals are from normal distribution ✅\n",
      "================================================================================\n",
      "Calling score with 2 argument(s)...\n"
     ]
    }
   ],
   "source": [
    "model = LinearRegression()\n",
    "model.fit(X, Y)\n",
    "\n",
    "call_all_methods(model, X, Y)"
   ]
  }
 ],
 "metadata": {
  "kernelspec": {
   "display_name": "app",
   "language": "python",
   "name": "python3"
  },
  "language_info": {
   "codemirror_mode": {
    "name": "ipython",
    "version": 3
   },
   "file_extension": ".py",
   "mimetype": "text/x-python",
   "name": "python",
   "nbconvert_exporter": "python",
   "pygments_lexer": "ipython3",
   "version": "3.13.4"
  }
 },
 "nbformat": 4,
 "nbformat_minor": 5
}
