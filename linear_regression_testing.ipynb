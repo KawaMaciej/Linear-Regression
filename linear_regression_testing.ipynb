{
 "cells": [
  {
   "cell_type": "code",
   "execution_count": 1,
   "id": "e86ffa10",
   "metadata": {},
   "outputs": [],
   "source": [
    "import numpy as np\n",
    "from models.linear import LinearRegression\n",
    "from models.logistic import LogisticRegression\n",
    "from metrics.classification_metrics import *"
   ]
  },
  {
   "cell_type": "code",
   "execution_count": 2,
   "id": "1b2636c1",
   "metadata": {},
   "outputs": [
    {
     "data": {
      "text/plain": [
       "array([2, 0, 2, 2, 0, 0, 2, 1, 2, 2, 2, 2, 0, 2, 1, 0, 1, 1, 1, 1, 0, 0,\n",
       "       1, 1, 0, 0, 0, 2, 2, 2, 1, 2, 1, 1, 2, 1, 2, 2, 0, 2, 0, 2, 2, 0,\n",
       "       0, 2, 1, 0, 1, 1, 1, 0, 1, 0, 1, 2, 2, 0, 2, 2, 1, 0, 1, 1, 1, 1,\n",
       "       1, 1, 1, 0, 2, 1, 1, 1, 1, 1, 1, 2, 2, 1, 2, 0, 1, 0, 0, 1, 2, 0,\n",
       "       1, 0, 0, 0, 0, 2, 0, 0, 0, 2, 0, 0, 2, 2, 2, 0, 2, 2, 0, 2, 0, 1,\n",
       "       2, 1, 0, 2, 0, 1, 0, 2, 2, 1, 0, 2, 1, 2, 2, 0, 2, 0, 2, 1, 2, 0,\n",
       "       0, 1, 2, 2, 1, 2, 2, 0, 2, 2, 1, 1, 0, 2, 2, 2, 0, 0, 1, 0, 2, 2,\n",
       "       0, 2, 2, 0, 0, 2, 2, 2, 1, 1, 1, 0, 1, 0, 0, 1, 1, 1, 2, 1, 2, 0,\n",
       "       2, 1, 0, 0, 0, 2, 1, 0, 0, 0, 2, 2, 1, 2, 0, 1, 0, 0, 2, 1, 2, 2,\n",
       "       1, 0, 0, 1, 0, 1, 1, 2, 1, 2, 0, 0, 0, 0, 2, 0, 1, 1, 1, 2, 0, 0,\n",
       "       0, 2, 1, 1, 0, 1, 1, 2, 2, 2, 2, 0, 2, 1, 0, 1, 1, 1, 2, 2, 0, 0,\n",
       "       2, 1, 0, 2, 2, 2, 1, 2, 2, 2, 2, 0, 0, 2, 1, 0, 2, 0, 0, 1, 2, 2,\n",
       "       1, 1, 2, 2, 1, 0, 0, 1, 0, 1, 0, 0, 2, 2, 0, 0, 2, 2, 2, 1, 0, 2,\n",
       "       0, 1, 1, 2, 1, 0, 2, 0, 0, 1, 1, 1, 1, 1, 2, 0, 0, 0, 0, 1, 0, 2,\n",
       "       2, 0, 0, 2, 2, 1, 2, 1, 1, 1, 1, 1, 0, 2, 1, 2, 2, 1, 0, 1, 0, 2,\n",
       "       0, 0, 0, 2, 2, 0, 0, 1, 0, 1, 0, 1, 2, 0, 0, 0, 0, 1, 0, 2, 2, 0,\n",
       "       2, 0, 0, 2, 0, 2, 1, 0, 1, 2, 1, 1, 2, 1, 1, 2, 1, 2, 1, 2, 2, 1,\n",
       "       1, 1, 0, 0, 0, 2, 1, 2, 0, 1, 2, 1, 2, 1, 0, 0, 1, 2, 0, 0, 0, 1,\n",
       "       1, 2, 2, 2, 1, 1, 2, 2, 1, 2, 0, 1, 2, 1, 0, 1, 1, 1, 1, 0, 1, 1,\n",
       "       2, 1, 2, 0, 0, 0, 0, 2, 1, 0, 1, 2, 2, 2, 0, 1, 1, 1, 2, 0, 2, 2,\n",
       "       1, 2, 1, 0, 1, 0, 1, 2, 2, 0, 0, 0, 1, 1, 0, 2, 1, 1, 1, 0, 0, 0,\n",
       "       0, 0, 2, 2, 0, 1, 0, 2, 2, 1, 2, 0, 1, 0, 0, 1, 0, 2, 0, 1, 1, 1,\n",
       "       0, 1, 1, 0, 2, 0, 1, 1, 0, 2, 1, 1, 1, 0, 1, 2])"
      ]
     },
     "execution_count": 2,
     "metadata": {},
     "output_type": "execute_result"
    }
   ],
   "source": [
    "n_samples = 500\n",
    "np.random.seed(42)\n",
    "\n",
    "classes = [\"A\", \"B\", \"C\"]\n",
    "\n",
    "random_classes = np.random.choice(classes, size=n_samples)\n",
    "\n",
    "\n",
    "class_to_int = {label: idx for idx, label in enumerate(classes)}\n",
    "random_classes_int = np.vectorize(class_to_int.get)(random_classes)\n",
    "random_classes_int"
   ]
  },
  {
   "cell_type": "code",
   "execution_count": 3,
   "id": "cf74d7bc",
   "metadata": {},
   "outputs": [],
   "source": [
    "X = np.random.normal(2, 2, n_samples)\n",
    "Z = np.random.normal(9, 1, n_samples) \n",
    "P = np.random.beta(1, 2, n_samples)\n",
    "\n",
    "Y = 2*X +  np.random.normal(0, 0.5, n_samples) + P + Z + random_classes_int * X \n",
    "\n",
    "X= np.column_stack((X,X**2, Z + X, X * P, P, random_classes_int))"
   ]
  },
  {
   "cell_type": "code",
   "execution_count": 4,
   "id": "4a214669",
   "metadata": {},
   "outputs": [],
   "source": [
    "reg = LinearRegression(regularization=\"None\").fit(X,Y)\n",
    "ridge = LinearRegression(regularization=\"Ridge\").fit(X,Y)\n",
    "lasso = LinearRegression(regularization=\"Lasso\", n_iter = 10000, lr=0.001).fit(X,Y)\n",
    "elastic = LinearRegression(regularization=\"ElasticNet\", n_iter = 10000, lr=0.001, alpha=0.4).fit(X,Y)"
   ]
  },
  {
   "cell_type": "code",
   "execution_count": 5,
   "id": "8738d918",
   "metadata": {},
   "outputs": [
    {
     "name": "stdout",
     "output_type": "stream",
     "text": [
      "╒══════════╤═════════╕\n",
      "│ Metric   │   Value │\n",
      "╞══════════╪═════════╡\n",
      "│ MAE      │  1.5889 │\n",
      "├──────────┼─────────┤\n",
      "│ RMSE     │  2.1834 │\n",
      "├──────────┼─────────┤\n",
      "│ MSE      │  4.7671 │\n",
      "╘══════════╧═════════╛\n",
      "╒══════════╤═════════╕\n",
      "│ Metric   │   Value │\n",
      "╞══════════╪═════════╡\n",
      "│ MAE      │  1.3203 │\n",
      "├──────────┼─────────┤\n",
      "│ RMSE     │  1.8239 │\n",
      "├──────────┼─────────┤\n",
      "│ MSE      │  3.3266 │\n",
      "╘══════════╧═════════╛\n",
      "╒══════════╤═════════╕\n",
      "│ Metric   │   Value │\n",
      "╞══════════╪═════════╡\n",
      "│ MAE      │  1.2972 │\n",
      "├──────────┼─────────┤\n",
      "│ RMSE     │  1.7891 │\n",
      "├──────────┼─────────┤\n",
      "│ MSE      │  3.201  │\n",
      "╘══════════╧═════════╛\n"
     ]
    },
    {
     "data": {
      "text/plain": [
       "(Array(0.9052454, dtype=float32),\n",
       " Array(0.9338775, dtype=float32),\n",
       " np.float64(0.9363737064688338))"
      ]
     },
     "execution_count": 5,
     "metadata": {},
     "output_type": "execute_result"
    }
   ],
   "source": [
    "elastic_pred = elastic.predict(X)\n",
    "elastic.print_errors(Y, elastic_pred), lasso.print_errors(Y, lasso.predict(X)), ridge.print_errors(Y, ridge.predict(X))\n",
    "elastic.score(X, Y), lasso.score(X, Y), ridge.score(X, Y)"
   ]
  },
  {
   "cell_type": "code",
   "execution_count": 6,
   "id": "e2561b93",
   "metadata": {},
   "outputs": [],
   "source": [
    "#elastic.do_all(X, Y)"
   ]
  },
  {
   "cell_type": "code",
   "execution_count": 7,
   "id": "a3fdbda3",
   "metadata": {},
   "outputs": [],
   "source": [
    "#reg.Cooks_distance(X,Y)"
   ]
  },
  {
   "cell_type": "code",
   "execution_count": 8,
   "id": "8439a82c",
   "metadata": {},
   "outputs": [],
   "source": [
    "classes = [\"A\", \"B\", \"C\"]\n",
    "n_samples = 1500\n",
    "\n",
    "random_classes = np.random.choice(classes, size=n_samples)\n",
    "\n",
    "\n",
    "class_to_int = {label: idx for idx, label in enumerate(classes)}\n",
    "random_classes_int = np.vectorize(class_to_int.get)(random_classes)\n",
    "\n",
    "X = np.random.normal(2, 2, n_samples)\n",
    "Z = np.random.normal(9, 1, n_samples) \n",
    "P = np.random.beta(1, 2, n_samples)\n",
    "\n",
    "\n",
    "X= np.column_stack((X, Z, P*Z, Z+X, X**2))\n",
    "\n",
    "Y = random_classes_int\n"
   ]
  },
  {
   "cell_type": "code",
   "execution_count": 9,
   "id": "5bfbbf47",
   "metadata": {},
   "outputs": [],
   "source": [
    "import pandas as pd\n",
    "\n",
    "X = pd.DataFrame(X, columns=[\"1\",\"2\",\"3\",\"4\",\"5\"])"
   ]
  },
  {
   "cell_type": "code",
   "execution_count": 10,
   "id": "8a0ce156",
   "metadata": {},
   "outputs": [
    {
     "data": {
      "text/plain": [
       "<models.logistic.LogisticRegression at 0x24f62242660>"
      ]
     },
     "execution_count": 10,
     "metadata": {},
     "output_type": "execute_result"
    }
   ],
   "source": [
    "log = LogisticRegression(X.shape[1], len(classes), regularization=\"None\")\n",
    "log.fit(X, Y)"
   ]
  },
  {
   "cell_type": "code",
   "execution_count": 11,
   "id": "6a111b8a",
   "metadata": {},
   "outputs": [
    {
     "data": {
      "text/plain": [
       "array([2, 2, 0, ..., 2, 2, 0], shape=(1500,))"
      ]
     },
     "execution_count": 11,
     "metadata": {},
     "output_type": "execute_result"
    }
   ],
   "source": [
    "pred = log.predict(X)\n",
    "pred"
   ]
  },
  {
   "cell_type": "code",
   "execution_count": 12,
   "id": "bc2f5b03",
   "metadata": {},
   "outputs": [
    {
     "data": {
      "text/plain": [
       "(array([0.36746988, 0.3816568 , 0.3624498 ]),\n",
       " array([0.12815126, 0.25697211, 0.69157088]),\n",
       " array([0.19003115, 0.30714286, 0.47562582]),\n",
       " array(0.36733333),\n",
       " array(0.35889808),\n",
       " array([0.68890555, 0.67900172, 0.68055556]),\n",
       " array([0.31109445, 0.32099828, 0.31944444]))"
      ]
     },
     "execution_count": 12,
     "metadata": {},
     "output_type": "execute_result"
    }
   ],
   "source": [
    "confusion_matrix(Y, pred)\n",
    "precision(Y, pred), recall(Y, pred), f1_stat(Y, pred), accuracy(Y, pred), balanced_accuracy(Y, pred), NPV(Y, pred), FOR(Y, pred)"
   ]
  },
  {
   "cell_type": "code",
   "execution_count": 13,
   "id": "00206546",
   "metadata": {},
   "outputs": [
    {
     "data": {
      "text/plain": [
       "array([0.21700629, 0.31316953, 0.50065929])"
      ]
     },
     "execution_count": 13,
     "metadata": {},
     "output_type": "execute_result"
    }
   ],
   "source": [
    "Fowlkes_Mallows(Y, pred)"
   ]
  },
  {
   "cell_type": "code",
   "execution_count": 14,
   "id": "014c1afa",
   "metadata": {},
   "outputs": [
    {
     "data": {
      "text/plain": [
       "array([[-0.00212145,  0.00226784, -0.00014639],\n",
       "       [-0.0099058 ,  0.01309753, -0.00319173],\n",
       "       [ 0.00121627, -0.00424751,  0.00303123],\n",
       "       [-0.00419983, -0.00519411,  0.00939394],\n",
       "       [-0.00868953,  0.00885003, -0.0001605 ],\n",
       "       [ 0.00964295, -0.00942614, -0.00021681]])"
      ]
     },
     "execution_count": 14,
     "metadata": {},
     "output_type": "execute_result"
    }
   ],
   "source": [
    "log.theta"
   ]
  },
  {
   "cell_type": "code",
   "execution_count": 15,
   "id": "46a74f36",
   "metadata": {},
   "outputs": [],
   "source": [
    "data = []\n",
    "for i in np.unique(Y):\n",
    "    data.append((Y == i).astype(int))"
   ]
  },
  {
   "cell_type": "code",
   "execution_count": 16,
   "id": "5e384cfe",
   "metadata": {},
   "outputs": [
    {
     "data": {
      "text/plain": [
       "[array([0, 1, 0, ..., 0, 0, 0], shape=(1500,)),\n",
       " array([1, 0, 1, ..., 0, 0, 0], shape=(1500,)),\n",
       " array([0, 0, 0, ..., 1, 1, 1], shape=(1500,))]"
      ]
     },
     "execution_count": 16,
     "metadata": {},
     "output_type": "execute_result"
    }
   ],
   "source": [
    "data"
   ]
  },
  {
   "cell_type": "code",
   "execution_count": 17,
   "id": "7b6d95f4",
   "metadata": {},
   "outputs": [],
   "source": [
    "from models.onevsall import OVA\n",
    "ova = OVA()\n"
   ]
  },
  {
   "cell_type": "code",
   "execution_count": 18,
   "id": "2f8f7d06",
   "metadata": {},
   "outputs": [
    {
     "data": {
      "text/plain": [
       "<models.onevsall.OVA at 0x24f62242900>"
      ]
     },
     "execution_count": 18,
     "metadata": {},
     "output_type": "execute_result"
    }
   ],
   "source": [
    "ova.fit(X, Y)"
   ]
  },
  {
   "cell_type": "code",
   "execution_count": 19,
   "id": "7c3c8912",
   "metadata": {},
   "outputs": [],
   "source": [
    "pred = ova.predict(X)"
   ]
  },
  {
   "cell_type": "code",
   "execution_count": 23,
   "id": "8bb88cc2",
   "metadata": {},
   "outputs": [
    {
     "data": {
      "text/plain": [
       "(array([[ 63., 113., 300.],\n",
       "        [ 50., 140., 312.],\n",
       "        [ 60., 119., 343.]]),\n",
       " array(0.364))"
      ]
     },
     "execution_count": 23,
     "metadata": {},
     "output_type": "execute_result"
    }
   ],
   "source": [
    "confusion_matrix(Y, pred=pred), accuracy(Y, pred)"
   ]
  }
 ],
 "metadata": {
  "kernelspec": {
   "display_name": "app",
   "language": "python",
   "name": "python3"
  },
  "language_info": {
   "codemirror_mode": {
    "name": "ipython",
    "version": 3
   },
   "file_extension": ".py",
   "mimetype": "text/x-python",
   "name": "python",
   "nbconvert_exporter": "python",
   "pygments_lexer": "ipython3",
   "version": "3.13.4"
  }
 },
 "nbformat": 4,
 "nbformat_minor": 5
}
