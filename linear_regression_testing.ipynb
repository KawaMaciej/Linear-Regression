{
 "cells": [
  {
   "cell_type": "code",
   "execution_count": 1,
   "id": "e86ffa10",
   "metadata": {},
   "outputs": [],
   "source": [
    "import numpy as np\n",
    "from models.linear import LinearRegression\n"
   ]
  },
  {
   "cell_type": "code",
   "execution_count": 2,
   "id": "1b2636c1",
   "metadata": {},
   "outputs": [
    {
     "data": {
      "text/plain": [
       "array([2, 0, 2, 2, 0, 0, 2, 1, 2, 2, 2, 2, 0, 2, 1, 0, 1, 1, 1, 1, 0, 0,\n",
       "       1, 1, 0, 0, 0, 2, 2, 2, 1, 2, 1, 1, 2, 1, 2, 2, 0, 2, 0, 2, 2, 0,\n",
       "       0, 2, 1, 0, 1, 1, 1, 0, 1, 0, 1, 2, 2, 0, 2, 2, 1, 0, 1, 1, 1, 1,\n",
       "       1, 1, 1, 0, 2, 1, 1, 1, 1, 1, 1, 2, 2, 1, 2, 0, 1, 0, 0, 1, 2, 0,\n",
       "       1, 0, 0, 0, 0, 2, 0, 0, 0, 2, 0, 0, 2, 2, 2, 0, 2, 2, 0, 2, 0, 1,\n",
       "       2, 1, 0, 2, 0, 1, 0, 2, 2, 1, 0, 2, 1, 2, 2, 0, 2, 0, 2, 1, 2, 0,\n",
       "       0, 1, 2, 2, 1, 2, 2, 0, 2, 2, 1, 1, 0, 2, 2, 2, 0, 0, 1, 0, 2, 2,\n",
       "       0, 2, 2, 0, 0, 2, 2, 2, 1, 1, 1, 0, 1, 0, 0, 1, 1, 1, 2, 1, 2, 0,\n",
       "       2, 1, 0, 0, 0, 2, 1, 0, 0, 0, 2, 2, 1, 2, 0, 1, 0, 0, 2, 1, 2, 2,\n",
       "       1, 0, 0, 1, 0, 1, 1, 2, 1, 2, 0, 0, 0, 0, 2, 0, 1, 1, 1, 2, 0, 0,\n",
       "       0, 2, 1, 1, 0, 1, 1, 2, 2, 2, 2, 0, 2, 1, 0, 1, 1, 1, 2, 2, 0, 0,\n",
       "       2, 1, 0, 2, 2, 2, 1, 2, 2, 2, 2, 0, 0, 2, 1, 0, 2, 0, 0, 1, 2, 2,\n",
       "       1, 1, 2, 2, 1, 0, 0, 1, 0, 1, 0, 0, 2, 2, 0, 0, 2, 2, 2, 1, 0, 2,\n",
       "       0, 1, 1, 2, 1, 0, 2, 0, 0, 1, 1, 1, 1, 1, 2, 0, 0, 0, 0, 1, 0, 2,\n",
       "       2, 0, 0, 2, 2, 1, 2, 1, 1, 1, 1, 1, 0, 2, 1, 2, 2, 1, 0, 1, 0, 2,\n",
       "       0, 0, 0, 2, 2, 0, 0, 1, 0, 1, 0, 1, 2, 0, 0, 0, 0, 1, 0, 2, 2, 0,\n",
       "       2, 0, 0, 2, 0, 2, 1, 0, 1, 2, 1, 1, 2, 1, 1, 2, 1, 2, 1, 2, 2, 1,\n",
       "       1, 1, 0, 0, 0, 2, 1, 2, 0, 1, 2, 1, 2, 1, 0, 0, 1, 2, 0, 0, 0, 1,\n",
       "       1, 2, 2, 2, 1, 1, 2, 2, 1, 2, 0, 1, 2, 1, 0, 1, 1, 1, 1, 0, 1, 1,\n",
       "       2, 1, 2, 0, 0, 0, 0, 2, 1, 0, 1, 2, 2, 2, 0, 1, 1, 1, 2, 0, 2, 2,\n",
       "       1, 2, 1, 0, 1, 0, 1, 2, 2, 0, 0, 0, 1, 1, 0, 2, 1, 1, 1, 0, 0, 0,\n",
       "       0, 0, 2, 2, 0, 1, 0, 2, 2, 1, 2, 0, 1, 0, 0, 1, 0, 2, 0, 1, 1, 1,\n",
       "       0, 1, 1, 0, 2, 0, 1, 1, 0, 2, 1, 1, 1, 0, 1, 2])"
      ]
     },
     "execution_count": 2,
     "metadata": {},
     "output_type": "execute_result"
    }
   ],
   "source": [
    "n_samples = 500\n",
    "np.random.seed(42)\n",
    "\n",
    "classes = [\"A\", \"B\", \"C\"]\n",
    "\n",
    "random_classes = np.random.choice(classes, size=n_samples)\n",
    "\n",
    "\n",
    "class_to_int = {label: idx for idx, label in enumerate(classes)}\n",
    "random_classes_int = np.vectorize(class_to_int.get)(random_classes)\n",
    "random_classes_int"
   ]
  },
  {
   "cell_type": "code",
   "execution_count": 3,
   "id": "cf74d7bc",
   "metadata": {},
   "outputs": [],
   "source": [
    "X = np.random.normal(2, 2, n_samples)\n",
    "Z = np.random.normal(9, 1, n_samples) \n",
    "P = np.random.beta(1, 2, n_samples)\n",
    "\n",
    "Y = 2*X +  np.random.normal(0, 0.5, n_samples) + P + Z + random_classes_int * X \n",
    "\n",
    "X= np.column_stack((X,X**2, Z + X, X * P, P, random_classes_int))"
   ]
  },
  {
   "cell_type": "code",
   "execution_count": 4,
   "id": "4a214669",
   "metadata": {},
   "outputs": [],
   "source": [
    "reg = LinearRegression(regularization=\"None\").fit(X,Y)\n",
    "ridge = LinearRegression(regularization=\"Ridge\").fit(X,Y)\n",
    "lasso = LinearRegression(regularization=\"Lasso\", n_iter = 10000, lr=0.001).fit(X,Y)\n",
    "elastic = LinearRegression(regularization=\"ElasticNet\", n_iter = 10000, lr=0.001, alpha=0.4).fit(X,Y)"
   ]
  },
  {
   "cell_type": "code",
   "execution_count": 5,
   "id": "8738d918",
   "metadata": {},
   "outputs": [
    {
     "name": "stdout",
     "output_type": "stream",
     "text": [
      "╒══════════╤═════════╕\n",
      "│ Metric   │   Value │\n",
      "╞══════════╪═════════╡\n",
      "│ MAE      │  1.5889 │\n",
      "├──────────┼─────────┤\n",
      "│ RMSE     │  2.1834 │\n",
      "├──────────┼─────────┤\n",
      "│ MSE      │  4.7671 │\n",
      "╘══════════╧═════════╛\n",
      "╒══════════╤═════════╕\n",
      "│ Metric   │   Value │\n",
      "╞══════════╪═════════╡\n",
      "│ MAE      │  1.3203 │\n",
      "├──────────┼─────────┤\n",
      "│ RMSE     │  1.8239 │\n",
      "├──────────┼─────────┤\n",
      "│ MSE      │  3.3266 │\n",
      "╘══════════╧═════════╛\n",
      "╒══════════╤═════════╕\n",
      "│ Metric   │   Value │\n",
      "╞══════════╪═════════╡\n",
      "│ MAE      │  1.2972 │\n",
      "├──────────┼─────────┤\n",
      "│ RMSE     │  1.7891 │\n",
      "├──────────┼─────────┤\n",
      "│ MSE      │  3.201  │\n",
      "╘══════════╧═════════╛\n"
     ]
    },
    {
     "data": {
      "text/plain": [
       "(Array(0.9052454, dtype=float32),\n",
       " Array(0.9338775, dtype=float32),\n",
       " np.float64(0.9363737064688338))"
      ]
     },
     "execution_count": 5,
     "metadata": {},
     "output_type": "execute_result"
    }
   ],
   "source": [
    "elastic.print_errors(X, Y), lasso.print_errors(X, Y), ridge.print_errors(X, Y)\n",
    "elastic.score(X, Y), lasso.score(X, Y), ridge.score(X, Y)"
   ]
  },
  {
   "cell_type": "code",
   "execution_count": 6,
   "id": "e2561b93",
   "metadata": {},
   "outputs": [],
   "source": [
    "#elastic.do_all(X, Y)"
   ]
  },
  {
   "cell_type": "code",
   "execution_count": 7,
   "id": "a3fdbda3",
   "metadata": {},
   "outputs": [],
   "source": [
    "#reg.Cooks_distance(X,Y)"
   ]
  },
  {
   "cell_type": "code",
   "execution_count": 8,
   "id": "8439a82c",
   "metadata": {},
   "outputs": [],
   "source": [
    "classes = [\"A\", \"B\", \"C\"]\n",
    "n_samples = 100\n",
    "\n",
    "random_classes = np.random.choice(classes, size=n_samples)\n",
    "\n",
    "\n",
    "class_to_int = {label: idx for idx, label in enumerate(classes)}\n",
    "random_classes_int = np.vectorize(class_to_int.get)(random_classes)\n"
   ]
  },
  {
   "cell_type": "code",
   "execution_count": 9,
   "id": "57ac3c7a",
   "metadata": {},
   "outputs": [
    {
     "data": {
      "text/plain": [
       "array([1, 0, 1, 0, 1, 2, 2, 1, 2, 2, 2, 0, 2, 0, 1, 2, 2, 2, 1, 0, 0, 2,\n",
       "       1, 1, 1, 1, 1, 0, 0, 0, 2, 1, 2, 1, 0, 2, 0, 1, 1, 1, 0, 1, 0, 2,\n",
       "       1, 1, 1, 2, 1, 0, 0, 1, 1, 2, 2, 2, 1, 2, 2, 0, 2, 0, 0, 2, 0, 1,\n",
       "       1, 2, 1, 0, 1, 2, 2, 0, 2, 1, 2, 0, 2, 1, 0, 1, 0, 2, 0, 0, 2, 1,\n",
       "       2, 0, 2, 0, 2, 2, 1, 0, 1, 0, 2, 0])"
      ]
     },
     "execution_count": 9,
     "metadata": {},
     "output_type": "execute_result"
    }
   ],
   "source": [
    "random_classes_int\n"
   ]
  },
  {
   "cell_type": "markdown",
   "id": "908fbf51",
   "metadata": {},
   "source": []
  },
  {
   "cell_type": "code",
   "execution_count": 10,
   "id": "7469eeb0",
   "metadata": {},
   "outputs": [],
   "source": [
    "X = np.random.normal(2, 2, n_samples)\n",
    "Z = np.random.normal(9, 1, n_samples) \n",
    "P = np.random.beta(1, 2, n_samples)\n",
    "\n",
    "\n",
    "X= np.column_stack((X,X**2, Z + X, X * P, P))\n",
    "\n",
    "Y = random_classes_int\n",
    "#Y = np.eye(len(np.unique(Y)))[random_classes_int]\n"
   ]
  },
  {
   "cell_type": "code",
   "execution_count": 11,
   "id": "8a0ce156",
   "metadata": {},
   "outputs": [
    {
     "data": {
      "text/plain": [
       "<models.logistic.LogisticRegression at 0x1b6966ed2b0>"
      ]
     },
     "execution_count": 11,
     "metadata": {},
     "output_type": "execute_result"
    }
   ],
   "source": [
    "from models.logistic import LogisticRegression\n",
    "log = LogisticRegression(X.shape[1], len(classes))\n",
    "log.fit(X, Y)"
   ]
  },
  {
   "cell_type": "code",
   "execution_count": 12,
   "id": "d5f0440d",
   "metadata": {},
   "outputs": [
    {
     "data": {
      "text/plain": [
       "array([[10., 16.,  5.],\n",
       "       [ 5., 25.,  4.],\n",
       "       [ 7., 17., 11.]])"
      ]
     },
     "execution_count": 12,
     "metadata": {},
     "output_type": "execute_result"
    }
   ],
   "source": [
    "log.confusion_matrix(X, Y)"
   ]
  },
  {
   "cell_type": "code",
   "execution_count": 13,
   "id": "6a111b8a",
   "metadata": {},
   "outputs": [
    {
     "data": {
      "text/plain": [
       "array([0.45454545, 0.43103448, 0.55      ])"
      ]
     },
     "execution_count": 13,
     "metadata": {},
     "output_type": "execute_result"
    }
   ],
   "source": [
    "log.precision(X,Y)\n"
   ]
  },
  {
   "cell_type": "code",
   "execution_count": 14,
   "id": "68f7200a",
   "metadata": {},
   "outputs": [
    {
     "data": {
      "text/plain": [
       "array([0.32258065, 0.73529412, 0.31428571])"
      ]
     },
     "execution_count": 14,
     "metadata": {},
     "output_type": "execute_result"
    }
   ],
   "source": [
    "log.recall(X,Y)\n"
   ]
  },
  {
   "cell_type": "code",
   "execution_count": 15,
   "id": "873c34cf",
   "metadata": {},
   "outputs": [
    {
     "data": {
      "text/plain": [
       "array([0.37735849, 0.54347826, 0.4       ])"
      ]
     },
     "execution_count": 15,
     "metadata": {},
     "output_type": "execute_result"
    }
   ],
   "source": [
    "log.f1_stat(X,Y)"
   ]
  }
 ],
 "metadata": {
  "kernelspec": {
   "display_name": "app",
   "language": "python",
   "name": "python3"
  },
  "language_info": {
   "codemirror_mode": {
    "name": "ipython",
    "version": 3
   },
   "file_extension": ".py",
   "mimetype": "text/x-python",
   "name": "python",
   "nbconvert_exporter": "python",
   "pygments_lexer": "ipython3",
   "version": "3.13.4"
  }
 },
 "nbformat": 4,
 "nbformat_minor": 5
}
