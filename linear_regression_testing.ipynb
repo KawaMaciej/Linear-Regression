{
 "cells": [
  {
   "cell_type": "code",
   "execution_count": 1,
   "id": "e86ffa10",
   "metadata": {},
   "outputs": [],
   "source": [
    "import numpy as np\n",
    "from models.linear import LinearRegression\n"
   ]
  },
  {
   "cell_type": "code",
   "execution_count": 2,
   "id": "1b2636c1",
   "metadata": {},
   "outputs": [
    {
     "data": {
      "text/plain": [
       "array([2, 0, 2, 2, 0, 0, 2, 1, 2, 2, 2, 2, 0, 2, 1, 0, 1, 1, 1, 1, 0, 0,\n",
       "       1, 1, 0, 0, 0, 2, 2, 2, 1, 2, 1, 1, 2, 1, 2, 2, 0, 2, 0, 2, 2, 0,\n",
       "       0, 2, 1, 0, 1, 1, 1, 0, 1, 0, 1, 2, 2, 0, 2, 2, 1, 0, 1, 1, 1, 1,\n",
       "       1, 1, 1, 0, 2, 1, 1, 1, 1, 1, 1, 2, 2, 1, 2, 0, 1, 0, 0, 1, 2, 0,\n",
       "       1, 0, 0, 0, 0, 2, 0, 0, 0, 2, 0, 0, 2, 2, 2, 0, 2, 2, 0, 2, 0, 1,\n",
       "       2, 1, 0, 2, 0, 1, 0, 2, 2, 1, 0, 2, 1, 2, 2, 0, 2, 0, 2, 1, 2, 0,\n",
       "       0, 1, 2, 2, 1, 2, 2, 0, 2, 2, 1, 1, 0, 2, 2, 2, 0, 0, 1, 0, 2, 2,\n",
       "       0, 2, 2, 0, 0, 2, 2, 2, 1, 1, 1, 0, 1, 0, 0, 1, 1, 1, 2, 1, 2, 0,\n",
       "       2, 1, 0, 0, 0, 2, 1, 0, 0, 0, 2, 2, 1, 2, 0, 1, 0, 0, 2, 1, 2, 2,\n",
       "       1, 0, 0, 1, 0, 1, 1, 2, 1, 2, 0, 0, 0, 0, 2, 0, 1, 1, 1, 2, 0, 0,\n",
       "       0, 2, 1, 1, 0, 1, 1, 2, 2, 2, 2, 0, 2, 1, 0, 1, 1, 1, 2, 2, 0, 0,\n",
       "       2, 1, 0, 2, 2, 2, 1, 2, 2, 2, 2, 0, 0, 2, 1, 0, 2, 0, 0, 1, 2, 2,\n",
       "       1, 1, 2, 2, 1, 0, 0, 1, 0, 1, 0, 0, 2, 2, 0, 0, 2, 2, 2, 1, 0, 2,\n",
       "       0, 1, 1, 2, 1, 0, 2, 0, 0, 1, 1, 1, 1, 1, 2, 0, 0, 0, 0, 1, 0, 2,\n",
       "       2, 0, 0, 2, 2, 1, 2, 1, 1, 1, 1, 1, 0, 2, 1, 2, 2, 1, 0, 1, 0, 2,\n",
       "       0, 0, 0, 2, 2, 0, 0, 1, 0, 1, 0, 1, 2, 0, 0, 0, 0, 1, 0, 2, 2, 0,\n",
       "       2, 0, 0, 2, 0, 2, 1, 0, 1, 2, 1, 1, 2, 1, 1, 2, 1, 2, 1, 2, 2, 1,\n",
       "       1, 1, 0, 0, 0, 2, 1, 2, 0, 1, 2, 1, 2, 1, 0, 0, 1, 2, 0, 0, 0, 1,\n",
       "       1, 2, 2, 2, 1, 1, 2, 2, 1, 2, 0, 1, 2, 1, 0, 1, 1, 1, 1, 0, 1, 1,\n",
       "       2, 1, 2, 0, 0, 0, 0, 2, 1, 0, 1, 2, 2, 2, 0, 1, 1, 1, 2, 0, 2, 2,\n",
       "       1, 2, 1, 0, 1, 0, 1, 2, 2, 0, 0, 0, 1, 1, 0, 2, 1, 1, 1, 0, 0, 0,\n",
       "       0, 0, 2, 2, 0, 1, 0, 2, 2, 1, 2, 0, 1, 0, 0, 1, 0, 2, 0, 1, 1, 1,\n",
       "       0, 1, 1, 0, 2, 0, 1, 1, 0, 2, 1, 1, 1, 0, 1, 2])"
      ]
     },
     "execution_count": 2,
     "metadata": {},
     "output_type": "execute_result"
    }
   ],
   "source": [
    "n_samples = 500\n",
    "np.random.seed(42)\n",
    "\n",
    "classes = [\"A\", \"B\", \"C\"]\n",
    "\n",
    "random_classes = np.random.choice(classes, size=n_samples)\n",
    "\n",
    "\n",
    "class_to_int = {label: idx for idx, label in enumerate(classes)}\n",
    "random_classes_int = np.vectorize(class_to_int.get)(random_classes)\n",
    "random_classes_int"
   ]
  },
  {
   "cell_type": "code",
   "execution_count": 3,
   "id": "cf74d7bc",
   "metadata": {},
   "outputs": [],
   "source": [
    "X = np.random.normal(2, 2, n_samples)\n",
    "Z = np.random.normal(9, 1, n_samples) \n",
    "P = np.random.beta(1, 2, n_samples)\n",
    "\n",
    "Y = 2*X +  np.random.normal(0, 0.5, n_samples) + P + Z + random_classes_int * X \n",
    "\n",
    "X= np.column_stack((X,X**2, Z + X, X * P, P, random_classes_int))"
   ]
  },
  {
   "cell_type": "code",
   "execution_count": 4,
   "id": "4a214669",
   "metadata": {},
   "outputs": [],
   "source": [
    "reg = LinearRegression(regularization=\"None\").fit(X,Y)\n",
    "ridge = LinearRegression(regularization=\"Ridge\").fit(X,Y)\n",
    "lasso = LinearRegression(regularization=\"Lasso\", n_iter = 10000, lr=0.001).fit(X,Y)\n",
    "elastic = LinearRegression(regularization=\"ElasticNet\", n_iter = 10000, lr=0.001, alpha=0.4).fit(X,Y)"
   ]
  },
  {
   "cell_type": "code",
   "execution_count": 5,
   "id": "8738d918",
   "metadata": {},
   "outputs": [
    {
     "name": "stdout",
     "output_type": "stream",
     "text": [
      "╒══════════╤═════════╕\n",
      "│ Metric   │   Value │\n",
      "╞══════════╪═════════╡\n",
      "│ MAE      │  1.5889 │\n",
      "├──────────┼─────────┤\n",
      "│ RMSE     │  2.1834 │\n",
      "├──────────┼─────────┤\n",
      "│ MSE      │  4.7671 │\n",
      "╘══════════╧═════════╛\n",
      "╒══════════╤═════════╕\n",
      "│ Metric   │   Value │\n",
      "╞══════════╪═════════╡\n",
      "│ MAE      │  1.3203 │\n",
      "├──────────┼─────────┤\n",
      "│ RMSE     │  1.8239 │\n",
      "├──────────┼─────────┤\n",
      "│ MSE      │  3.3266 │\n",
      "╘══════════╧═════════╛\n",
      "╒══════════╤═════════╕\n",
      "│ Metric   │   Value │\n",
      "╞══════════╪═════════╡\n",
      "│ MAE      │  1.2972 │\n",
      "├──────────┼─────────┤\n",
      "│ RMSE     │  1.7891 │\n",
      "├──────────┼─────────┤\n",
      "│ MSE      │  3.201  │\n",
      "╘══════════╧═════════╛\n"
     ]
    },
    {
     "data": {
      "text/plain": [
       "(Array(0.9052454, dtype=float32),\n",
       " Array(0.9338775, dtype=float32),\n",
       " np.float64(0.9363737064688338))"
      ]
     },
     "execution_count": 5,
     "metadata": {},
     "output_type": "execute_result"
    }
   ],
   "source": [
    "elastic.print_errors(X, Y), lasso.print_errors(X, Y), ridge.print_errors(X, Y)\n",
    "elastic.score(X, Y), lasso.score(X, Y), ridge.score(X, Y)"
   ]
  },
  {
   "cell_type": "code",
   "execution_count": 6,
   "id": "e2561b93",
   "metadata": {},
   "outputs": [
    {
     "name": "stdout",
     "output_type": "stream",
     "text": [
      "Model score:0.9052454233169556\n",
      "R adjusted:0.8944900631904602\n",
      "Beta: [-5.0410217e-01  1.2894970e+00  9.9426448e-02  1.0410082e+00\n",
      "  1.9934146e-01  2.6477067e-04  9.5286191e-01]\n",
      "Cross validation score: {'MAE': 1.6261, 'RMSE': 2.252, 'MSE': 5.1046, 'R2': 0.8965}\n",
      "================================================================================\n",
      "        The Ramsey RESET test for linearity\n",
      "        Test Statistic : 419.8566 \n",
      "        P-value        : 0.0 \n",
      "        Interpretation : Model may be misspecified (nonlinearity exists) ❌ \n",
      "================================================================================\n",
      "        \n",
      "================================================================================\n",
      "        Breusch-Pagan Test for Heteroscedasticity\n",
      "        Test Statistic : 225.4683\n",
      "        P-value        : 0.0\n",
      "        Interpretation : Heteroscedasticity detected — variance of residuals is not constant. ❌\n",
      "================================================================================\n",
      "        \n",
      "================================================================================\n",
      "        Durbin-Watson Test for Independence of Errors\n",
      "        DW Statistic  : 1.9429999589920044\n",
      "        Interpretation: No autocorrelation ✅ \n",
      "    ================================================================================\n",
      "        \n",
      "================================================================================\n",
      "        VIF Test for Multicollinearity\n",
      "        Feature 1: VIF = 9.274205935300616 | Multicollinearity ❌\n",
      "        Feature 2: VIF = 2.9786439383807304 | No Multicollinearity ✅\n",
      "        Feature 3: VIF = 5.1853349834231395 | Multicollinearity ❌\n",
      "        Feature 4: VIF = 4.146604591212648 | No Multicollinearity ✅\n",
      "        Feature 5: VIF = 1.817673930220152 | No Multicollinearity ✅\n",
      "        Feature 6: VIF = 1.0049942003194932 | No Multicollinearity ✅\n",
      "================================================================================\n",
      "================================================================================\n",
      "        Shapiro-Wilk normality test of residuals \n",
      "\n",
      "        Distribution of residuals is not normal ❌\n",
      "================================================================================\n",
      "╒══════════╤═════════╕\n",
      "│ Metric   │   Value │\n",
      "╞══════════╪═════════╡\n",
      "│ MAE      │  1.5889 │\n",
      "├──────────┼─────────┤\n",
      "│ RMSE     │  2.1834 │\n",
      "├──────────┼─────────┤\n",
      "│ MSE      │  4.7671 │\n",
      "╘══════════╧═════════╛\n"
     ]
    },
    {
     "data": {
      "application/vnd.plotly.v1+json": {
       "config": {
        "plotlyServerURL": "https://plot.ly"
       },
       "data": [
        {
         "mode": "markers",
         "name": "Data Points",
         "type": "scatter",
         "x": {
          "bdata": "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",
          "dtype": "f8"
         },
         "y": {
          "bdata": "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",
          "dtype": "f8"
         }
        },
        {
         "marker": {
          "color": "red"
         },
         "mode": "markers",
         "name": "Model Prediction",
         "type": "scatter",
         "x": {
          "bdata": "9SPZqoW/IEB27CPZu1gBQD6FJXvnjw9AcPXNnxVbFEDzer+VTYEFQAnqAjfZ0Q5AJMi/57S5CUDSLS8RlkIQQIDPBYgvnbG/BWywML5EA0Ddql1cEbMHQIq5I/EQeQdAthqglpwYEUBmWctHdiYHQOi2p1CsjdK/s9p84wd2CUD46wiaju7NPwoyptpjPeM/XLNDQ5Ob8j/cfs3jQW/8P7Ad0tAyZvG/4EP202XvEEAIx+sB8ufTv6ASZiiWjxRAcAuSS9b8z7/6M+x4X0ESQHhvI+IrF/8/Akys9fLs9r/AlwcpCf+1v8gBlC2dnBJAbSdnO6otB0Cpmy+xB3v9PyLPgHDadwPANMrf9NQdE0ApMvbNoPYWQHjs6BIPgRVACPnPh9Kf6D/ya4VV8h8GQAJx3EbP3wdAaL1EVOTg8L/SsgQcTOMCQArx9Td+kRBAwKSzh007DECgDDxMO3XMv9Si6+PTldE/oNoP4kWmDEDJCpzgKSAKQP5cCLEIEQTAtspKnTROB8DfyWyiDI39PxJIIqogQ+o/aPZE/lB09j+c1X4dtdbyP49H5niPvg9AnG35ATeoAUCm/4CzPEgEQNAmtw506OW/FD1W6qrpEsDkb0B5A/0QQIyI/MJIJRlAHDnfEYMJ9T+876o+Mf0DQNOBPB46MQVAzEa0JQBnFUCLP2mYRzkOQCq6pgzh7wdAwUdKoZ/jAEDQAr/LtvYAQMDyWIgjIOy/zDkSXni68z840+Ic4i0OQAUB/OiAhfg/KUkg7qi1AEAw7PFeWIvWv2NVMtjLIAdAUI8YymuN7b+Al7MoXKMEQP+T785AAvo/APaLJP7I97/+d950So4QQHI8j6Kdwfo/YHO8mt/iFkAXPkPYddMTQDClQRQy284/2M8KdOuo2j94TcRqVgPWv/DqrVlPxPK/NPgOS4Z98j8yVUpWy4wTQPrz6tHrRv2/3iyjhZChDUCydsdPHksMQAlHKI0F4AhAHgF+/hO7C0AwL1d1R67Kv8bXfvRlLwxAeh9ONvTY7D+0rooj21gHwGmwz9Yp6wBAsHmAH0f00z8uZktB294SQIrNt9Q/1vY/A79OSc+6AEC0/fxcFDoGQCiQqzd0cfc/0g6VZFWt/D88jHl5R38NQHAjEMRx+sC/mtkcEn0V4z/gDcfh0dawP97N1zt5fhNAUG/J+lgX4z/h3Tc6OWr7P4ZYDWKxj+k/NsUq/Wcj9j8KCJij9M3gP0NxIpxRZwdAAFu/sE/qtL9M6bLFjI7mv3Zt9zXXQuw/bAIFqm3T2T+8T1jlP5/lv0WwexbupvU/COaZka4f9b/qkhxZbdIVQCRYiN/Hhu+/REHFbAej5j+/hUbqExbzPzxaWBw8ehVAIEfBNr5e979B4DJR1kUCQGCnvbwZTBBAbC6MoZUW9j/IN72DkLzVv7qatB1ji/w/RFmH3YA3FEA0gtj39pboP1KZE8JNfRNAUkJ66n8jBEBuGTppMNwRQBA6mNe5fwNAjHaAjP5/8D/Ul+GfYhwVQNo/o2KQmgNAAs9VBLKpAkCUIjd0v+sMQCT3XQJUyQ5A0uqjx3UBDUCU33d9OnLmv/qieHWIN+c/zhwk/m375T/gyDVbGUfcP+jGb2DnXtA/LIWxufEN5T8QDvvJC2AFQBo6ebYZ6QdAJIUYIZny/z82etpt8V3yP9u8YRMmNBJAkLuCDeQR/T9ovkvBP/4OQLo5IiIpkOs/JrEbUJGeBkDVptLlmLwSQESp/H6YvQnACJ94LBUT5j/05rfL938JQPOArGPYsxFAWeDc/fM/A0CY1DHGDMsAQPR8GfZ24hRAbDFfciMxEkAo7T2dTtLQPyw5iMLR3AFApkdTkkDDBUDShFIHsb8VQEjw5sFs2w1APs/ILIGv/D9Iac6obIUDQHJ89wbGSPy//iz3lIB/D0DwVpjn61QKQNuzchJ/shFAJsbcufJj+z9DDqDKdAwCQPcNcVHgmPA/0ML5kXbz0r/UtDNmonTpP1qIipO1N/q/J3yjZDmiDkBcmliYUcwCwAdyzvDTQRhAjJtPQbpz+L9mU02ixf8TQPhJ3SvFicc/SjRMz/35CEBUdg6X06/fPwacMhPWYxVA6LeikQGzAEAVJEKY5pYQQGF6RCZ+NwFA4sj7W7mlBUASzp2mktsJQGDAat9iKe4/iEdIM0rw4b90TxsJeE3jv1XzOkxA0ABAJMu3dw9d8D/iS9flbVUCwHCzjuIBNQhAoJrr83f327+YiiHKh4XUv2JqAuH/qv4/cHz0LQWSyT+3LE9TyPUBQKPxKt2lyRdAZCTLf8Le8z8AWAxpKIG+v0p7Ttxz5wJAyF2wXzTF3D/2luY7SWEAQE2XVE/YDAVAQkyMq6rf/j9jgWxbqucAQEAY61zNEgNA7QT6COPGFEAJq4rGFej3P89kEKn4CQJAuvaZH53eDUALbqLqXYkHQGaB2NuMifQ/IDP3WghuDkDMR29x+3rQP6rBK/x3vvg/POYSRwlN3T98OljbAjgJQPGS3+NMhBFAgNeZ78iSA0A6S4QQSjQBQPAPjZVu/88/GtcMCmcJ4z9I5CRav7zYvx7GS92v0wLAlukiQ6Z88z/Koyvw63X2P4zzLyT7YRlAKt8kZqSAFEAGFRkF5+MIQBt282UCrRhAAhAgA5IgE0AI+kOl/x4AwPZKLXYmihBArMgZ3h1iC0AINZx1ar32P4zZopatkuq/WApeV8OGCUBaHmZuG0QBwEtgXb0TUP8/qOJuO5eB6D+0+tI13pDgv2iLShqqghFAaGgz8Zmt/j8vN+bqkMgCQATLJbykhg5A6DoF3vy3/z+e0/Py+jgHQFg6xm26DQ1AbuOuqW4RCUBLVVHwX5MEQA8ciKnQQxZA/l3oR47vEUCDMh6ZbUH9P0jsteFcHsc/0BOobs03CkA2cYdLKnQDQAg3E+sFrBVAqDZId8XMD0Cj2F5hLjoMQMAh/6sMNQBAKA5kDzXSzz8ee3OQSar5Pxf67n4WoQdAcC7pWbhY979AjH26B+8RQDZSl11OiRhAUiGbUvE8/r9UCr2vIZ3pv3AAUIyyrANAFMAEif626j/p94k5rCwEQJZuoKbYtP0/gH/6yOFjqL+PNLj7p04SQL94v/aobgdAwv0V/y8t7D/YA3mbSgoUQIrwqN5Gdu8/iIsMS6H03r9mdekXqu8CQOcwoZuIpgVAglGESbuCCEA+FTgUQSQLQHJe3gAMQghAta53OJ+bB0A+IO4jnkfrP0Dv8ZCvbuQ/tn3QCLrgC0DHRHenMuUDQMltHP+5Hw1AKhyUswOi9r+G/k6sHfPvPzR6RCCTQRdA0pu0AC3XCEBOYBQck7oEQPDRQoCoUwtAG2/7G+iqGUDQSP9lAfwXQAJYgB1vi/K/SIz8tLPx2r9ueRNiD6HzvwrAmmRiL+A/Whf6DvPgAEDSho5FS98DQEDMpo6u+fC/wDIMnljB+78gxmHaUBveP47odDOjqA5A4PazMBC5EEApefyAh6UVQHxds4wm9/4/NrPU3x1ADUDw0zDPQxQQQFpd/hW7GfA/coKh1Zw0BkBrGMpiDooKQCjJtUdyQcc/qFg+UQMjFUCkGWG+DML+P3XWJw1/ZAFAoIsAFhL2uj8QuIctwzvcP9oofH7sJAPACmfWIOvhAECi0crIpgscQECftgL6EKO/1wzHVUDPH0Do+Un3YlATQAxtPldc2PA/zIN4Ha1vAEASbXoeQq37P0naGkw5phVAu/xFSbJFCEBIaVzPrnQRQKPMomYSuwVAltq/mrhq/D9UENq0BzkFQAUoBxZQ+vI/2OR0Ounw7L9Sze1P3gQNQGSlcQaKCfC/s8NT3rVl9z8ibsC6oezxP5YV2n0tSwpAroZh1oOEFECSX5amx6MRQGyqkrxAwgpA9GJY1i6w5z/0Ti9MBSH6PwhnmPyWdvU/BzXMUnTz8D9orkbaHh/zP6hHvU+ARPI/rAIpULHZ8D+CzgCw6ToPQACMq8Vd+bu/qN7U2ktQ4T+aM2SSRKvyvxqtxqXoUhNAjP+y6DAM2j/9DaQMiZIKQKqK/PLnmgdA9EpSQ/uMEkCyrpsPi0f5P9B75aMQ3Lo/yOJjLLTI8b8E1xkb3o0MwFYQxB7nlAJA2o6c7VVoDEB7ypvTCIwHQODklkTU8/C/RuL7FIRPEEBc7DW4bVDjPzB1CDAs1cc/Gnw7VSnh4T8bDd62KUEBQJAUf71ZBe+/rZA5D5rQ/j+H9ZMfBd8GQKOQg6HM2xBAqXWE7bfQAkAgCyIrebzlv15dJ7jaYQJA4PDSJyzavr8QUlFdpzHOv6gd1iyJNue/wCQwev0o/b+0MI5BmbPrPxCsQdL2BxFAF6rRfUcNGkAEVd15YUrrPxzYKxhYsBBAuQHz5pRf8z/42yu309L0vxK5lDsPNwtAQdV2aszBA0AYcD3dTYsWQCS1PwwWHPG/RMWGZUZeHkDwjrxK1rsUQC0ut4orbf8/zgVcKI9x9j8MicPNKzDiP23YCQN3wQFARu1+7DEd+j/GnSKKgTgIQNqYPF6MlPY/eAvge9hRE0D6q2VEMAACQBYZAKgnyPc/+srTKb0xEEAq+BWttuvzvzOO1TOwdAVAGn9Zfb1oAEAYxugFYEvqvyJg2xEPrPa/In3Kwi8VEEAeMf81l2cPQOrbvqDMwgJAgGCCEre7FUBPu/qmNA4HQG7nae6Z/xFAcZg6Rqa5BkBoGPpqkSz3P+Dtzna8dL2/2DP+5kxh6T9IcL2Dp8X3P/rpR9C85xJAefjGK5dRDEA/jrWl/EgFQF7wQoKP6w1AjHk16ClwCEAuvRR+5TAEQPAtVB8J6u+//3NDpf4cEUCqckH23lPxPwYk5ppUtRBADGCHiE97EUCEDynuEx7lP1BRKn0JMg9A85LKYspy9D+KgXc+k6P0P64LIkGcHgRARncxITONBEAMS5ox6J0AQBR8kI/5ZOW/xJTm7xsd/D9mmzEOUzoaQBAWqgRIiwzAg6Ks83TqDUCGacTq/XQQQJSIu0Ur7+a/jPVtPlv68D8AaNT09H9Xvz7Eu8zr1BZALMc76f7SEEB34riBHjYRQCQDIMkr7gFAIChsECp/EkA6ybqqhrz/P5LTtwiO3xJA3vws/+A9+z/WLWnpTIfkPyCgRH7TfBZA1/7Y+jRV/z+oaHPMP+jJP8iS8p47Isc/GNQhyHXqxz+ydJD71YINQK+sCYUd1vw/LqjLUDhiGkCRfKL8Sn0RQGPuNN88HQRAMA1Toi47E0Ce713MzSTwP35gPsJnWvu/QJJTWHpVlT+yuM2Y9loCQCiu4LTw4Pg/siiuMM4wDUAF94/1KQP8Pw==",
          "dtype": "f8"
         },
         "y": {
          "bdata": "45UeQqPFf0GTTK5BjsLPQW1xYEHIPZ5BkzCTQRXlqEGvnC1BUtCJQV3wkEEV36hBKlSdQRaciUF4wS1BuwSFQQZFFkG481pBQbRbQfe/WkHc5dFAexi2QWW0HEHqAdFBov4RQTudtEEom2FBuN7sQBGKLUFAmsRBDr2JQe6FeUGjvoVAXIC8QTTs1UF09uNByv89QbxdjkFDaIBBdFwQQSnYa0HO+6lBInGnQdy3EkFGbxdBHy+eQS0/qEG4gXFAS34gQKYogUGE1y9BpCh1QeUMUEHqLKpB3sVXQaOxg0HTNShBkA6Zvs/lxUHsoe9BLdRVQf1biUFSMY9BnSDJQb1OmkG1inhBRvNrQfzCX0HMSydBANk1QYLjpEF+xUFBIWdvQRFeBEHSnZlBp0H7QNoHhUESMWtB+tEEQQDcp0EQcnpBPHrcQSXfw0HUKRNBIl4OQUu9C0HU/ApBpikiQXiAx0He/6BA76eXQWJDj0E9+YdBu+2lQRvNA0GMj5BBAZw5QWC+qED3h09B5i4jQfIz1UGb3m5BaxtmQcBxgkGRbEhBQ3eWQTF1rUEnKRxBdwUAQXD5EEEzo8JBC/cWQecXUkEo6UhBYhZJQV4ONkHlfnhBtv4aQYgVEkHr3DRBpxMtQTgvFEG4b3RBhaUKQVsd4UFzktlAKMtKQVujXEGUPc5BCnDkQOGGhUFh76JB1hgyQdkcBEFIu2RBZvfRQTOHTEFTLMZBoiGNQdKyqkFkqYFB2RhjQedwz0H/3mNB7EZpQd5voEHJFKhBj0efQbnV40C+jyVB/70xQUvbMUGArT9BVx46QTnldEHW15pBZcGCQZoOMUGqnqtBzDOKQeYIpkEa129BDQSTQWRKx0HwSSBAdwMmQXvTjkFv/7VBA4prQYu5gEGh1MxBFdSzQS0rTEFPknxBTg+WQeFtwkFe8aNBCOJyQREZf0Hzn6ZAxZubQXvAqUH18adBeuI/QYP5eUEIeUZB89ImQepzRkEEytZAyeq4QeOs0ECmZdRBwdCiQLQwtEFfeU5BTCl6Qas/SEFPMdNBce+HQYGZr0EeNG9BIAl3QYv6h0F5DjtBJt3kQEwhKUFN0ltBZXd1Qd0qu0DvBYVBLUwDQZrTAEE8EoVBexcrQb7dfUGCfeJBoO1EQRYsL0GEe3RBK8YPQSgcYUGLbIpBA5VlQbA7YkGkt3RBlB7CQVSUUEGiuI9BY3uuQfEGjUHabGVBMUCdQZDqUkE683FBaSsGQTcNmUFxRb5B9TCGQZPlfkGgKl5BxX0vQd+IH0FiEeZAGfxWQUnFPUF7ePRB2UfMQaosjkFVSOhB/JXSQaRrw0DpIMRBfgGTQTzvWEGsWwpBAoiYQWXxmUDKBXFB6v5SQa5sskCvEqNB81ltQfOwekGCSqVB5qNXQcXWiEFYG6RBKgugQdMXhkEn6c9BmJKvQWIJe0HCoCNBIdWbQe11lEHfxMlBpFzHQRiXpUG8B2JBqUIRQQbDg0Hg3qFB9nACQZyRu0HXWdNBLByiQKqnBUEOfoFBw21KQQ07hkFm4oJBeLnkQJ0Ts0FKUJJB3p0FQQGHx0HXyUNByln9QJNBf0FoV4FBswKlQTWtn0HdPoRBOJqJQRtfGkExdUhBQKGaQaaHiUFJDaVBX46zQIA/G0GC7+tB5L+RQTNDf0FR2aFBeV3zQQd/2EGkZqVA17P8QKh+8UBk+UVBn4VvQTiXcUEweNpAhX+pQF/uQ0GJqKhBdlytQQXuwEEPuo1BwyCZQTSmqEGouS1BRZaRQQ3IkkHNcx9BnmTDQTcJXkEP41lBvgI8QSr5P0FQrohA5IaDQe+/+UFB0w5BCX0DQgYkukGQrCVB5BpXQa0OfUHH5NlBsMiAQX+ktkE0rHVBl2hVQSmjjkEGu0dBR+oCQdzHn0FWIONAD2pdQXczVUGANpZB3YTNQYjVwEF3OqZBiCopQZhKaEHbczdBfjxnQfwnSUEPJl1B8B9MQR2+pUFPVi1Bc1g+QWgxxUBzG75BLQ8rQfIsnUG9QYFBQlW6QQ01N0H6fTRB5c0aQS5QeEC8Q2tBQaGlQd/PmUHLMPRAAAOWQVGNYUFwwhVBAJ0fQa8ybUEEJNFA7wRvQUgnoEGUprxBM7OIQTAaBUFhM2hBGEclQX1BCEEsMhNBlCSSQDzHPUG1sbZBUB8BQhjEP0GaS6pB9t5KQY/Js0AqzqdB3IeBQWZhwkH1e9pAK/oDQsij0kGF6IpBV25uQQM1J0Gk14lB47ZiQVzGi0FKLWBBwlO+QUG+akFCD1xBou28QQ4y60CTcJJBw7d1QerA6EBjwLVAmLCoQSjVqUGdo4FBGMbPQe7Lk0Ga7MlBcfmVQdE5YEGJrhxBP/U0QYiUOUHx07pBMz+lQVsJgUEA6ppBm0SQQe+faEEweQBBfQG4QfONQkEIoLhBCPiuQQQnJUHqXqRBd8o4QauKQkE0gYRBfiJlQf9XZ0HoTgBBMr1qQf6O6kHzOoY/ow6fQXanqEEQAh1BKTMvQbr8IUHPUdtBw1y5QVOMpkFernVBEEvDQcxraUFDZcJBZalFQfvyREFXUN5BizeFQRzZ8kCEDg9BJpM3QXaAjkGj6YVByZPkQWfHrUG4SYZBl5GuQSozY0H4g/pAyGEsQf4UeEGKkjRBmxWUQTuMX0E=",
          "dtype": "f4"
         }
        }
       ],
       "layout": {
        "template": {
         "data": {
          "bar": [
           {
            "error_x": {
             "color": "#2a3f5f"
            },
            "error_y": {
             "color": "#2a3f5f"
            },
            "marker": {
             "line": {
              "color": "#E5ECF6",
              "width": 0.5
             },
             "pattern": {
              "fillmode": "overlay",
              "size": 10,
              "solidity": 0.2
             }
            },
            "type": "bar"
           }
          ],
          "barpolar": [
           {
            "marker": {
             "line": {
              "color": "#E5ECF6",
              "width": 0.5
             },
             "pattern": {
              "fillmode": "overlay",
              "size": 10,
              "solidity": 0.2
             }
            },
            "type": "barpolar"
           }
          ],
          "carpet": [
           {
            "aaxis": {
             "endlinecolor": "#2a3f5f",
             "gridcolor": "white",
             "linecolor": "white",
             "minorgridcolor": "white",
             "startlinecolor": "#2a3f5f"
            },
            "baxis": {
             "endlinecolor": "#2a3f5f",
             "gridcolor": "white",
             "linecolor": "white",
             "minorgridcolor": "white",
             "startlinecolor": "#2a3f5f"
            },
            "type": "carpet"
           }
          ],
          "choropleth": [
           {
            "colorbar": {
             "outlinewidth": 0,
             "ticks": ""
            },
            "type": "choropleth"
           }
          ],
          "contour": [
           {
            "colorbar": {
             "outlinewidth": 0,
             "ticks": ""
            },
            "colorscale": [
             [
              0,
              "#0d0887"
             ],
             [
              0.1111111111111111,
              "#46039f"
             ],
             [
              0.2222222222222222,
              "#7201a8"
             ],
             [
              0.3333333333333333,
              "#9c179e"
             ],
             [
              0.4444444444444444,
              "#bd3786"
             ],
             [
              0.5555555555555556,
              "#d8576b"
             ],
             [
              0.6666666666666666,
              "#ed7953"
             ],
             [
              0.7777777777777778,
              "#fb9f3a"
             ],
             [
              0.8888888888888888,
              "#fdca26"
             ],
             [
              1,
              "#f0f921"
             ]
            ],
            "type": "contour"
           }
          ],
          "contourcarpet": [
           {
            "colorbar": {
             "outlinewidth": 0,
             "ticks": ""
            },
            "type": "contourcarpet"
           }
          ],
          "heatmap": [
           {
            "colorbar": {
             "outlinewidth": 0,
             "ticks": ""
            },
            "colorscale": [
             [
              0,
              "#0d0887"
             ],
             [
              0.1111111111111111,
              "#46039f"
             ],
             [
              0.2222222222222222,
              "#7201a8"
             ],
             [
              0.3333333333333333,
              "#9c179e"
             ],
             [
              0.4444444444444444,
              "#bd3786"
             ],
             [
              0.5555555555555556,
              "#d8576b"
             ],
             [
              0.6666666666666666,
              "#ed7953"
             ],
             [
              0.7777777777777778,
              "#fb9f3a"
             ],
             [
              0.8888888888888888,
              "#fdca26"
             ],
             [
              1,
              "#f0f921"
             ]
            ],
            "type": "heatmap"
           }
          ],
          "histogram": [
           {
            "marker": {
             "pattern": {
              "fillmode": "overlay",
              "size": 10,
              "solidity": 0.2
             }
            },
            "type": "histogram"
           }
          ],
          "histogram2d": [
           {
            "colorbar": {
             "outlinewidth": 0,
             "ticks": ""
            },
            "colorscale": [
             [
              0,
              "#0d0887"
             ],
             [
              0.1111111111111111,
              "#46039f"
             ],
             [
              0.2222222222222222,
              "#7201a8"
             ],
             [
              0.3333333333333333,
              "#9c179e"
             ],
             [
              0.4444444444444444,
              "#bd3786"
             ],
             [
              0.5555555555555556,
              "#d8576b"
             ],
             [
              0.6666666666666666,
              "#ed7953"
             ],
             [
              0.7777777777777778,
              "#fb9f3a"
             ],
             [
              0.8888888888888888,
              "#fdca26"
             ],
             [
              1,
              "#f0f921"
             ]
            ],
            "type": "histogram2d"
           }
          ],
          "histogram2dcontour": [
           {
            "colorbar": {
             "outlinewidth": 0,
             "ticks": ""
            },
            "colorscale": [
             [
              0,
              "#0d0887"
             ],
             [
              0.1111111111111111,
              "#46039f"
             ],
             [
              0.2222222222222222,
              "#7201a8"
             ],
             [
              0.3333333333333333,
              "#9c179e"
             ],
             [
              0.4444444444444444,
              "#bd3786"
             ],
             [
              0.5555555555555556,
              "#d8576b"
             ],
             [
              0.6666666666666666,
              "#ed7953"
             ],
             [
              0.7777777777777778,
              "#fb9f3a"
             ],
             [
              0.8888888888888888,
              "#fdca26"
             ],
             [
              1,
              "#f0f921"
             ]
            ],
            "type": "histogram2dcontour"
           }
          ],
          "mesh3d": [
           {
            "colorbar": {
             "outlinewidth": 0,
             "ticks": ""
            },
            "type": "mesh3d"
           }
          ],
          "parcoords": [
           {
            "line": {
             "colorbar": {
              "outlinewidth": 0,
              "ticks": ""
             }
            },
            "type": "parcoords"
           }
          ],
          "pie": [
           {
            "automargin": true,
            "type": "pie"
           }
          ],
          "scatter": [
           {
            "fillpattern": {
             "fillmode": "overlay",
             "size": 10,
             "solidity": 0.2
            },
            "type": "scatter"
           }
          ],
          "scatter3d": [
           {
            "line": {
             "colorbar": {
              "outlinewidth": 0,
              "ticks": ""
             }
            },
            "marker": {
             "colorbar": {
              "outlinewidth": 0,
              "ticks": ""
             }
            },
            "type": "scatter3d"
           }
          ],
          "scattercarpet": [
           {
            "marker": {
             "colorbar": {
              "outlinewidth": 0,
              "ticks": ""
             }
            },
            "type": "scattercarpet"
           }
          ],
          "scattergeo": [
           {
            "marker": {
             "colorbar": {
              "outlinewidth": 0,
              "ticks": ""
             }
            },
            "type": "scattergeo"
           }
          ],
          "scattergl": [
           {
            "marker": {
             "colorbar": {
              "outlinewidth": 0,
              "ticks": ""
             }
            },
            "type": "scattergl"
           }
          ],
          "scattermap": [
           {
            "marker": {
             "colorbar": {
              "outlinewidth": 0,
              "ticks": ""
             }
            },
            "type": "scattermap"
           }
          ],
          "scattermapbox": [
           {
            "marker": {
             "colorbar": {
              "outlinewidth": 0,
              "ticks": ""
             }
            },
            "type": "scattermapbox"
           }
          ],
          "scatterpolar": [
           {
            "marker": {
             "colorbar": {
              "outlinewidth": 0,
              "ticks": ""
             }
            },
            "type": "scatterpolar"
           }
          ],
          "scatterpolargl": [
           {
            "marker": {
             "colorbar": {
              "outlinewidth": 0,
              "ticks": ""
             }
            },
            "type": "scatterpolargl"
           }
          ],
          "scatterternary": [
           {
            "marker": {
             "colorbar": {
              "outlinewidth": 0,
              "ticks": ""
             }
            },
            "type": "scatterternary"
           }
          ],
          "surface": [
           {
            "colorbar": {
             "outlinewidth": 0,
             "ticks": ""
            },
            "colorscale": [
             [
              0,
              "#0d0887"
             ],
             [
              0.1111111111111111,
              "#46039f"
             ],
             [
              0.2222222222222222,
              "#7201a8"
             ],
             [
              0.3333333333333333,
              "#9c179e"
             ],
             [
              0.4444444444444444,
              "#bd3786"
             ],
             [
              0.5555555555555556,
              "#d8576b"
             ],
             [
              0.6666666666666666,
              "#ed7953"
             ],
             [
              0.7777777777777778,
              "#fb9f3a"
             ],
             [
              0.8888888888888888,
              "#fdca26"
             ],
             [
              1,
              "#f0f921"
             ]
            ],
            "type": "surface"
           }
          ],
          "table": [
           {
            "cells": {
             "fill": {
              "color": "#EBF0F8"
             },
             "line": {
              "color": "white"
             }
            },
            "header": {
             "fill": {
              "color": "#C8D4E3"
             },
             "line": {
              "color": "white"
             }
            },
            "type": "table"
           }
          ]
         },
         "layout": {
          "annotationdefaults": {
           "arrowcolor": "#2a3f5f",
           "arrowhead": 0,
           "arrowwidth": 1
          },
          "autotypenumbers": "strict",
          "coloraxis": {
           "colorbar": {
            "outlinewidth": 0,
            "ticks": ""
           }
          },
          "colorscale": {
           "diverging": [
            [
             0,
             "#8e0152"
            ],
            [
             0.1,
             "#c51b7d"
            ],
            [
             0.2,
             "#de77ae"
            ],
            [
             0.3,
             "#f1b6da"
            ],
            [
             0.4,
             "#fde0ef"
            ],
            [
             0.5,
             "#f7f7f7"
            ],
            [
             0.6,
             "#e6f5d0"
            ],
            [
             0.7,
             "#b8e186"
            ],
            [
             0.8,
             "#7fbc41"
            ],
            [
             0.9,
             "#4d9221"
            ],
            [
             1,
             "#276419"
            ]
           ],
           "sequential": [
            [
             0,
             "#0d0887"
            ],
            [
             0.1111111111111111,
             "#46039f"
            ],
            [
             0.2222222222222222,
             "#7201a8"
            ],
            [
             0.3333333333333333,
             "#9c179e"
            ],
            [
             0.4444444444444444,
             "#bd3786"
            ],
            [
             0.5555555555555556,
             "#d8576b"
            ],
            [
             0.6666666666666666,
             "#ed7953"
            ],
            [
             0.7777777777777778,
             "#fb9f3a"
            ],
            [
             0.8888888888888888,
             "#fdca26"
            ],
            [
             1,
             "#f0f921"
            ]
           ],
           "sequentialminus": [
            [
             0,
             "#0d0887"
            ],
            [
             0.1111111111111111,
             "#46039f"
            ],
            [
             0.2222222222222222,
             "#7201a8"
            ],
            [
             0.3333333333333333,
             "#9c179e"
            ],
            [
             0.4444444444444444,
             "#bd3786"
            ],
            [
             0.5555555555555556,
             "#d8576b"
            ],
            [
             0.6666666666666666,
             "#ed7953"
            ],
            [
             0.7777777777777778,
             "#fb9f3a"
            ],
            [
             0.8888888888888888,
             "#fdca26"
            ],
            [
             1,
             "#f0f921"
            ]
           ]
          },
          "colorway": [
           "#636efa",
           "#EF553B",
           "#00cc96",
           "#ab63fa",
           "#FFA15A",
           "#19d3f3",
           "#FF6692",
           "#B6E880",
           "#FF97FF",
           "#FECB52"
          ],
          "font": {
           "color": "#2a3f5f"
          },
          "geo": {
           "bgcolor": "white",
           "lakecolor": "white",
           "landcolor": "#E5ECF6",
           "showlakes": true,
           "showland": true,
           "subunitcolor": "white"
          },
          "hoverlabel": {
           "align": "left"
          },
          "hovermode": "closest",
          "mapbox": {
           "style": "light"
          },
          "paper_bgcolor": "white",
          "plot_bgcolor": "#E5ECF6",
          "polar": {
           "angularaxis": {
            "gridcolor": "white",
            "linecolor": "white",
            "ticks": ""
           },
           "bgcolor": "#E5ECF6",
           "radialaxis": {
            "gridcolor": "white",
            "linecolor": "white",
            "ticks": ""
           }
          },
          "scene": {
           "xaxis": {
            "backgroundcolor": "#E5ECF6",
            "gridcolor": "white",
            "gridwidth": 2,
            "linecolor": "white",
            "showbackground": true,
            "ticks": "",
            "zerolinecolor": "white"
           },
           "yaxis": {
            "backgroundcolor": "#E5ECF6",
            "gridcolor": "white",
            "gridwidth": 2,
            "linecolor": "white",
            "showbackground": true,
            "ticks": "",
            "zerolinecolor": "white"
           },
           "zaxis": {
            "backgroundcolor": "#E5ECF6",
            "gridcolor": "white",
            "gridwidth": 2,
            "linecolor": "white",
            "showbackground": true,
            "ticks": "",
            "zerolinecolor": "white"
           }
          },
          "shapedefaults": {
           "line": {
            "color": "#2a3f5f"
           }
          },
          "ternary": {
           "aaxis": {
            "gridcolor": "white",
            "linecolor": "white",
            "ticks": ""
           },
           "baxis": {
            "gridcolor": "white",
            "linecolor": "white",
            "ticks": ""
           },
           "bgcolor": "#E5ECF6",
           "caxis": {
            "gridcolor": "white",
            "linecolor": "white",
            "ticks": ""
           }
          },
          "title": {
           "x": 0.05
          },
          "xaxis": {
           "automargin": true,
           "gridcolor": "white",
           "linecolor": "white",
           "ticks": "",
           "title": {
            "standoff": 15
           },
           "zerolinecolor": "white",
           "zerolinewidth": 2
          },
          "yaxis": {
           "automargin": true,
           "gridcolor": "white",
           "linecolor": "white",
           "ticks": "",
           "title": {
            "standoff": 15
           },
           "zerolinecolor": "white",
           "zerolinewidth": 2
          }
         }
        },
        "title": {
         "text": "x0 vs Y (with model prediction)"
        },
        "xaxis": {
         "title": {
          "text": "X1"
         }
        },
        "yaxis": {
         "title": {
          "text": "Y"
         }
        }
       }
      }
     },
     "metadata": {},
     "output_type": "display_data"
    },
    {
     "data": {
      "application/vnd.plotly.v1+json": {
       "config": {
        "plotlyServerURL": "https://plot.ly"
       },
       "data": [
        {
         "mode": "markers",
         "name": "Data Points",
         "type": "scatter",
         "x": {
          "bdata": "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",
          "dtype": "f8"
         },
         "y": {
          "bdata": "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",
          "dtype": "f8"
         }
        },
        {
         "marker": {
          "color": "red"
         },
         "mode": "markers",
         "name": "Model Prediction",
         "type": "scatter",
         "x": {
          "bdata": "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",
          "dtype": "f8"
         },
         "y": {
          "bdata": "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",
          "dtype": "f4"
         }
        }
       ],
       "layout": {
        "template": {
         "data": {
          "bar": [
           {
            "error_x": {
             "color": "#2a3f5f"
            },
            "error_y": {
             "color": "#2a3f5f"
            },
            "marker": {
             "line": {
              "color": "#E5ECF6",
              "width": 0.5
             },
             "pattern": {
              "fillmode": "overlay",
              "size": 10,
              "solidity": 0.2
             }
            },
            "type": "bar"
           }
          ],
          "barpolar": [
           {
            "marker": {
             "line": {
              "color": "#E5ECF6",
              "width": 0.5
             },
             "pattern": {
              "fillmode": "overlay",
              "size": 10,
              "solidity": 0.2
             }
            },
            "type": "barpolar"
           }
          ],
          "carpet": [
           {
            "aaxis": {
             "endlinecolor": "#2a3f5f",
             "gridcolor": "white",
             "linecolor": "white",
             "minorgridcolor": "white",
             "startlinecolor": "#2a3f5f"
            },
            "baxis": {
             "endlinecolor": "#2a3f5f",
             "gridcolor": "white",
             "linecolor": "white",
             "minorgridcolor": "white",
             "startlinecolor": "#2a3f5f"
            },
            "type": "carpet"
           }
          ],
          "choropleth": [
           {
            "colorbar": {
             "outlinewidth": 0,
             "ticks": ""
            },
            "type": "choropleth"
           }
          ],
          "contour": [
           {
            "colorbar": {
             "outlinewidth": 0,
             "ticks": ""
            },
            "colorscale": [
             [
              0,
              "#0d0887"
             ],
             [
              0.1111111111111111,
              "#46039f"
             ],
             [
              0.2222222222222222,
              "#7201a8"
             ],
             [
              0.3333333333333333,
              "#9c179e"
             ],
             [
              0.4444444444444444,
              "#bd3786"
             ],
             [
              0.5555555555555556,
              "#d8576b"
             ],
             [
              0.6666666666666666,
              "#ed7953"
             ],
             [
              0.7777777777777778,
              "#fb9f3a"
             ],
             [
              0.8888888888888888,
              "#fdca26"
             ],
             [
              1,
              "#f0f921"
             ]
            ],
            "type": "contour"
           }
          ],
          "contourcarpet": [
           {
            "colorbar": {
             "outlinewidth": 0,
             "ticks": ""
            },
            "type": "contourcarpet"
           }
          ],
          "heatmap": [
           {
            "colorbar": {
             "outlinewidth": 0,
             "ticks": ""
            },
            "colorscale": [
             [
              0,
              "#0d0887"
             ],
             [
              0.1111111111111111,
              "#46039f"
             ],
             [
              0.2222222222222222,
              "#7201a8"
             ],
             [
              0.3333333333333333,
              "#9c179e"
             ],
             [
              0.4444444444444444,
              "#bd3786"
             ],
             [
              0.5555555555555556,
              "#d8576b"
             ],
             [
              0.6666666666666666,
              "#ed7953"
             ],
             [
              0.7777777777777778,
              "#fb9f3a"
             ],
             [
              0.8888888888888888,
              "#fdca26"
             ],
             [
              1,
              "#f0f921"
             ]
            ],
            "type": "heatmap"
           }
          ],
          "histogram": [
           {
            "marker": {
             "pattern": {
              "fillmode": "overlay",
              "size": 10,
              "solidity": 0.2
             }
            },
            "type": "histogram"
           }
          ],
          "histogram2d": [
           {
            "colorbar": {
             "outlinewidth": 0,
             "ticks": ""
            },
            "colorscale": [
             [
              0,
              "#0d0887"
             ],
             [
              0.1111111111111111,
              "#46039f"
             ],
             [
              0.2222222222222222,
              "#7201a8"
             ],
             [
              0.3333333333333333,
              "#9c179e"
             ],
             [
              0.4444444444444444,
              "#bd3786"
             ],
             [
              0.5555555555555556,
              "#d8576b"
             ],
             [
              0.6666666666666666,
              "#ed7953"
             ],
             [
              0.7777777777777778,
              "#fb9f3a"
             ],
             [
              0.8888888888888888,
              "#fdca26"
             ],
             [
              1,
              "#f0f921"
             ]
            ],
            "type": "histogram2d"
           }
          ],
          "histogram2dcontour": [
           {
            "colorbar": {
             "outlinewidth": 0,
             "ticks": ""
            },
            "colorscale": [
             [
              0,
              "#0d0887"
             ],
             [
              0.1111111111111111,
              "#46039f"
             ],
             [
              0.2222222222222222,
              "#7201a8"
             ],
             [
              0.3333333333333333,
              "#9c179e"
             ],
             [
              0.4444444444444444,
              "#bd3786"
             ],
             [
              0.5555555555555556,
              "#d8576b"
             ],
             [
              0.6666666666666666,
              "#ed7953"
             ],
             [
              0.7777777777777778,
              "#fb9f3a"
             ],
             [
              0.8888888888888888,
              "#fdca26"
             ],
             [
              1,
              "#f0f921"
             ]
            ],
            "type": "histogram2dcontour"
           }
          ],
          "mesh3d": [
           {
            "colorbar": {
             "outlinewidth": 0,
             "ticks": ""
            },
            "type": "mesh3d"
           }
          ],
          "parcoords": [
           {
            "line": {
             "colorbar": {
              "outlinewidth": 0,
              "ticks": ""
             }
            },
            "type": "parcoords"
           }
          ],
          "pie": [
           {
            "automargin": true,
            "type": "pie"
           }
          ],
          "scatter": [
           {
            "fillpattern": {
             "fillmode": "overlay",
             "size": 10,
             "solidity": 0.2
            },
            "type": "scatter"
           }
          ],
          "scatter3d": [
           {
            "line": {
             "colorbar": {
              "outlinewidth": 0,
              "ticks": ""
             }
            },
            "marker": {
             "colorbar": {
              "outlinewidth": 0,
              "ticks": ""
             }
            },
            "type": "scatter3d"
           }
          ],
          "scattercarpet": [
           {
            "marker": {
             "colorbar": {
              "outlinewidth": 0,
              "ticks": ""
             }
            },
            "type": "scattercarpet"
           }
          ],
          "scattergeo": [
           {
            "marker": {
             "colorbar": {
              "outlinewidth": 0,
              "ticks": ""
             }
            },
            "type": "scattergeo"
           }
          ],
          "scattergl": [
           {
            "marker": {
             "colorbar": {
              "outlinewidth": 0,
              "ticks": ""
             }
            },
            "type": "scattergl"
           }
          ],
          "scattermap": [
           {
            "marker": {
             "colorbar": {
              "outlinewidth": 0,
              "ticks": ""
             }
            },
            "type": "scattermap"
           }
          ],
          "scattermapbox": [
           {
            "marker": {
             "colorbar": {
              "outlinewidth": 0,
              "ticks": ""
             }
            },
            "type": "scattermapbox"
           }
          ],
          "scatterpolar": [
           {
            "marker": {
             "colorbar": {
              "outlinewidth": 0,
              "ticks": ""
             }
            },
            "type": "scatterpolar"
           }
          ],
          "scatterpolargl": [
           {
            "marker": {
             "colorbar": {
              "outlinewidth": 0,
              "ticks": ""
             }
            },
            "type": "scatterpolargl"
           }
          ],
          "scatterternary": [
           {
            "marker": {
             "colorbar": {
              "outlinewidth": 0,
              "ticks": ""
             }
            },
            "type": "scatterternary"
           }
          ],
          "surface": [
           {
            "colorbar": {
             "outlinewidth": 0,
             "ticks": ""
            },
            "colorscale": [
             [
              0,
              "#0d0887"
             ],
             [
              0.1111111111111111,
              "#46039f"
             ],
             [
              0.2222222222222222,
              "#7201a8"
             ],
             [
              0.3333333333333333,
              "#9c179e"
             ],
             [
              0.4444444444444444,
              "#bd3786"
             ],
             [
              0.5555555555555556,
              "#d8576b"
             ],
             [
              0.6666666666666666,
              "#ed7953"
             ],
             [
              0.7777777777777778,
              "#fb9f3a"
             ],
             [
              0.8888888888888888,
              "#fdca26"
             ],
             [
              1,
              "#f0f921"
             ]
            ],
            "type": "surface"
           }
          ],
          "table": [
           {
            "cells": {
             "fill": {
              "color": "#EBF0F8"
             },
             "line": {
              "color": "white"
             }
            },
            "header": {
             "fill": {
              "color": "#C8D4E3"
             },
             "line": {
              "color": "white"
             }
            },
            "type": "table"
           }
          ]
         },
         "layout": {
          "annotationdefaults": {
           "arrowcolor": "#2a3f5f",
           "arrowhead": 0,
           "arrowwidth": 1
          },
          "autotypenumbers": "strict",
          "coloraxis": {
           "colorbar": {
            "outlinewidth": 0,
            "ticks": ""
           }
          },
          "colorscale": {
           "diverging": [
            [
             0,
             "#8e0152"
            ],
            [
             0.1,
             "#c51b7d"
            ],
            [
             0.2,
             "#de77ae"
            ],
            [
             0.3,
             "#f1b6da"
            ],
            [
             0.4,
             "#fde0ef"
            ],
            [
             0.5,
             "#f7f7f7"
            ],
            [
             0.6,
             "#e6f5d0"
            ],
            [
             0.7,
             "#b8e186"
            ],
            [
             0.8,
             "#7fbc41"
            ],
            [
             0.9,
             "#4d9221"
            ],
            [
             1,
             "#276419"
            ]
           ],
           "sequential": [
            [
             0,
             "#0d0887"
            ],
            [
             0.1111111111111111,
             "#46039f"
            ],
            [
             0.2222222222222222,
             "#7201a8"
            ],
            [
             0.3333333333333333,
             "#9c179e"
            ],
            [
             0.4444444444444444,
             "#bd3786"
            ],
            [
             0.5555555555555556,
             "#d8576b"
            ],
            [
             0.6666666666666666,
             "#ed7953"
            ],
            [
             0.7777777777777778,
             "#fb9f3a"
            ],
            [
             0.8888888888888888,
             "#fdca26"
            ],
            [
             1,
             "#f0f921"
            ]
           ],
           "sequentialminus": [
            [
             0,
             "#0d0887"
            ],
            [
             0.1111111111111111,
             "#46039f"
            ],
            [
             0.2222222222222222,
             "#7201a8"
            ],
            [
             0.3333333333333333,
             "#9c179e"
            ],
            [
             0.4444444444444444,
             "#bd3786"
            ],
            [
             0.5555555555555556,
             "#d8576b"
            ],
            [
             0.6666666666666666,
             "#ed7953"
            ],
            [
             0.7777777777777778,
             "#fb9f3a"
            ],
            [
             0.8888888888888888,
             "#fdca26"
            ],
            [
             1,
             "#f0f921"
            ]
           ]
          },
          "colorway": [
           "#636efa",
           "#EF553B",
           "#00cc96",
           "#ab63fa",
           "#FFA15A",
           "#19d3f3",
           "#FF6692",
           "#B6E880",
           "#FF97FF",
           "#FECB52"
          ],
          "font": {
           "color": "#2a3f5f"
          },
          "geo": {
           "bgcolor": "white",
           "lakecolor": "white",
           "landcolor": "#E5ECF6",
           "showlakes": true,
           "showland": true,
           "subunitcolor": "white"
          },
          "hoverlabel": {
           "align": "left"
          },
          "hovermode": "closest",
          "mapbox": {
           "style": "light"
          },
          "paper_bgcolor": "white",
          "plot_bgcolor": "#E5ECF6",
          "polar": {
           "angularaxis": {
            "gridcolor": "white",
            "linecolor": "white",
            "ticks": ""
           },
           "bgcolor": "#E5ECF6",
           "radialaxis": {
            "gridcolor": "white",
            "linecolor": "white",
            "ticks": ""
           }
          },
          "scene": {
           "xaxis": {
            "backgroundcolor": "#E5ECF6",
            "gridcolor": "white",
            "gridwidth": 2,
            "linecolor": "white",
            "showbackground": true,
            "ticks": "",
            "zerolinecolor": "white"
           },
           "yaxis": {
            "backgroundcolor": "#E5ECF6",
            "gridcolor": "white",
            "gridwidth": 2,
            "linecolor": "white",
            "showbackground": true,
            "ticks": "",
            "zerolinecolor": "white"
           },
           "zaxis": {
            "backgroundcolor": "#E5ECF6",
            "gridcolor": "white",
            "gridwidth": 2,
            "linecolor": "white",
            "showbackground": true,
            "ticks": "",
            "zerolinecolor": "white"
           }
          },
          "shapedefaults": {
           "line": {
            "color": "#2a3f5f"
           }
          },
          "ternary": {
           "aaxis": {
            "gridcolor": "white",
            "linecolor": "white",
            "ticks": ""
           },
           "baxis": {
            "gridcolor": "white",
            "linecolor": "white",
            "ticks": ""
           },
           "bgcolor": "#E5ECF6",
           "caxis": {
            "gridcolor": "white",
            "linecolor": "white",
            "ticks": ""
           }
          },
          "title": {
           "x": 0.05
          },
          "xaxis": {
           "automargin": true,
           "gridcolor": "white",
           "linecolor": "white",
           "ticks": "",
           "title": {
            "standoff": 15
           },
           "zerolinecolor": "white",
           "zerolinewidth": 2
          },
          "yaxis": {
           "automargin": true,
           "gridcolor": "white",
           "linecolor": "white",
           "ticks": "",
           "title": {
            "standoff": 15
           },
           "zerolinecolor": "white",
           "zerolinewidth": 2
          }
         }
        },
        "title": {
         "text": "x1 vs Y (with model prediction)"
        },
        "xaxis": {
         "title": {
          "text": "X2"
         }
        },
        "yaxis": {
         "title": {
          "text": "Y"
         }
        }
       }
      }
     },
     "metadata": {},
     "output_type": "display_data"
    },
    {
     "data": {
      "application/vnd.plotly.v1+json": {
       "config": {
        "plotlyServerURL": "https://plot.ly"
       },
       "data": [
        {
         "mode": "markers",
         "name": "Data Points",
         "type": "scatter",
         "x": {
          "bdata": "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",
          "dtype": "f8"
         },
         "y": {
          "bdata": "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",
          "dtype": "f8"
         }
        },
        {
         "marker": {
          "color": "red"
         },
         "mode": "markers",
         "name": "Model Prediction",
         "type": "scatter",
         "x": {
          "bdata": "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",
          "dtype": "f8"
         },
         "y": {
          "bdata": "45UeQqPFf0GTTK5BjsLPQW1xYEHIPZ5BkzCTQRXlqEGvnC1BUtCJQV3wkEEV36hBKlSdQRaciUF4wS1BuwSFQQZFFkG481pBQbRbQfe/WkHc5dFAexi2QWW0HEHqAdFBov4RQTudtEEom2FBuN7sQBGKLUFAmsRBDr2JQe6FeUGjvoVAXIC8QTTs1UF09uNByv89QbxdjkFDaIBBdFwQQSnYa0HO+6lBInGnQdy3EkFGbxdBHy+eQS0/qEG4gXFAS34gQKYogUGE1y9BpCh1QeUMUEHqLKpB3sVXQaOxg0HTNShBkA6Zvs/lxUHsoe9BLdRVQf1biUFSMY9BnSDJQb1OmkG1inhBRvNrQfzCX0HMSydBANk1QYLjpEF+xUFBIWdvQRFeBEHSnZlBp0H7QNoHhUESMWtB+tEEQQDcp0EQcnpBPHrcQSXfw0HUKRNBIl4OQUu9C0HU/ApBpikiQXiAx0He/6BA76eXQWJDj0E9+YdBu+2lQRvNA0GMj5BBAZw5QWC+qED3h09B5i4jQfIz1UGb3m5BaxtmQcBxgkGRbEhBQ3eWQTF1rUEnKRxBdwUAQXD5EEEzo8JBC/cWQecXUkEo6UhBYhZJQV4ONkHlfnhBtv4aQYgVEkHr3DRBpxMtQTgvFEG4b3RBhaUKQVsd4UFzktlAKMtKQVujXEGUPc5BCnDkQOGGhUFh76JB1hgyQdkcBEFIu2RBZvfRQTOHTEFTLMZBoiGNQdKyqkFkqYFB2RhjQedwz0H/3mNB7EZpQd5voEHJFKhBj0efQbnV40C+jyVB/70xQUvbMUGArT9BVx46QTnldEHW15pBZcGCQZoOMUGqnqtBzDOKQeYIpkEa129BDQSTQWRKx0HwSSBAdwMmQXvTjkFv/7VBA4prQYu5gEGh1MxBFdSzQS0rTEFPknxBTg+WQeFtwkFe8aNBCOJyQREZf0Hzn6ZAxZubQXvAqUH18adBeuI/QYP5eUEIeUZB89ImQepzRkEEytZAyeq4QeOs0ECmZdRBwdCiQLQwtEFfeU5BTCl6Qas/SEFPMdNBce+HQYGZr0EeNG9BIAl3QYv6h0F5DjtBJt3kQEwhKUFN0ltBZXd1Qd0qu0DvBYVBLUwDQZrTAEE8EoVBexcrQb7dfUGCfeJBoO1EQRYsL0GEe3RBK8YPQSgcYUGLbIpBA5VlQbA7YkGkt3RBlB7CQVSUUEGiuI9BY3uuQfEGjUHabGVBMUCdQZDqUkE683FBaSsGQTcNmUFxRb5B9TCGQZPlfkGgKl5BxX0vQd+IH0FiEeZAGfxWQUnFPUF7ePRB2UfMQaosjkFVSOhB/JXSQaRrw0DpIMRBfgGTQTzvWEGsWwpBAoiYQWXxmUDKBXFB6v5SQa5sskCvEqNB81ltQfOwekGCSqVB5qNXQcXWiEFYG6RBKgugQdMXhkEn6c9BmJKvQWIJe0HCoCNBIdWbQe11lEHfxMlBpFzHQRiXpUG8B2JBqUIRQQbDg0Hg3qFB9nACQZyRu0HXWdNBLByiQKqnBUEOfoFBw21KQQ07hkFm4oJBeLnkQJ0Ts0FKUJJB3p0FQQGHx0HXyUNByln9QJNBf0FoV4FBswKlQTWtn0HdPoRBOJqJQRtfGkExdUhBQKGaQaaHiUFJDaVBX46zQIA/G0GC7+tB5L+RQTNDf0FR2aFBeV3zQQd/2EGkZqVA17P8QKh+8UBk+UVBn4VvQTiXcUEweNpAhX+pQF/uQ0GJqKhBdlytQQXuwEEPuo1BwyCZQTSmqEGouS1BRZaRQQ3IkkHNcx9BnmTDQTcJXkEP41lBvgI8QSr5P0FQrohA5IaDQe+/+UFB0w5BCX0DQgYkukGQrCVB5BpXQa0OfUHH5NlBsMiAQX+ktkE0rHVBl2hVQSmjjkEGu0dBR+oCQdzHn0FWIONAD2pdQXczVUGANpZB3YTNQYjVwEF3OqZBiCopQZhKaEHbczdBfjxnQfwnSUEPJl1B8B9MQR2+pUFPVi1Bc1g+QWgxxUBzG75BLQ8rQfIsnUG9QYFBQlW6QQ01N0H6fTRB5c0aQS5QeEC8Q2tBQaGlQd/PmUHLMPRAAAOWQVGNYUFwwhVBAJ0fQa8ybUEEJNFA7wRvQUgnoEGUprxBM7OIQTAaBUFhM2hBGEclQX1BCEEsMhNBlCSSQDzHPUG1sbZBUB8BQhjEP0GaS6pB9t5KQY/Js0AqzqdB3IeBQWZhwkH1e9pAK/oDQsij0kGF6IpBV25uQQM1J0Gk14lB47ZiQVzGi0FKLWBBwlO+QUG+akFCD1xBou28QQ4y60CTcJJBw7d1QerA6EBjwLVAmLCoQSjVqUGdo4FBGMbPQe7Lk0Ga7MlBcfmVQdE5YEGJrhxBP/U0QYiUOUHx07pBMz+lQVsJgUEA6ppBm0SQQe+faEEweQBBfQG4QfONQkEIoLhBCPiuQQQnJUHqXqRBd8o4QauKQkE0gYRBfiJlQf9XZ0HoTgBBMr1qQf6O6kHzOoY/ow6fQXanqEEQAh1BKTMvQbr8IUHPUdtBw1y5QVOMpkFernVBEEvDQcxraUFDZcJBZalFQfvyREFXUN5BizeFQRzZ8kCEDg9BJpM3QXaAjkGj6YVByZPkQWfHrUG4SYZBl5GuQSozY0H4g/pAyGEsQf4UeEGKkjRBmxWUQTuMX0E=",
          "dtype": "f4"
         }
        }
       ],
       "layout": {
        "template": {
         "data": {
          "bar": [
           {
            "error_x": {
             "color": "#2a3f5f"
            },
            "error_y": {
             "color": "#2a3f5f"
            },
            "marker": {
             "line": {
              "color": "#E5ECF6",
              "width": 0.5
             },
             "pattern": {
              "fillmode": "overlay",
              "size": 10,
              "solidity": 0.2
             }
            },
            "type": "bar"
           }
          ],
          "barpolar": [
           {
            "marker": {
             "line": {
              "color": "#E5ECF6",
              "width": 0.5
             },
             "pattern": {
              "fillmode": "overlay",
              "size": 10,
              "solidity": 0.2
             }
            },
            "type": "barpolar"
           }
          ],
          "carpet": [
           {
            "aaxis": {
             "endlinecolor": "#2a3f5f",
             "gridcolor": "white",
             "linecolor": "white",
             "minorgridcolor": "white",
             "startlinecolor": "#2a3f5f"
            },
            "baxis": {
             "endlinecolor": "#2a3f5f",
             "gridcolor": "white",
             "linecolor": "white",
             "minorgridcolor": "white",
             "startlinecolor": "#2a3f5f"
            },
            "type": "carpet"
           }
          ],
          "choropleth": [
           {
            "colorbar": {
             "outlinewidth": 0,
             "ticks": ""
            },
            "type": "choropleth"
           }
          ],
          "contour": [
           {
            "colorbar": {
             "outlinewidth": 0,
             "ticks": ""
            },
            "colorscale": [
             [
              0,
              "#0d0887"
             ],
             [
              0.1111111111111111,
              "#46039f"
             ],
             [
              0.2222222222222222,
              "#7201a8"
             ],
             [
              0.3333333333333333,
              "#9c179e"
             ],
             [
              0.4444444444444444,
              "#bd3786"
             ],
             [
              0.5555555555555556,
              "#d8576b"
             ],
             [
              0.6666666666666666,
              "#ed7953"
             ],
             [
              0.7777777777777778,
              "#fb9f3a"
             ],
             [
              0.8888888888888888,
              "#fdca26"
             ],
             [
              1,
              "#f0f921"
             ]
            ],
            "type": "contour"
           }
          ],
          "contourcarpet": [
           {
            "colorbar": {
             "outlinewidth": 0,
             "ticks": ""
            },
            "type": "contourcarpet"
           }
          ],
          "heatmap": [
           {
            "colorbar": {
             "outlinewidth": 0,
             "ticks": ""
            },
            "colorscale": [
             [
              0,
              "#0d0887"
             ],
             [
              0.1111111111111111,
              "#46039f"
             ],
             [
              0.2222222222222222,
              "#7201a8"
             ],
             [
              0.3333333333333333,
              "#9c179e"
             ],
             [
              0.4444444444444444,
              "#bd3786"
             ],
             [
              0.5555555555555556,
              "#d8576b"
             ],
             [
              0.6666666666666666,
              "#ed7953"
             ],
             [
              0.7777777777777778,
              "#fb9f3a"
             ],
             [
              0.8888888888888888,
              "#fdca26"
             ],
             [
              1,
              "#f0f921"
             ]
            ],
            "type": "heatmap"
           }
          ],
          "histogram": [
           {
            "marker": {
             "pattern": {
              "fillmode": "overlay",
              "size": 10,
              "solidity": 0.2
             }
            },
            "type": "histogram"
           }
          ],
          "histogram2d": [
           {
            "colorbar": {
             "outlinewidth": 0,
             "ticks": ""
            },
            "colorscale": [
             [
              0,
              "#0d0887"
             ],
             [
              0.1111111111111111,
              "#46039f"
             ],
             [
              0.2222222222222222,
              "#7201a8"
             ],
             [
              0.3333333333333333,
              "#9c179e"
             ],
             [
              0.4444444444444444,
              "#bd3786"
             ],
             [
              0.5555555555555556,
              "#d8576b"
             ],
             [
              0.6666666666666666,
              "#ed7953"
             ],
             [
              0.7777777777777778,
              "#fb9f3a"
             ],
             [
              0.8888888888888888,
              "#fdca26"
             ],
             [
              1,
              "#f0f921"
             ]
            ],
            "type": "histogram2d"
           }
          ],
          "histogram2dcontour": [
           {
            "colorbar": {
             "outlinewidth": 0,
             "ticks": ""
            },
            "colorscale": [
             [
              0,
              "#0d0887"
             ],
             [
              0.1111111111111111,
              "#46039f"
             ],
             [
              0.2222222222222222,
              "#7201a8"
             ],
             [
              0.3333333333333333,
              "#9c179e"
             ],
             [
              0.4444444444444444,
              "#bd3786"
             ],
             [
              0.5555555555555556,
              "#d8576b"
             ],
             [
              0.6666666666666666,
              "#ed7953"
             ],
             [
              0.7777777777777778,
              "#fb9f3a"
             ],
             [
              0.8888888888888888,
              "#fdca26"
             ],
             [
              1,
              "#f0f921"
             ]
            ],
            "type": "histogram2dcontour"
           }
          ],
          "mesh3d": [
           {
            "colorbar": {
             "outlinewidth": 0,
             "ticks": ""
            },
            "type": "mesh3d"
           }
          ],
          "parcoords": [
           {
            "line": {
             "colorbar": {
              "outlinewidth": 0,
              "ticks": ""
             }
            },
            "type": "parcoords"
           }
          ],
          "pie": [
           {
            "automargin": true,
            "type": "pie"
           }
          ],
          "scatter": [
           {
            "fillpattern": {
             "fillmode": "overlay",
             "size": 10,
             "solidity": 0.2
            },
            "type": "scatter"
           }
          ],
          "scatter3d": [
           {
            "line": {
             "colorbar": {
              "outlinewidth": 0,
              "ticks": ""
             }
            },
            "marker": {
             "colorbar": {
              "outlinewidth": 0,
              "ticks": ""
             }
            },
            "type": "scatter3d"
           }
          ],
          "scattercarpet": [
           {
            "marker": {
             "colorbar": {
              "outlinewidth": 0,
              "ticks": ""
             }
            },
            "type": "scattercarpet"
           }
          ],
          "scattergeo": [
           {
            "marker": {
             "colorbar": {
              "outlinewidth": 0,
              "ticks": ""
             }
            },
            "type": "scattergeo"
           }
          ],
          "scattergl": [
           {
            "marker": {
             "colorbar": {
              "outlinewidth": 0,
              "ticks": ""
             }
            },
            "type": "scattergl"
           }
          ],
          "scattermap": [
           {
            "marker": {
             "colorbar": {
              "outlinewidth": 0,
              "ticks": ""
             }
            },
            "type": "scattermap"
           }
          ],
          "scattermapbox": [
           {
            "marker": {
             "colorbar": {
              "outlinewidth": 0,
              "ticks": ""
             }
            },
            "type": "scattermapbox"
           }
          ],
          "scatterpolar": [
           {
            "marker": {
             "colorbar": {
              "outlinewidth": 0,
              "ticks": ""
             }
            },
            "type": "scatterpolar"
           }
          ],
          "scatterpolargl": [
           {
            "marker": {
             "colorbar": {
              "outlinewidth": 0,
              "ticks": ""
             }
            },
            "type": "scatterpolargl"
           }
          ],
          "scatterternary": [
           {
            "marker": {
             "colorbar": {
              "outlinewidth": 0,
              "ticks": ""
             }
            },
            "type": "scatterternary"
           }
          ],
          "surface": [
           {
            "colorbar": {
             "outlinewidth": 0,
             "ticks": ""
            },
            "colorscale": [
             [
              0,
              "#0d0887"
             ],
             [
              0.1111111111111111,
              "#46039f"
             ],
             [
              0.2222222222222222,
              "#7201a8"
             ],
             [
              0.3333333333333333,
              "#9c179e"
             ],
             [
              0.4444444444444444,
              "#bd3786"
             ],
             [
              0.5555555555555556,
              "#d8576b"
             ],
             [
              0.6666666666666666,
              "#ed7953"
             ],
             [
              0.7777777777777778,
              "#fb9f3a"
             ],
             [
              0.8888888888888888,
              "#fdca26"
             ],
             [
              1,
              "#f0f921"
             ]
            ],
            "type": "surface"
           }
          ],
          "table": [
           {
            "cells": {
             "fill": {
              "color": "#EBF0F8"
             },
             "line": {
              "color": "white"
             }
            },
            "header": {
             "fill": {
              "color": "#C8D4E3"
             },
             "line": {
              "color": "white"
             }
            },
            "type": "table"
           }
          ]
         },
         "layout": {
          "annotationdefaults": {
           "arrowcolor": "#2a3f5f",
           "arrowhead": 0,
           "arrowwidth": 1
          },
          "autotypenumbers": "strict",
          "coloraxis": {
           "colorbar": {
            "outlinewidth": 0,
            "ticks": ""
           }
          },
          "colorscale": {
           "diverging": [
            [
             0,
             "#8e0152"
            ],
            [
             0.1,
             "#c51b7d"
            ],
            [
             0.2,
             "#de77ae"
            ],
            [
             0.3,
             "#f1b6da"
            ],
            [
             0.4,
             "#fde0ef"
            ],
            [
             0.5,
             "#f7f7f7"
            ],
            [
             0.6,
             "#e6f5d0"
            ],
            [
             0.7,
             "#b8e186"
            ],
            [
             0.8,
             "#7fbc41"
            ],
            [
             0.9,
             "#4d9221"
            ],
            [
             1,
             "#276419"
            ]
           ],
           "sequential": [
            [
             0,
             "#0d0887"
            ],
            [
             0.1111111111111111,
             "#46039f"
            ],
            [
             0.2222222222222222,
             "#7201a8"
            ],
            [
             0.3333333333333333,
             "#9c179e"
            ],
            [
             0.4444444444444444,
             "#bd3786"
            ],
            [
             0.5555555555555556,
             "#d8576b"
            ],
            [
             0.6666666666666666,
             "#ed7953"
            ],
            [
             0.7777777777777778,
             "#fb9f3a"
            ],
            [
             0.8888888888888888,
             "#fdca26"
            ],
            [
             1,
             "#f0f921"
            ]
           ],
           "sequentialminus": [
            [
             0,
             "#0d0887"
            ],
            [
             0.1111111111111111,
             "#46039f"
            ],
            [
             0.2222222222222222,
             "#7201a8"
            ],
            [
             0.3333333333333333,
             "#9c179e"
            ],
            [
             0.4444444444444444,
             "#bd3786"
            ],
            [
             0.5555555555555556,
             "#d8576b"
            ],
            [
             0.6666666666666666,
             "#ed7953"
            ],
            [
             0.7777777777777778,
             "#fb9f3a"
            ],
            [
             0.8888888888888888,
             "#fdca26"
            ],
            [
             1,
             "#f0f921"
            ]
           ]
          },
          "colorway": [
           "#636efa",
           "#EF553B",
           "#00cc96",
           "#ab63fa",
           "#FFA15A",
           "#19d3f3",
           "#FF6692",
           "#B6E880",
           "#FF97FF",
           "#FECB52"
          ],
          "font": {
           "color": "#2a3f5f"
          },
          "geo": {
           "bgcolor": "white",
           "lakecolor": "white",
           "landcolor": "#E5ECF6",
           "showlakes": true,
           "showland": true,
           "subunitcolor": "white"
          },
          "hoverlabel": {
           "align": "left"
          },
          "hovermode": "closest",
          "mapbox": {
           "style": "light"
          },
          "paper_bgcolor": "white",
          "plot_bgcolor": "#E5ECF6",
          "polar": {
           "angularaxis": {
            "gridcolor": "white",
            "linecolor": "white",
            "ticks": ""
           },
           "bgcolor": "#E5ECF6",
           "radialaxis": {
            "gridcolor": "white",
            "linecolor": "white",
            "ticks": ""
           }
          },
          "scene": {
           "xaxis": {
            "backgroundcolor": "#E5ECF6",
            "gridcolor": "white",
            "gridwidth": 2,
            "linecolor": "white",
            "showbackground": true,
            "ticks": "",
            "zerolinecolor": "white"
           },
           "yaxis": {
            "backgroundcolor": "#E5ECF6",
            "gridcolor": "white",
            "gridwidth": 2,
            "linecolor": "white",
            "showbackground": true,
            "ticks": "",
            "zerolinecolor": "white"
           },
           "zaxis": {
            "backgroundcolor": "#E5ECF6",
            "gridcolor": "white",
            "gridwidth": 2,
            "linecolor": "white",
            "showbackground": true,
            "ticks": "",
            "zerolinecolor": "white"
           }
          },
          "shapedefaults": {
           "line": {
            "color": "#2a3f5f"
           }
          },
          "ternary": {
           "aaxis": {
            "gridcolor": "white",
            "linecolor": "white",
            "ticks": ""
           },
           "baxis": {
            "gridcolor": "white",
            "linecolor": "white",
            "ticks": ""
           },
           "bgcolor": "#E5ECF6",
           "caxis": {
            "gridcolor": "white",
            "linecolor": "white",
            "ticks": ""
           }
          },
          "title": {
           "x": 0.05
          },
          "xaxis": {
           "automargin": true,
           "gridcolor": "white",
           "linecolor": "white",
           "ticks": "",
           "title": {
            "standoff": 15
           },
           "zerolinecolor": "white",
           "zerolinewidth": 2
          },
          "yaxis": {
           "automargin": true,
           "gridcolor": "white",
           "linecolor": "white",
           "ticks": "",
           "title": {
            "standoff": 15
           },
           "zerolinecolor": "white",
           "zerolinewidth": 2
          }
         }
        },
        "title": {
         "text": "x2 vs Y (with model prediction)"
        },
        "xaxis": {
         "title": {
          "text": "X3"
         }
        },
        "yaxis": {
         "title": {
          "text": "Y"
         }
        }
       }
      }
     },
     "metadata": {},
     "output_type": "display_data"
    },
    {
     "data": {
      "application/vnd.plotly.v1+json": {
       "config": {
        "plotlyServerURL": "https://plot.ly"
       },
       "data": [
        {
         "mode": "markers",
         "name": "Data Points",
         "type": "scatter",
         "x": {
          "bdata": "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",
          "dtype": "f8"
         },
         "y": {
          "bdata": "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",
          "dtype": "f8"
         }
        },
        {
         "marker": {
          "color": "red"
         },
         "mode": "markers",
         "name": "Model Prediction",
         "type": "scatter",
         "x": {
          "bdata": "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",
          "dtype": "f8"
         },
         "y": {
          "bdata": "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",
          "dtype": "f4"
         }
        }
       ],
       "layout": {
        "template": {
         "data": {
          "bar": [
           {
            "error_x": {
             "color": "#2a3f5f"
            },
            "error_y": {
             "color": "#2a3f5f"
            },
            "marker": {
             "line": {
              "color": "#E5ECF6",
              "width": 0.5
             },
             "pattern": {
              "fillmode": "overlay",
              "size": 10,
              "solidity": 0.2
             }
            },
            "type": "bar"
           }
          ],
          "barpolar": [
           {
            "marker": {
             "line": {
              "color": "#E5ECF6",
              "width": 0.5
             },
             "pattern": {
              "fillmode": "overlay",
              "size": 10,
              "solidity": 0.2
             }
            },
            "type": "barpolar"
           }
          ],
          "carpet": [
           {
            "aaxis": {
             "endlinecolor": "#2a3f5f",
             "gridcolor": "white",
             "linecolor": "white",
             "minorgridcolor": "white",
             "startlinecolor": "#2a3f5f"
            },
            "baxis": {
             "endlinecolor": "#2a3f5f",
             "gridcolor": "white",
             "linecolor": "white",
             "minorgridcolor": "white",
             "startlinecolor": "#2a3f5f"
            },
            "type": "carpet"
           }
          ],
          "choropleth": [
           {
            "colorbar": {
             "outlinewidth": 0,
             "ticks": ""
            },
            "type": "choropleth"
           }
          ],
          "contour": [
           {
            "colorbar": {
             "outlinewidth": 0,
             "ticks": ""
            },
            "colorscale": [
             [
              0,
              "#0d0887"
             ],
             [
              0.1111111111111111,
              "#46039f"
             ],
             [
              0.2222222222222222,
              "#7201a8"
             ],
             [
              0.3333333333333333,
              "#9c179e"
             ],
             [
              0.4444444444444444,
              "#bd3786"
             ],
             [
              0.5555555555555556,
              "#d8576b"
             ],
             [
              0.6666666666666666,
              "#ed7953"
             ],
             [
              0.7777777777777778,
              "#fb9f3a"
             ],
             [
              0.8888888888888888,
              "#fdca26"
             ],
             [
              1,
              "#f0f921"
             ]
            ],
            "type": "contour"
           }
          ],
          "contourcarpet": [
           {
            "colorbar": {
             "outlinewidth": 0,
             "ticks": ""
            },
            "type": "contourcarpet"
           }
          ],
          "heatmap": [
           {
            "colorbar": {
             "outlinewidth": 0,
             "ticks": ""
            },
            "colorscale": [
             [
              0,
              "#0d0887"
             ],
             [
              0.1111111111111111,
              "#46039f"
             ],
             [
              0.2222222222222222,
              "#7201a8"
             ],
             [
              0.3333333333333333,
              "#9c179e"
             ],
             [
              0.4444444444444444,
              "#bd3786"
             ],
             [
              0.5555555555555556,
              "#d8576b"
             ],
             [
              0.6666666666666666,
              "#ed7953"
             ],
             [
              0.7777777777777778,
              "#fb9f3a"
             ],
             [
              0.8888888888888888,
              "#fdca26"
             ],
             [
              1,
              "#f0f921"
             ]
            ],
            "type": "heatmap"
           }
          ],
          "histogram": [
           {
            "marker": {
             "pattern": {
              "fillmode": "overlay",
              "size": 10,
              "solidity": 0.2
             }
            },
            "type": "histogram"
           }
          ],
          "histogram2d": [
           {
            "colorbar": {
             "outlinewidth": 0,
             "ticks": ""
            },
            "colorscale": [
             [
              0,
              "#0d0887"
             ],
             [
              0.1111111111111111,
              "#46039f"
             ],
             [
              0.2222222222222222,
              "#7201a8"
             ],
             [
              0.3333333333333333,
              "#9c179e"
             ],
             [
              0.4444444444444444,
              "#bd3786"
             ],
             [
              0.5555555555555556,
              "#d8576b"
             ],
             [
              0.6666666666666666,
              "#ed7953"
             ],
             [
              0.7777777777777778,
              "#fb9f3a"
             ],
             [
              0.8888888888888888,
              "#fdca26"
             ],
             [
              1,
              "#f0f921"
             ]
            ],
            "type": "histogram2d"
           }
          ],
          "histogram2dcontour": [
           {
            "colorbar": {
             "outlinewidth": 0,
             "ticks": ""
            },
            "colorscale": [
             [
              0,
              "#0d0887"
             ],
             [
              0.1111111111111111,
              "#46039f"
             ],
             [
              0.2222222222222222,
              "#7201a8"
             ],
             [
              0.3333333333333333,
              "#9c179e"
             ],
             [
              0.4444444444444444,
              "#bd3786"
             ],
             [
              0.5555555555555556,
              "#d8576b"
             ],
             [
              0.6666666666666666,
              "#ed7953"
             ],
             [
              0.7777777777777778,
              "#fb9f3a"
             ],
             [
              0.8888888888888888,
              "#fdca26"
             ],
             [
              1,
              "#f0f921"
             ]
            ],
            "type": "histogram2dcontour"
           }
          ],
          "mesh3d": [
           {
            "colorbar": {
             "outlinewidth": 0,
             "ticks": ""
            },
            "type": "mesh3d"
           }
          ],
          "parcoords": [
           {
            "line": {
             "colorbar": {
              "outlinewidth": 0,
              "ticks": ""
             }
            },
            "type": "parcoords"
           }
          ],
          "pie": [
           {
            "automargin": true,
            "type": "pie"
           }
          ],
          "scatter": [
           {
            "fillpattern": {
             "fillmode": "overlay",
             "size": 10,
             "solidity": 0.2
            },
            "type": "scatter"
           }
          ],
          "scatter3d": [
           {
            "line": {
             "colorbar": {
              "outlinewidth": 0,
              "ticks": ""
             }
            },
            "marker": {
             "colorbar": {
              "outlinewidth": 0,
              "ticks": ""
             }
            },
            "type": "scatter3d"
           }
          ],
          "scattercarpet": [
           {
            "marker": {
             "colorbar": {
              "outlinewidth": 0,
              "ticks": ""
             }
            },
            "type": "scattercarpet"
           }
          ],
          "scattergeo": [
           {
            "marker": {
             "colorbar": {
              "outlinewidth": 0,
              "ticks": ""
             }
            },
            "type": "scattergeo"
           }
          ],
          "scattergl": [
           {
            "marker": {
             "colorbar": {
              "outlinewidth": 0,
              "ticks": ""
             }
            },
            "type": "scattergl"
           }
          ],
          "scattermap": [
           {
            "marker": {
             "colorbar": {
              "outlinewidth": 0,
              "ticks": ""
             }
            },
            "type": "scattermap"
           }
          ],
          "scattermapbox": [
           {
            "marker": {
             "colorbar": {
              "outlinewidth": 0,
              "ticks": ""
             }
            },
            "type": "scattermapbox"
           }
          ],
          "scatterpolar": [
           {
            "marker": {
             "colorbar": {
              "outlinewidth": 0,
              "ticks": ""
             }
            },
            "type": "scatterpolar"
           }
          ],
          "scatterpolargl": [
           {
            "marker": {
             "colorbar": {
              "outlinewidth": 0,
              "ticks": ""
             }
            },
            "type": "scatterpolargl"
           }
          ],
          "scatterternary": [
           {
            "marker": {
             "colorbar": {
              "outlinewidth": 0,
              "ticks": ""
             }
            },
            "type": "scatterternary"
           }
          ],
          "surface": [
           {
            "colorbar": {
             "outlinewidth": 0,
             "ticks": ""
            },
            "colorscale": [
             [
              0,
              "#0d0887"
             ],
             [
              0.1111111111111111,
              "#46039f"
             ],
             [
              0.2222222222222222,
              "#7201a8"
             ],
             [
              0.3333333333333333,
              "#9c179e"
             ],
             [
              0.4444444444444444,
              "#bd3786"
             ],
             [
              0.5555555555555556,
              "#d8576b"
             ],
             [
              0.6666666666666666,
              "#ed7953"
             ],
             [
              0.7777777777777778,
              "#fb9f3a"
             ],
             [
              0.8888888888888888,
              "#fdca26"
             ],
             [
              1,
              "#f0f921"
             ]
            ],
            "type": "surface"
           }
          ],
          "table": [
           {
            "cells": {
             "fill": {
              "color": "#EBF0F8"
             },
             "line": {
              "color": "white"
             }
            },
            "header": {
             "fill": {
              "color": "#C8D4E3"
             },
             "line": {
              "color": "white"
             }
            },
            "type": "table"
           }
          ]
         },
         "layout": {
          "annotationdefaults": {
           "arrowcolor": "#2a3f5f",
           "arrowhead": 0,
           "arrowwidth": 1
          },
          "autotypenumbers": "strict",
          "coloraxis": {
           "colorbar": {
            "outlinewidth": 0,
            "ticks": ""
           }
          },
          "colorscale": {
           "diverging": [
            [
             0,
             "#8e0152"
            ],
            [
             0.1,
             "#c51b7d"
            ],
            [
             0.2,
             "#de77ae"
            ],
            [
             0.3,
             "#f1b6da"
            ],
            [
             0.4,
             "#fde0ef"
            ],
            [
             0.5,
             "#f7f7f7"
            ],
            [
             0.6,
             "#e6f5d0"
            ],
            [
             0.7,
             "#b8e186"
            ],
            [
             0.8,
             "#7fbc41"
            ],
            [
             0.9,
             "#4d9221"
            ],
            [
             1,
             "#276419"
            ]
           ],
           "sequential": [
            [
             0,
             "#0d0887"
            ],
            [
             0.1111111111111111,
             "#46039f"
            ],
            [
             0.2222222222222222,
             "#7201a8"
            ],
            [
             0.3333333333333333,
             "#9c179e"
            ],
            [
             0.4444444444444444,
             "#bd3786"
            ],
            [
             0.5555555555555556,
             "#d8576b"
            ],
            [
             0.6666666666666666,
             "#ed7953"
            ],
            [
             0.7777777777777778,
             "#fb9f3a"
            ],
            [
             0.8888888888888888,
             "#fdca26"
            ],
            [
             1,
             "#f0f921"
            ]
           ],
           "sequentialminus": [
            [
             0,
             "#0d0887"
            ],
            [
             0.1111111111111111,
             "#46039f"
            ],
            [
             0.2222222222222222,
             "#7201a8"
            ],
            [
             0.3333333333333333,
             "#9c179e"
            ],
            [
             0.4444444444444444,
             "#bd3786"
            ],
            [
             0.5555555555555556,
             "#d8576b"
            ],
            [
             0.6666666666666666,
             "#ed7953"
            ],
            [
             0.7777777777777778,
             "#fb9f3a"
            ],
            [
             0.8888888888888888,
             "#fdca26"
            ],
            [
             1,
             "#f0f921"
            ]
           ]
          },
          "colorway": [
           "#636efa",
           "#EF553B",
           "#00cc96",
           "#ab63fa",
           "#FFA15A",
           "#19d3f3",
           "#FF6692",
           "#B6E880",
           "#FF97FF",
           "#FECB52"
          ],
          "font": {
           "color": "#2a3f5f"
          },
          "geo": {
           "bgcolor": "white",
           "lakecolor": "white",
           "landcolor": "#E5ECF6",
           "showlakes": true,
           "showland": true,
           "subunitcolor": "white"
          },
          "hoverlabel": {
           "align": "left"
          },
          "hovermode": "closest",
          "mapbox": {
           "style": "light"
          },
          "paper_bgcolor": "white",
          "plot_bgcolor": "#E5ECF6",
          "polar": {
           "angularaxis": {
            "gridcolor": "white",
            "linecolor": "white",
            "ticks": ""
           },
           "bgcolor": "#E5ECF6",
           "radialaxis": {
            "gridcolor": "white",
            "linecolor": "white",
            "ticks": ""
           }
          },
          "scene": {
           "xaxis": {
            "backgroundcolor": "#E5ECF6",
            "gridcolor": "white",
            "gridwidth": 2,
            "linecolor": "white",
            "showbackground": true,
            "ticks": "",
            "zerolinecolor": "white"
           },
           "yaxis": {
            "backgroundcolor": "#E5ECF6",
            "gridcolor": "white",
            "gridwidth": 2,
            "linecolor": "white",
            "showbackground": true,
            "ticks": "",
            "zerolinecolor": "white"
           },
           "zaxis": {
            "backgroundcolor": "#E5ECF6",
            "gridcolor": "white",
            "gridwidth": 2,
            "linecolor": "white",
            "showbackground": true,
            "ticks": "",
            "zerolinecolor": "white"
           }
          },
          "shapedefaults": {
           "line": {
            "color": "#2a3f5f"
           }
          },
          "ternary": {
           "aaxis": {
            "gridcolor": "white",
            "linecolor": "white",
            "ticks": ""
           },
           "baxis": {
            "gridcolor": "white",
            "linecolor": "white",
            "ticks": ""
           },
           "bgcolor": "#E5ECF6",
           "caxis": {
            "gridcolor": "white",
            "linecolor": "white",
            "ticks": ""
           }
          },
          "title": {
           "x": 0.05
          },
          "xaxis": {
           "automargin": true,
           "gridcolor": "white",
           "linecolor": "white",
           "ticks": "",
           "title": {
            "standoff": 15
           },
           "zerolinecolor": "white",
           "zerolinewidth": 2
          },
          "yaxis": {
           "automargin": true,
           "gridcolor": "white",
           "linecolor": "white",
           "ticks": "",
           "title": {
            "standoff": 15
           },
           "zerolinecolor": "white",
           "zerolinewidth": 2
          }
         }
        },
        "title": {
         "text": "x3 vs Y (with model prediction)"
        },
        "xaxis": {
         "title": {
          "text": "X4"
         }
        },
        "yaxis": {
         "title": {
          "text": "Y"
         }
        }
       }
      }
     },
     "metadata": {},
     "output_type": "display_data"
    },
    {
     "data": {
      "application/vnd.plotly.v1+json": {
       "config": {
        "plotlyServerURL": "https://plot.ly"
       },
       "data": [
        {
         "mode": "markers",
         "name": "Data Points",
         "type": "scatter",
         "x": {
          "bdata": "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",
          "dtype": "f8"
         },
         "y": {
          "bdata": "NI4G0yMjRkDcBUe9aCYuQEqker3ejDlA8F6RUlYXPkDM3usj/Z4pQHoQ3SS3UzFAlntoRju6NECEcsQBk2M1QDY8UcFBhiNAgZpCYpB4M0CCWwWHtME0QJgGcU/MIThAx03iXbTkMEBSkHMC8hY0QHCsxivw+yRAklJcA7lSLUA6dM5nP4oiQMOpAL3vzilALmOCrc+qK0Cwhdeu3iUsQM6PEQixMyBA03ew4UkWNEAe1wvJZYEjQNITrJbbAjpA+Cny1pRXIkA4X/gu5PUyQLrxDqJ4nStAPEBz4t7gCUCIh30gLIgjQJYio8hTajxAc6Q5tShjMUAPRTfEIdAuQPwRDRVLnP0/p8cESYiUN0A6DlRFU80+QPtBUV0J7DtAKqIYn/LbJkDKEHWc88IzQGKK5j2LiS1ABPc7jGffFECX4xRKsU0rQKKaeSR+VzlAFZcGIvTFN0DB65+pQFIjQBx55OigCSRA3WUsuRjENkD9kK/7/Fo1QP6BZ4ho9BFAyL7Cjv7m67/P2NZUKWMwQOfd//NJxydABAbBXX3iLkD+sc4JAqYpQE6dyeaa7jFAyWDIP3DiK0DIV/xZ8psyQHlAHO9CbyBA0MwsD0S07T+jwkA8WV08QE7RVolebkFAdOp+67jWLECOljsJzlcuQPuQGvYZTzJAT9W14pvDOED7xNK5QHg0QBCVl/T4Ey5AxYCJxGm6K0Dov98s47csQMjtVFUAISRAqOPUxI6lJ0A0eYhWZ3Y3QK2tiK8kICpAEOPHDtRYLUA2IBCcBCMhQBM6Q51v3zJAskR09o9/GkAsNk6BpFUxQPk7C1UWYS1A8ZNYCknhEkDie1m/6yE1QMxt2Ww5djBAFi84LeECN0Aa0AfF9CA4QB2nsIbgkCRAoHUdzfpMJEAaB+tYR+wdQMybfnNLexdABGB0N88jIkAsIu6mwTA5QDs1yfmlCBVAdDdSv/oRMUCKKXVnfjAwQGRJhfJQdTBA/taQF11IOEC6T0nsGlkhQNeUmQ6szy5AkLksWPTXJ0BIDak3UJMAwP0SP4PxqilA6TTfsxVQIkDVT6Mb44k/QMj8On4H4S9A4G/LMUfcLkCyucAdLUAuQHFlC4BWlitA0YqraW0TNEB0aAEGF3gyQLj/jUdBFCBAfK1AJSjBIUDgBzmLOLEhQKkUc8mHQzxAc+ZkpivMI0BMUrDFVsMpQEiBy3YliilAX3y0+mOEKEBzE+NHgnEmQJaBGi5MFCpAROQztZ0MIEAh4h2FgHgdQGokTLcp6iVA4nOxxHEjJ0D3iN/yTxEcQAuUV6M7ki9AGPLPDCHzE0BJNRF1xr8/QHKzoLOFFxxAuH+VKZVKKkC+quC4+wYsQIE+R0fCET9A+oHvI2X9E0AlQUcld8QyQGr+VL+neDFAzFC5Qj1UJkAa+RifpDQfQKR7DjZtHS9AGKciqpndPkAxP+RU4hopQLw05dLgsTxAlwh/nUywMkAsV8ZerV4yQCWFe0WmCzJAahxO51UQLEDDJyNaabw5QLrjX7oAPC1AgOnRj1KqKkBvGOmrHfo2QDe7cmTMYzhApMzX+YgvN0Bb7dzv4dcfQF7Zs1FM/CRAaHH6w6JXJUB8P2t3fxknQA5pD4wVESZAgt9UD1/KJkAEBQgr+jsqQGwqQiG+EzVAfpvbZJibMUCQkYTvO/wkQAoFIX4pfjJAOHXNatrAMkDa0WbEKB84QBJuEM+bXy1AGcLXss8oM0DXK0K6ORc5QIwmzHSnrvu/a6Drmqt6I0CP8L7IGfkyQEYsujX9KTRABFL7BloSKUBW+y0z3ZAvQOm5TSUUGzpAFee4BrylNkD+Pcxd8RooQIb9R29mIDBAeHWP+zAfNUBaIZD16rIzQCot92eKgzdAhjI9BDbbL0C2q2lBpUQuQIo9IA7XSxlA7g6I4PvlMED5FiYX+Zo3QG2C6dJHDTZAdFZeKWk/J0AmXy70YJ0sQMNlafztTSpA2Xpx/oMTIEBCFoyQXzgqQIo/cgk57hJA3eahTI+gOUBG2n7B4mAfQIgO7Ok52zlAFrfyo2a8FkBw1xx1S+YyQETM5oh3YihAtn0mmrRIMEAHfruId/smQH0OnvPSyz5AHWUIGtwZMUCDRu8BAxkzQDYqfu2TCC5ANLe8eqlYMEAwjUa7pnouQK7/zAYaOihAdCjgTE/wGUAvQMuwM+QdQEvlyR8INSxA+maY2YWFMECYz/ySKw0eQOFFfMCEfy1AN13uN9FWIEAL1eGTnu8fQEy+/7AvPjJAsGRRzKuKKEDRc9zQqGMwQF2NPtNY6ztAyoHgtUZ7KEAuNr0WnFAiQOh2N3mBvCtAxUVxCVoXIEBu/lFasPIrQBHPUXKL2TJAL62exIuVLUCsKvM26LwtQC/Tq+WPHi5AsUNrkupiOEApvrnIR9woQKmv+ZvKpDNAlnLNeWOfOEDJHOm1zQo0QK5kgZT7kS5ALhwNh6/dL0CS9rS2iVgoQGnNm/mctC1AWJzq9J0mIEC81dQgBr4zQIdvwOpITzdAmMdpIgpoMECwcBKy0McxQO4NFBE+3ipANIObqleqJUDXwqIpxuYkQNiObpuza+Y/j3XjG7R5LEBsfOStNoMnQK5aK4i4jkFAg472H5vdPUCiw0NtuEs0QKESBI0qPT1Ap1OZ2xbZPUCgz+NN0RHXP6UI2ueWMztANIkvNOH8NEDUQuu7GkkpQNBagk4XVyNA8ujsDdSpNUBi3QDQ7fwCQFZBAlPpYS1AE3atX0NEK0Cy8LPIvcAZQF8l7Kmq8S9AUQN0nxw/MEAd0kbJFwsyQBPtwy0t0zhAMokzx9SKLED849HniRoyQFuRTMFguzdAEI2/E8CyNkB7Oi+WCpExQE+alsJCxjRAZdaOr1fUMkDji/dsYIctQGE/T+WCDiZACGLertOCNEA0Z+zfV3AxQBC9MaKEdjVAawIJKCwjPEAoaOoA1xQ4QIj0XFpfJCpA6Sk0mPfhI0CRdQtS1XUxQBoXrgJQWjZAIvRP3RNJBUAEFIOsL3U3QCpSUWdDyjRAUE4iYuju2j9NKnrzcPEiQFtP961onDFAfxsvR+04KkC5WNo5r5MyQL5F41ZyeTBAIQJ0O1EbIECibxQMqIQ6QMQC07uzhzFAVNlS8xafI0D6EBXXqhk6QH+pbatZoypAJkFhtvCTHUBxsePbBCYxQIv5nRSBdzFAJvg5JEkDN0BBIZ30P5ExQGykxxEPTy1A7rPTzDKELkBOV6SckpgiQPHSfAuUPylA4bUkc+yUMEDBUzRxceYyQOYVpMmD/DdADghKZsyAGUBEVfpGrigkQKi8bFJFVEFAlnkbJCorNUBAnCoMaDMxQOx/r8oNSDdAG3T7Q/N0PkD2leYsS9Y6QPPhVGhl8g5A4nC126fyH0Be8IYAWUgVQN0dNmc16ipA8iah+vFlMEB29VjWLQQuQBKykx4G4AxA8MvJKJD/0z9XcIxZwGoqQLPYnPPCSzJAvhd4f74ZNkCwZ+16b9cyQNAsqEaPczNA+KWOX/puMEAiFLbDDJwyQOF7YyomaCVALJ1NNIdjM0D7JfxSZCg1QHbT0jmmHSVADuCva5h0NEDQbNupLgwuQEh396hnditALKmFjT4cJ0DE+tbkX74oQJxE6hpy8vg/GCOq4l0tMkA753/Rrgk4QCD9mFpMlSNAjL2XyQ4iOED86L+lCgw0QOoyJk2MtyRAlGnBRKuSKEDtpSFsI+gwQL6l5OflOz9AF78V4UcsK0C06wPU9go6QHnp+9FNmypA6Hqq7nnTKkAdnlqPpdI0QHgOtPy+IydAV7EJsl0WFUARcUyWtLI0QPh1ryZaNRxApLpU/oaoLEBuPDON4cUtQLPYg4qObzNA9lInVG6GOUBlxM/IY3s7QFako4tiFTRAy2efQm4DJUCwfzH3p3owQFn25bn3LCZAWZxLxO+lK0D7cToiDE8pQGegMN/81CxAOq9Oi15HKUDMg55Xrsc0QD5TRgnAMSRA3A8J6vsVKEA7ootCMH0XQNDrz59s3DNAbkCqigWrJUCU7FNuWz82QDXO6VDZFjBArEBtSJCsO0ArqOCR3FAlQOaD6vCEciNAgqP+34d5GECAFS2EOOrvP3yYa8k0DzBAxBzBaQjJNEBXqgKWhVkxQCK9g3897B9AHAhOh+unM0Bq/jzXY/UqQC7Jv4HTbSRA9A/6nhInI0Dhzye74SYrQDoQSd+6lRZAQUExWfocLkAUwZwVo7Y2QNTIIxql2TpAVbcU0dzIMkBH88fszZYgQO4FbaLILi1A/sOVn2ZTIUAiJG4t9rQbQMzS2TQRiCBAgDq0UlpM1L/2/fAP4kcnQIhLK3GrbDZAS0TJX8WOQkA6Iav03sImQM6urA9RqjJA8C9PGQHRKkAoZA3DUR4LQL5ZX+GYIzZA+582BrZVMEC0Gj0bSlYzQBcN/mXU1hVAXyHSO8SSP0BU51wao4s+QFQYXgiGIzJA2r3Ch+9mLkDopNQMjpUmQKYV8TrljjBAYs+h8ifpK0B6K1lvJ64vQEz6zfZW0S1A1n9lRZfBN0A0irOho5srQMKuh2WI8ytAUiid5OuyOkBG6IuxVQ4QQHkF8nEa4zNACdiL+b7rLUB/v243bzgXQFCMX0D8ohNAdt8M6Nb2NUBSmovymRA5QB9pqfgtjS5AEs0K6KeLPkCGNiwbmpc0QNoC1OcSsDlAdjo+MqFjNUAd2gwiX1gqQHgycpYGdSVAAko1wET/J0BkimMFHp8mQGSBTeAFMTdAkt6fex9gN0ArnFMCp4gxQLeoqciz6zBAHJcgEA41MEAiL+szi+YqQOHqP7pO7xpABglYJRzfNkCdAnxPNy4oQH2BkIAMxDpABQInHAXhNUCftXzpcZclQPDDSF9aDjVAD3ut/qKDJkBpRdSsieEoQMfcnkgjPC5ATmmHH74LK0DuCubV1TIrQNQRx3LLZhZAophwkm8wMECskU9cugc3QFpFUeijEAbA/hJ0N1HJMUA1wFf00f84QAsNQmO8YRpAcCyMCkAfJkA8xXMN+vsgQNr0InJ59jVA5R93d3qpN0AFMfHN+90xQCfVriqiRCxAjItlqdgjOEAUm9g3D30sQB1YAW5rAj1AJKnwGkPsJ0ABBa6swC4oQB6sMdlfRDtAZuNH3h4hMUCz8N7TPXwfQAePyaYmTB5ARq6QIBzbJkDyJ5G/GFUwQBEyUjX1PzJAOtHOC86bNUCK4AC/sq81QNYHMCOvWTBA8pMYlHr1MkCYHR1KDIssQKbov1cijRtA2fs/RFxZJkCAQDe/yrAuQD79v7XYcyVAxczIKRtEM0DWp4yjNr0sQA==",
          "dtype": "f8"
         }
        },
        {
         "marker": {
          "color": "red"
         },
         "mode": "markers",
         "name": "Model Prediction",
         "type": "scatter",
         "x": {
          "bdata": "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",
          "dtype": "f8"
         },
         "y": {
          "bdata": "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",
          "dtype": "f4"
         }
        }
       ],
       "layout": {
        "template": {
         "data": {
          "bar": [
           {
            "error_x": {
             "color": "#2a3f5f"
            },
            "error_y": {
             "color": "#2a3f5f"
            },
            "marker": {
             "line": {
              "color": "#E5ECF6",
              "width": 0.5
             },
             "pattern": {
              "fillmode": "overlay",
              "size": 10,
              "solidity": 0.2
             }
            },
            "type": "bar"
           }
          ],
          "barpolar": [
           {
            "marker": {
             "line": {
              "color": "#E5ECF6",
              "width": 0.5
             },
             "pattern": {
              "fillmode": "overlay",
              "size": 10,
              "solidity": 0.2
             }
            },
            "type": "barpolar"
           }
          ],
          "carpet": [
           {
            "aaxis": {
             "endlinecolor": "#2a3f5f",
             "gridcolor": "white",
             "linecolor": "white",
             "minorgridcolor": "white",
             "startlinecolor": "#2a3f5f"
            },
            "baxis": {
             "endlinecolor": "#2a3f5f",
             "gridcolor": "white",
             "linecolor": "white",
             "minorgridcolor": "white",
             "startlinecolor": "#2a3f5f"
            },
            "type": "carpet"
           }
          ],
          "choropleth": [
           {
            "colorbar": {
             "outlinewidth": 0,
             "ticks": ""
            },
            "type": "choropleth"
           }
          ],
          "contour": [
           {
            "colorbar": {
             "outlinewidth": 0,
             "ticks": ""
            },
            "colorscale": [
             [
              0,
              "#0d0887"
             ],
             [
              0.1111111111111111,
              "#46039f"
             ],
             [
              0.2222222222222222,
              "#7201a8"
             ],
             [
              0.3333333333333333,
              "#9c179e"
             ],
             [
              0.4444444444444444,
              "#bd3786"
             ],
             [
              0.5555555555555556,
              "#d8576b"
             ],
             [
              0.6666666666666666,
              "#ed7953"
             ],
             [
              0.7777777777777778,
              "#fb9f3a"
             ],
             [
              0.8888888888888888,
              "#fdca26"
             ],
             [
              1,
              "#f0f921"
             ]
            ],
            "type": "contour"
           }
          ],
          "contourcarpet": [
           {
            "colorbar": {
             "outlinewidth": 0,
             "ticks": ""
            },
            "type": "contourcarpet"
           }
          ],
          "heatmap": [
           {
            "colorbar": {
             "outlinewidth": 0,
             "ticks": ""
            },
            "colorscale": [
             [
              0,
              "#0d0887"
             ],
             [
              0.1111111111111111,
              "#46039f"
             ],
             [
              0.2222222222222222,
              "#7201a8"
             ],
             [
              0.3333333333333333,
              "#9c179e"
             ],
             [
              0.4444444444444444,
              "#bd3786"
             ],
             [
              0.5555555555555556,
              "#d8576b"
             ],
             [
              0.6666666666666666,
              "#ed7953"
             ],
             [
              0.7777777777777778,
              "#fb9f3a"
             ],
             [
              0.8888888888888888,
              "#fdca26"
             ],
             [
              1,
              "#f0f921"
             ]
            ],
            "type": "heatmap"
           }
          ],
          "histogram": [
           {
            "marker": {
             "pattern": {
              "fillmode": "overlay",
              "size": 10,
              "solidity": 0.2
             }
            },
            "type": "histogram"
           }
          ],
          "histogram2d": [
           {
            "colorbar": {
             "outlinewidth": 0,
             "ticks": ""
            },
            "colorscale": [
             [
              0,
              "#0d0887"
             ],
             [
              0.1111111111111111,
              "#46039f"
             ],
             [
              0.2222222222222222,
              "#7201a8"
             ],
             [
              0.3333333333333333,
              "#9c179e"
             ],
             [
              0.4444444444444444,
              "#bd3786"
             ],
             [
              0.5555555555555556,
              "#d8576b"
             ],
             [
              0.6666666666666666,
              "#ed7953"
             ],
             [
              0.7777777777777778,
              "#fb9f3a"
             ],
             [
              0.8888888888888888,
              "#fdca26"
             ],
             [
              1,
              "#f0f921"
             ]
            ],
            "type": "histogram2d"
           }
          ],
          "histogram2dcontour": [
           {
            "colorbar": {
             "outlinewidth": 0,
             "ticks": ""
            },
            "colorscale": [
             [
              0,
              "#0d0887"
             ],
             [
              0.1111111111111111,
              "#46039f"
             ],
             [
              0.2222222222222222,
              "#7201a8"
             ],
             [
              0.3333333333333333,
              "#9c179e"
             ],
             [
              0.4444444444444444,
              "#bd3786"
             ],
             [
              0.5555555555555556,
              "#d8576b"
             ],
             [
              0.6666666666666666,
              "#ed7953"
             ],
             [
              0.7777777777777778,
              "#fb9f3a"
             ],
             [
              0.8888888888888888,
              "#fdca26"
             ],
             [
              1,
              "#f0f921"
             ]
            ],
            "type": "histogram2dcontour"
           }
          ],
          "mesh3d": [
           {
            "colorbar": {
             "outlinewidth": 0,
             "ticks": ""
            },
            "type": "mesh3d"
           }
          ],
          "parcoords": [
           {
            "line": {
             "colorbar": {
              "outlinewidth": 0,
              "ticks": ""
             }
            },
            "type": "parcoords"
           }
          ],
          "pie": [
           {
            "automargin": true,
            "type": "pie"
           }
          ],
          "scatter": [
           {
            "fillpattern": {
             "fillmode": "overlay",
             "size": 10,
             "solidity": 0.2
            },
            "type": "scatter"
           }
          ],
          "scatter3d": [
           {
            "line": {
             "colorbar": {
              "outlinewidth": 0,
              "ticks": ""
             }
            },
            "marker": {
             "colorbar": {
              "outlinewidth": 0,
              "ticks": ""
             }
            },
            "type": "scatter3d"
           }
          ],
          "scattercarpet": [
           {
            "marker": {
             "colorbar": {
              "outlinewidth": 0,
              "ticks": ""
             }
            },
            "type": "scattercarpet"
           }
          ],
          "scattergeo": [
           {
            "marker": {
             "colorbar": {
              "outlinewidth": 0,
              "ticks": ""
             }
            },
            "type": "scattergeo"
           }
          ],
          "scattergl": [
           {
            "marker": {
             "colorbar": {
              "outlinewidth": 0,
              "ticks": ""
             }
            },
            "type": "scattergl"
           }
          ],
          "scattermap": [
           {
            "marker": {
             "colorbar": {
              "outlinewidth": 0,
              "ticks": ""
             }
            },
            "type": "scattermap"
           }
          ],
          "scattermapbox": [
           {
            "marker": {
             "colorbar": {
              "outlinewidth": 0,
              "ticks": ""
             }
            },
            "type": "scattermapbox"
           }
          ],
          "scatterpolar": [
           {
            "marker": {
             "colorbar": {
              "outlinewidth": 0,
              "ticks": ""
             }
            },
            "type": "scatterpolar"
           }
          ],
          "scatterpolargl": [
           {
            "marker": {
             "colorbar": {
              "outlinewidth": 0,
              "ticks": ""
             }
            },
            "type": "scatterpolargl"
           }
          ],
          "scatterternary": [
           {
            "marker": {
             "colorbar": {
              "outlinewidth": 0,
              "ticks": ""
             }
            },
            "type": "scatterternary"
           }
          ],
          "surface": [
           {
            "colorbar": {
             "outlinewidth": 0,
             "ticks": ""
            },
            "colorscale": [
             [
              0,
              "#0d0887"
             ],
             [
              0.1111111111111111,
              "#46039f"
             ],
             [
              0.2222222222222222,
              "#7201a8"
             ],
             [
              0.3333333333333333,
              "#9c179e"
             ],
             [
              0.4444444444444444,
              "#bd3786"
             ],
             [
              0.5555555555555556,
              "#d8576b"
             ],
             [
              0.6666666666666666,
              "#ed7953"
             ],
             [
              0.7777777777777778,
              "#fb9f3a"
             ],
             [
              0.8888888888888888,
              "#fdca26"
             ],
             [
              1,
              "#f0f921"
             ]
            ],
            "type": "surface"
           }
          ],
          "table": [
           {
            "cells": {
             "fill": {
              "color": "#EBF0F8"
             },
             "line": {
              "color": "white"
             }
            },
            "header": {
             "fill": {
              "color": "#C8D4E3"
             },
             "line": {
              "color": "white"
             }
            },
            "type": "table"
           }
          ]
         },
         "layout": {
          "annotationdefaults": {
           "arrowcolor": "#2a3f5f",
           "arrowhead": 0,
           "arrowwidth": 1
          },
          "autotypenumbers": "strict",
          "coloraxis": {
           "colorbar": {
            "outlinewidth": 0,
            "ticks": ""
           }
          },
          "colorscale": {
           "diverging": [
            [
             0,
             "#8e0152"
            ],
            [
             0.1,
             "#c51b7d"
            ],
            [
             0.2,
             "#de77ae"
            ],
            [
             0.3,
             "#f1b6da"
            ],
            [
             0.4,
             "#fde0ef"
            ],
            [
             0.5,
             "#f7f7f7"
            ],
            [
             0.6,
             "#e6f5d0"
            ],
            [
             0.7,
             "#b8e186"
            ],
            [
             0.8,
             "#7fbc41"
            ],
            [
             0.9,
             "#4d9221"
            ],
            [
             1,
             "#276419"
            ]
           ],
           "sequential": [
            [
             0,
             "#0d0887"
            ],
            [
             0.1111111111111111,
             "#46039f"
            ],
            [
             0.2222222222222222,
             "#7201a8"
            ],
            [
             0.3333333333333333,
             "#9c179e"
            ],
            [
             0.4444444444444444,
             "#bd3786"
            ],
            [
             0.5555555555555556,
             "#d8576b"
            ],
            [
             0.6666666666666666,
             "#ed7953"
            ],
            [
             0.7777777777777778,
             "#fb9f3a"
            ],
            [
             0.8888888888888888,
             "#fdca26"
            ],
            [
             1,
             "#f0f921"
            ]
           ],
           "sequentialminus": [
            [
             0,
             "#0d0887"
            ],
            [
             0.1111111111111111,
             "#46039f"
            ],
            [
             0.2222222222222222,
             "#7201a8"
            ],
            [
             0.3333333333333333,
             "#9c179e"
            ],
            [
             0.4444444444444444,
             "#bd3786"
            ],
            [
             0.5555555555555556,
             "#d8576b"
            ],
            [
             0.6666666666666666,
             "#ed7953"
            ],
            [
             0.7777777777777778,
             "#fb9f3a"
            ],
            [
             0.8888888888888888,
             "#fdca26"
            ],
            [
             1,
             "#f0f921"
            ]
           ]
          },
          "colorway": [
           "#636efa",
           "#EF553B",
           "#00cc96",
           "#ab63fa",
           "#FFA15A",
           "#19d3f3",
           "#FF6692",
           "#B6E880",
           "#FF97FF",
           "#FECB52"
          ],
          "font": {
           "color": "#2a3f5f"
          },
          "geo": {
           "bgcolor": "white",
           "lakecolor": "white",
           "landcolor": "#E5ECF6",
           "showlakes": true,
           "showland": true,
           "subunitcolor": "white"
          },
          "hoverlabel": {
           "align": "left"
          },
          "hovermode": "closest",
          "mapbox": {
           "style": "light"
          },
          "paper_bgcolor": "white",
          "plot_bgcolor": "#E5ECF6",
          "polar": {
           "angularaxis": {
            "gridcolor": "white",
            "linecolor": "white",
            "ticks": ""
           },
           "bgcolor": "#E5ECF6",
           "radialaxis": {
            "gridcolor": "white",
            "linecolor": "white",
            "ticks": ""
           }
          },
          "scene": {
           "xaxis": {
            "backgroundcolor": "#E5ECF6",
            "gridcolor": "white",
            "gridwidth": 2,
            "linecolor": "white",
            "showbackground": true,
            "ticks": "",
            "zerolinecolor": "white"
           },
           "yaxis": {
            "backgroundcolor": "#E5ECF6",
            "gridcolor": "white",
            "gridwidth": 2,
            "linecolor": "white",
            "showbackground": true,
            "ticks": "",
            "zerolinecolor": "white"
           },
           "zaxis": {
            "backgroundcolor": "#E5ECF6",
            "gridcolor": "white",
            "gridwidth": 2,
            "linecolor": "white",
            "showbackground": true,
            "ticks": "",
            "zerolinecolor": "white"
           }
          },
          "shapedefaults": {
           "line": {
            "color": "#2a3f5f"
           }
          },
          "ternary": {
           "aaxis": {
            "gridcolor": "white",
            "linecolor": "white",
            "ticks": ""
           },
           "baxis": {
            "gridcolor": "white",
            "linecolor": "white",
            "ticks": ""
           },
           "bgcolor": "#E5ECF6",
           "caxis": {
            "gridcolor": "white",
            "linecolor": "white",
            "ticks": ""
           }
          },
          "title": {
           "x": 0.05
          },
          "xaxis": {
           "automargin": true,
           "gridcolor": "white",
           "linecolor": "white",
           "ticks": "",
           "title": {
            "standoff": 15
           },
           "zerolinecolor": "white",
           "zerolinewidth": 2
          },
          "yaxis": {
           "automargin": true,
           "gridcolor": "white",
           "linecolor": "white",
           "ticks": "",
           "title": {
            "standoff": 15
           },
           "zerolinecolor": "white",
           "zerolinewidth": 2
          }
         }
        },
        "title": {
         "text": "x4 vs Y (with model prediction)"
        },
        "xaxis": {
         "title": {
          "text": "X5"
         }
        },
        "yaxis": {
         "title": {
          "text": "Y"
         }
        }
       }
      }
     },
     "metadata": {},
     "output_type": "display_data"
    },
    {
     "data": {
      "application/vnd.plotly.v1+json": {
       "config": {
        "plotlyServerURL": "https://plot.ly"
       },
       "data": [
        {
         "mode": "markers",
         "name": "Data Points",
         "type": "scatter",
         "x": {
          "bdata": "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",
          "dtype": "f8"
         },
         "y": {
          "bdata": "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",
          "dtype": "f8"
         }
        },
        {
         "marker": {
          "color": "red"
         },
         "mode": "markers",
         "name": "Model Prediction",
         "type": "scatter",
         "x": {
          "bdata": "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",
          "dtype": "f8"
         },
         "y": {
          "bdata": "45UeQqPFf0GTTK5BjsLPQW1xYEHIPZ5BkzCTQRXlqEGvnC1BUtCJQV3wkEEV36hBKlSdQRaciUF4wS1BuwSFQQZFFkG481pBQbRbQfe/WkHc5dFAexi2QWW0HEHqAdFBov4RQTudtEEom2FBuN7sQBGKLUFAmsRBDr2JQe6FeUGjvoVAXIC8QTTs1UF09uNByv89QbxdjkFDaIBBdFwQQSnYa0HO+6lBInGnQdy3EkFGbxdBHy+eQS0/qEG4gXFAS34gQKYogUGE1y9BpCh1QeUMUEHqLKpB3sVXQaOxg0HTNShBkA6Zvs/lxUHsoe9BLdRVQf1biUFSMY9BnSDJQb1OmkG1inhBRvNrQfzCX0HMSydBANk1QYLjpEF+xUFBIWdvQRFeBEHSnZlBp0H7QNoHhUESMWtB+tEEQQDcp0EQcnpBPHrcQSXfw0HUKRNBIl4OQUu9C0HU/ApBpikiQXiAx0He/6BA76eXQWJDj0E9+YdBu+2lQRvNA0GMj5BBAZw5QWC+qED3h09B5i4jQfIz1UGb3m5BaxtmQcBxgkGRbEhBQ3eWQTF1rUEnKRxBdwUAQXD5EEEzo8JBC/cWQecXUkEo6UhBYhZJQV4ONkHlfnhBtv4aQYgVEkHr3DRBpxMtQTgvFEG4b3RBhaUKQVsd4UFzktlAKMtKQVujXEGUPc5BCnDkQOGGhUFh76JB1hgyQdkcBEFIu2RBZvfRQTOHTEFTLMZBoiGNQdKyqkFkqYFB2RhjQedwz0H/3mNB7EZpQd5voEHJFKhBj0efQbnV40C+jyVB/70xQUvbMUGArT9BVx46QTnldEHW15pBZcGCQZoOMUGqnqtBzDOKQeYIpkEa129BDQSTQWRKx0HwSSBAdwMmQXvTjkFv/7VBA4prQYu5gEGh1MxBFdSzQS0rTEFPknxBTg+WQeFtwkFe8aNBCOJyQREZf0Hzn6ZAxZubQXvAqUH18adBeuI/QYP5eUEIeUZB89ImQepzRkEEytZAyeq4QeOs0ECmZdRBwdCiQLQwtEFfeU5BTCl6Qas/SEFPMdNBce+HQYGZr0EeNG9BIAl3QYv6h0F5DjtBJt3kQEwhKUFN0ltBZXd1Qd0qu0DvBYVBLUwDQZrTAEE8EoVBexcrQb7dfUGCfeJBoO1EQRYsL0GEe3RBK8YPQSgcYUGLbIpBA5VlQbA7YkGkt3RBlB7CQVSUUEGiuI9BY3uuQfEGjUHabGVBMUCdQZDqUkE683FBaSsGQTcNmUFxRb5B9TCGQZPlfkGgKl5BxX0vQd+IH0FiEeZAGfxWQUnFPUF7ePRB2UfMQaosjkFVSOhB/JXSQaRrw0DpIMRBfgGTQTzvWEGsWwpBAoiYQWXxmUDKBXFB6v5SQa5sskCvEqNB81ltQfOwekGCSqVB5qNXQcXWiEFYG6RBKgugQdMXhkEn6c9BmJKvQWIJe0HCoCNBIdWbQe11lEHfxMlBpFzHQRiXpUG8B2JBqUIRQQbDg0Hg3qFB9nACQZyRu0HXWdNBLByiQKqnBUEOfoFBw21KQQ07hkFm4oJBeLnkQJ0Ts0FKUJJB3p0FQQGHx0HXyUNByln9QJNBf0FoV4FBswKlQTWtn0HdPoRBOJqJQRtfGkExdUhBQKGaQaaHiUFJDaVBX46zQIA/G0GC7+tB5L+RQTNDf0FR2aFBeV3zQQd/2EGkZqVA17P8QKh+8UBk+UVBn4VvQTiXcUEweNpAhX+pQF/uQ0GJqKhBdlytQQXuwEEPuo1BwyCZQTSmqEGouS1BRZaRQQ3IkkHNcx9BnmTDQTcJXkEP41lBvgI8QSr5P0FQrohA5IaDQe+/+UFB0w5BCX0DQgYkukGQrCVB5BpXQa0OfUHH5NlBsMiAQX+ktkE0rHVBl2hVQSmjjkEGu0dBR+oCQdzHn0FWIONAD2pdQXczVUGANpZB3YTNQYjVwEF3OqZBiCopQZhKaEHbczdBfjxnQfwnSUEPJl1B8B9MQR2+pUFPVi1Bc1g+QWgxxUBzG75BLQ8rQfIsnUG9QYFBQlW6QQ01N0H6fTRB5c0aQS5QeEC8Q2tBQaGlQd/PmUHLMPRAAAOWQVGNYUFwwhVBAJ0fQa8ybUEEJNFA7wRvQUgnoEGUprxBM7OIQTAaBUFhM2hBGEclQX1BCEEsMhNBlCSSQDzHPUG1sbZBUB8BQhjEP0GaS6pB9t5KQY/Js0AqzqdB3IeBQWZhwkH1e9pAK/oDQsij0kGF6IpBV25uQQM1J0Gk14lB47ZiQVzGi0FKLWBBwlO+QUG+akFCD1xBou28QQ4y60CTcJJBw7d1QerA6EBjwLVAmLCoQSjVqUGdo4FBGMbPQe7Lk0Ga7MlBcfmVQdE5YEGJrhxBP/U0QYiUOUHx07pBMz+lQVsJgUEA6ppBm0SQQe+faEEweQBBfQG4QfONQkEIoLhBCPiuQQQnJUHqXqRBd8o4QauKQkE0gYRBfiJlQf9XZ0HoTgBBMr1qQf6O6kHzOoY/ow6fQXanqEEQAh1BKTMvQbr8IUHPUdtBw1y5QVOMpkFernVBEEvDQcxraUFDZcJBZalFQfvyREFXUN5BizeFQRzZ8kCEDg9BJpM3QXaAjkGj6YVByZPkQWfHrUG4SYZBl5GuQSozY0H4g/pAyGEsQf4UeEGKkjRBmxWUQTuMX0E=",
          "dtype": "f4"
         }
        }
       ],
       "layout": {
        "template": {
         "data": {
          "bar": [
           {
            "error_x": {
             "color": "#2a3f5f"
            },
            "error_y": {
             "color": "#2a3f5f"
            },
            "marker": {
             "line": {
              "color": "#E5ECF6",
              "width": 0.5
             },
             "pattern": {
              "fillmode": "overlay",
              "size": 10,
              "solidity": 0.2
             }
            },
            "type": "bar"
           }
          ],
          "barpolar": [
           {
            "marker": {
             "line": {
              "color": "#E5ECF6",
              "width": 0.5
             },
             "pattern": {
              "fillmode": "overlay",
              "size": 10,
              "solidity": 0.2
             }
            },
            "type": "barpolar"
           }
          ],
          "carpet": [
           {
            "aaxis": {
             "endlinecolor": "#2a3f5f",
             "gridcolor": "white",
             "linecolor": "white",
             "minorgridcolor": "white",
             "startlinecolor": "#2a3f5f"
            },
            "baxis": {
             "endlinecolor": "#2a3f5f",
             "gridcolor": "white",
             "linecolor": "white",
             "minorgridcolor": "white",
             "startlinecolor": "#2a3f5f"
            },
            "type": "carpet"
           }
          ],
          "choropleth": [
           {
            "colorbar": {
             "outlinewidth": 0,
             "ticks": ""
            },
            "type": "choropleth"
           }
          ],
          "contour": [
           {
            "colorbar": {
             "outlinewidth": 0,
             "ticks": ""
            },
            "colorscale": [
             [
              0,
              "#0d0887"
             ],
             [
              0.1111111111111111,
              "#46039f"
             ],
             [
              0.2222222222222222,
              "#7201a8"
             ],
             [
              0.3333333333333333,
              "#9c179e"
             ],
             [
              0.4444444444444444,
              "#bd3786"
             ],
             [
              0.5555555555555556,
              "#d8576b"
             ],
             [
              0.6666666666666666,
              "#ed7953"
             ],
             [
              0.7777777777777778,
              "#fb9f3a"
             ],
             [
              0.8888888888888888,
              "#fdca26"
             ],
             [
              1,
              "#f0f921"
             ]
            ],
            "type": "contour"
           }
          ],
          "contourcarpet": [
           {
            "colorbar": {
             "outlinewidth": 0,
             "ticks": ""
            },
            "type": "contourcarpet"
           }
          ],
          "heatmap": [
           {
            "colorbar": {
             "outlinewidth": 0,
             "ticks": ""
            },
            "colorscale": [
             [
              0,
              "#0d0887"
             ],
             [
              0.1111111111111111,
              "#46039f"
             ],
             [
              0.2222222222222222,
              "#7201a8"
             ],
             [
              0.3333333333333333,
              "#9c179e"
             ],
             [
              0.4444444444444444,
              "#bd3786"
             ],
             [
              0.5555555555555556,
              "#d8576b"
             ],
             [
              0.6666666666666666,
              "#ed7953"
             ],
             [
              0.7777777777777778,
              "#fb9f3a"
             ],
             [
              0.8888888888888888,
              "#fdca26"
             ],
             [
              1,
              "#f0f921"
             ]
            ],
            "type": "heatmap"
           }
          ],
          "histogram": [
           {
            "marker": {
             "pattern": {
              "fillmode": "overlay",
              "size": 10,
              "solidity": 0.2
             }
            },
            "type": "histogram"
           }
          ],
          "histogram2d": [
           {
            "colorbar": {
             "outlinewidth": 0,
             "ticks": ""
            },
            "colorscale": [
             [
              0,
              "#0d0887"
             ],
             [
              0.1111111111111111,
              "#46039f"
             ],
             [
              0.2222222222222222,
              "#7201a8"
             ],
             [
              0.3333333333333333,
              "#9c179e"
             ],
             [
              0.4444444444444444,
              "#bd3786"
             ],
             [
              0.5555555555555556,
              "#d8576b"
             ],
             [
              0.6666666666666666,
              "#ed7953"
             ],
             [
              0.7777777777777778,
              "#fb9f3a"
             ],
             [
              0.8888888888888888,
              "#fdca26"
             ],
             [
              1,
              "#f0f921"
             ]
            ],
            "type": "histogram2d"
           }
          ],
          "histogram2dcontour": [
           {
            "colorbar": {
             "outlinewidth": 0,
             "ticks": ""
            },
            "colorscale": [
             [
              0,
              "#0d0887"
             ],
             [
              0.1111111111111111,
              "#46039f"
             ],
             [
              0.2222222222222222,
              "#7201a8"
             ],
             [
              0.3333333333333333,
              "#9c179e"
             ],
             [
              0.4444444444444444,
              "#bd3786"
             ],
             [
              0.5555555555555556,
              "#d8576b"
             ],
             [
              0.6666666666666666,
              "#ed7953"
             ],
             [
              0.7777777777777778,
              "#fb9f3a"
             ],
             [
              0.8888888888888888,
              "#fdca26"
             ],
             [
              1,
              "#f0f921"
             ]
            ],
            "type": "histogram2dcontour"
           }
          ],
          "mesh3d": [
           {
            "colorbar": {
             "outlinewidth": 0,
             "ticks": ""
            },
            "type": "mesh3d"
           }
          ],
          "parcoords": [
           {
            "line": {
             "colorbar": {
              "outlinewidth": 0,
              "ticks": ""
             }
            },
            "type": "parcoords"
           }
          ],
          "pie": [
           {
            "automargin": true,
            "type": "pie"
           }
          ],
          "scatter": [
           {
            "fillpattern": {
             "fillmode": "overlay",
             "size": 10,
             "solidity": 0.2
            },
            "type": "scatter"
           }
          ],
          "scatter3d": [
           {
            "line": {
             "colorbar": {
              "outlinewidth": 0,
              "ticks": ""
             }
            },
            "marker": {
             "colorbar": {
              "outlinewidth": 0,
              "ticks": ""
             }
            },
            "type": "scatter3d"
           }
          ],
          "scattercarpet": [
           {
            "marker": {
             "colorbar": {
              "outlinewidth": 0,
              "ticks": ""
             }
            },
            "type": "scattercarpet"
           }
          ],
          "scattergeo": [
           {
            "marker": {
             "colorbar": {
              "outlinewidth": 0,
              "ticks": ""
             }
            },
            "type": "scattergeo"
           }
          ],
          "scattergl": [
           {
            "marker": {
             "colorbar": {
              "outlinewidth": 0,
              "ticks": ""
             }
            },
            "type": "scattergl"
           }
          ],
          "scattermap": [
           {
            "marker": {
             "colorbar": {
              "outlinewidth": 0,
              "ticks": ""
             }
            },
            "type": "scattermap"
           }
          ],
          "scattermapbox": [
           {
            "marker": {
             "colorbar": {
              "outlinewidth": 0,
              "ticks": ""
             }
            },
            "type": "scattermapbox"
           }
          ],
          "scatterpolar": [
           {
            "marker": {
             "colorbar": {
              "outlinewidth": 0,
              "ticks": ""
             }
            },
            "type": "scatterpolar"
           }
          ],
          "scatterpolargl": [
           {
            "marker": {
             "colorbar": {
              "outlinewidth": 0,
              "ticks": ""
             }
            },
            "type": "scatterpolargl"
           }
          ],
          "scatterternary": [
           {
            "marker": {
             "colorbar": {
              "outlinewidth": 0,
              "ticks": ""
             }
            },
            "type": "scatterternary"
           }
          ],
          "surface": [
           {
            "colorbar": {
             "outlinewidth": 0,
             "ticks": ""
            },
            "colorscale": [
             [
              0,
              "#0d0887"
             ],
             [
              0.1111111111111111,
              "#46039f"
             ],
             [
              0.2222222222222222,
              "#7201a8"
             ],
             [
              0.3333333333333333,
              "#9c179e"
             ],
             [
              0.4444444444444444,
              "#bd3786"
             ],
             [
              0.5555555555555556,
              "#d8576b"
             ],
             [
              0.6666666666666666,
              "#ed7953"
             ],
             [
              0.7777777777777778,
              "#fb9f3a"
             ],
             [
              0.8888888888888888,
              "#fdca26"
             ],
             [
              1,
              "#f0f921"
             ]
            ],
            "type": "surface"
           }
          ],
          "table": [
           {
            "cells": {
             "fill": {
              "color": "#EBF0F8"
             },
             "line": {
              "color": "white"
             }
            },
            "header": {
             "fill": {
              "color": "#C8D4E3"
             },
             "line": {
              "color": "white"
             }
            },
            "type": "table"
           }
          ]
         },
         "layout": {
          "annotationdefaults": {
           "arrowcolor": "#2a3f5f",
           "arrowhead": 0,
           "arrowwidth": 1
          },
          "autotypenumbers": "strict",
          "coloraxis": {
           "colorbar": {
            "outlinewidth": 0,
            "ticks": ""
           }
          },
          "colorscale": {
           "diverging": [
            [
             0,
             "#8e0152"
            ],
            [
             0.1,
             "#c51b7d"
            ],
            [
             0.2,
             "#de77ae"
            ],
            [
             0.3,
             "#f1b6da"
            ],
            [
             0.4,
             "#fde0ef"
            ],
            [
             0.5,
             "#f7f7f7"
            ],
            [
             0.6,
             "#e6f5d0"
            ],
            [
             0.7,
             "#b8e186"
            ],
            [
             0.8,
             "#7fbc41"
            ],
            [
             0.9,
             "#4d9221"
            ],
            [
             1,
             "#276419"
            ]
           ],
           "sequential": [
            [
             0,
             "#0d0887"
            ],
            [
             0.1111111111111111,
             "#46039f"
            ],
            [
             0.2222222222222222,
             "#7201a8"
            ],
            [
             0.3333333333333333,
             "#9c179e"
            ],
            [
             0.4444444444444444,
             "#bd3786"
            ],
            [
             0.5555555555555556,
             "#d8576b"
            ],
            [
             0.6666666666666666,
             "#ed7953"
            ],
            [
             0.7777777777777778,
             "#fb9f3a"
            ],
            [
             0.8888888888888888,
             "#fdca26"
            ],
            [
             1,
             "#f0f921"
            ]
           ],
           "sequentialminus": [
            [
             0,
             "#0d0887"
            ],
            [
             0.1111111111111111,
             "#46039f"
            ],
            [
             0.2222222222222222,
             "#7201a8"
            ],
            [
             0.3333333333333333,
             "#9c179e"
            ],
            [
             0.4444444444444444,
             "#bd3786"
            ],
            [
             0.5555555555555556,
             "#d8576b"
            ],
            [
             0.6666666666666666,
             "#ed7953"
            ],
            [
             0.7777777777777778,
             "#fb9f3a"
            ],
            [
             0.8888888888888888,
             "#fdca26"
            ],
            [
             1,
             "#f0f921"
            ]
           ]
          },
          "colorway": [
           "#636efa",
           "#EF553B",
           "#00cc96",
           "#ab63fa",
           "#FFA15A",
           "#19d3f3",
           "#FF6692",
           "#B6E880",
           "#FF97FF",
           "#FECB52"
          ],
          "font": {
           "color": "#2a3f5f"
          },
          "geo": {
           "bgcolor": "white",
           "lakecolor": "white",
           "landcolor": "#E5ECF6",
           "showlakes": true,
           "showland": true,
           "subunitcolor": "white"
          },
          "hoverlabel": {
           "align": "left"
          },
          "hovermode": "closest",
          "mapbox": {
           "style": "light"
          },
          "paper_bgcolor": "white",
          "plot_bgcolor": "#E5ECF6",
          "polar": {
           "angularaxis": {
            "gridcolor": "white",
            "linecolor": "white",
            "ticks": ""
           },
           "bgcolor": "#E5ECF6",
           "radialaxis": {
            "gridcolor": "white",
            "linecolor": "white",
            "ticks": ""
           }
          },
          "scene": {
           "xaxis": {
            "backgroundcolor": "#E5ECF6",
            "gridcolor": "white",
            "gridwidth": 2,
            "linecolor": "white",
            "showbackground": true,
            "ticks": "",
            "zerolinecolor": "white"
           },
           "yaxis": {
            "backgroundcolor": "#E5ECF6",
            "gridcolor": "white",
            "gridwidth": 2,
            "linecolor": "white",
            "showbackground": true,
            "ticks": "",
            "zerolinecolor": "white"
           },
           "zaxis": {
            "backgroundcolor": "#E5ECF6",
            "gridcolor": "white",
            "gridwidth": 2,
            "linecolor": "white",
            "showbackground": true,
            "ticks": "",
            "zerolinecolor": "white"
           }
          },
          "shapedefaults": {
           "line": {
            "color": "#2a3f5f"
           }
          },
          "ternary": {
           "aaxis": {
            "gridcolor": "white",
            "linecolor": "white",
            "ticks": ""
           },
           "baxis": {
            "gridcolor": "white",
            "linecolor": "white",
            "ticks": ""
           },
           "bgcolor": "#E5ECF6",
           "caxis": {
            "gridcolor": "white",
            "linecolor": "white",
            "ticks": ""
           }
          },
          "title": {
           "x": 0.05
          },
          "xaxis": {
           "automargin": true,
           "gridcolor": "white",
           "linecolor": "white",
           "ticks": "",
           "title": {
            "standoff": 15
           },
           "zerolinecolor": "white",
           "zerolinewidth": 2
          },
          "yaxis": {
           "automargin": true,
           "gridcolor": "white",
           "linecolor": "white",
           "ticks": "",
           "title": {
            "standoff": 15
           },
           "zerolinecolor": "white",
           "zerolinewidth": 2
          }
         }
        },
        "title": {
         "text": "x5 vs Y (with model prediction)"
        },
        "xaxis": {
         "title": {
          "text": "X6"
         }
        },
        "yaxis": {
         "title": {
          "text": "Y"
         }
        }
       }
      }
     },
     "metadata": {},
     "output_type": "display_data"
    },
    {
     "data": {
      "application/vnd.plotly.v1+json": {
       "config": {
        "plotlyServerURL": "https://plot.ly"
       },
       "data": [
        {
         "marker": {
          "color": "rgba(99, 110, 250, 0.7)",
          "line": {
           "color": "DarkSlateGrey",
           "width": 1
          }
         },
         "mode": "markers",
         "name": "Residuals",
         "type": "scatter",
         "x": {
          "bdata": "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",
          "dtype": "f4"
         },
         "y": {
          "bdata": "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",
          "dtype": "f4"
         }
        },
        {
         "line": {
          "color": "red",
          "dash": "dash"
         },
         "mode": "lines",
         "name": "Zero Residual Line",
         "type": "scatter",
         "x": [
          -0.29893922805786133,
          39.6463737487793
         ],
         "y": [
          0,
          0
         ]
        }
       ],
       "layout": {
        "showlegend": true,
        "template": {
         "data": {
          "bar": [
           {
            "error_x": {
             "color": "#2a3f5f"
            },
            "error_y": {
             "color": "#2a3f5f"
            },
            "marker": {
             "line": {
              "color": "#E5ECF6",
              "width": 0.5
             },
             "pattern": {
              "fillmode": "overlay",
              "size": 10,
              "solidity": 0.2
             }
            },
            "type": "bar"
           }
          ],
          "barpolar": [
           {
            "marker": {
             "line": {
              "color": "#E5ECF6",
              "width": 0.5
             },
             "pattern": {
              "fillmode": "overlay",
              "size": 10,
              "solidity": 0.2
             }
            },
            "type": "barpolar"
           }
          ],
          "carpet": [
           {
            "aaxis": {
             "endlinecolor": "#2a3f5f",
             "gridcolor": "white",
             "linecolor": "white",
             "minorgridcolor": "white",
             "startlinecolor": "#2a3f5f"
            },
            "baxis": {
             "endlinecolor": "#2a3f5f",
             "gridcolor": "white",
             "linecolor": "white",
             "minorgridcolor": "white",
             "startlinecolor": "#2a3f5f"
            },
            "type": "carpet"
           }
          ],
          "choropleth": [
           {
            "colorbar": {
             "outlinewidth": 0,
             "ticks": ""
            },
            "type": "choropleth"
           }
          ],
          "contour": [
           {
            "colorbar": {
             "outlinewidth": 0,
             "ticks": ""
            },
            "colorscale": [
             [
              0,
              "#0d0887"
             ],
             [
              0.1111111111111111,
              "#46039f"
             ],
             [
              0.2222222222222222,
              "#7201a8"
             ],
             [
              0.3333333333333333,
              "#9c179e"
             ],
             [
              0.4444444444444444,
              "#bd3786"
             ],
             [
              0.5555555555555556,
              "#d8576b"
             ],
             [
              0.6666666666666666,
              "#ed7953"
             ],
             [
              0.7777777777777778,
              "#fb9f3a"
             ],
             [
              0.8888888888888888,
              "#fdca26"
             ],
             [
              1,
              "#f0f921"
             ]
            ],
            "type": "contour"
           }
          ],
          "contourcarpet": [
           {
            "colorbar": {
             "outlinewidth": 0,
             "ticks": ""
            },
            "type": "contourcarpet"
           }
          ],
          "heatmap": [
           {
            "colorbar": {
             "outlinewidth": 0,
             "ticks": ""
            },
            "colorscale": [
             [
              0,
              "#0d0887"
             ],
             [
              0.1111111111111111,
              "#46039f"
             ],
             [
              0.2222222222222222,
              "#7201a8"
             ],
             [
              0.3333333333333333,
              "#9c179e"
             ],
             [
              0.4444444444444444,
              "#bd3786"
             ],
             [
              0.5555555555555556,
              "#d8576b"
             ],
             [
              0.6666666666666666,
              "#ed7953"
             ],
             [
              0.7777777777777778,
              "#fb9f3a"
             ],
             [
              0.8888888888888888,
              "#fdca26"
             ],
             [
              1,
              "#f0f921"
             ]
            ],
            "type": "heatmap"
           }
          ],
          "histogram": [
           {
            "marker": {
             "pattern": {
              "fillmode": "overlay",
              "size": 10,
              "solidity": 0.2
             }
            },
            "type": "histogram"
           }
          ],
          "histogram2d": [
           {
            "colorbar": {
             "outlinewidth": 0,
             "ticks": ""
            },
            "colorscale": [
             [
              0,
              "#0d0887"
             ],
             [
              0.1111111111111111,
              "#46039f"
             ],
             [
              0.2222222222222222,
              "#7201a8"
             ],
             [
              0.3333333333333333,
              "#9c179e"
             ],
             [
              0.4444444444444444,
              "#bd3786"
             ],
             [
              0.5555555555555556,
              "#d8576b"
             ],
             [
              0.6666666666666666,
              "#ed7953"
             ],
             [
              0.7777777777777778,
              "#fb9f3a"
             ],
             [
              0.8888888888888888,
              "#fdca26"
             ],
             [
              1,
              "#f0f921"
             ]
            ],
            "type": "histogram2d"
           }
          ],
          "histogram2dcontour": [
           {
            "colorbar": {
             "outlinewidth": 0,
             "ticks": ""
            },
            "colorscale": [
             [
              0,
              "#0d0887"
             ],
             [
              0.1111111111111111,
              "#46039f"
             ],
             [
              0.2222222222222222,
              "#7201a8"
             ],
             [
              0.3333333333333333,
              "#9c179e"
             ],
             [
              0.4444444444444444,
              "#bd3786"
             ],
             [
              0.5555555555555556,
              "#d8576b"
             ],
             [
              0.6666666666666666,
              "#ed7953"
             ],
             [
              0.7777777777777778,
              "#fb9f3a"
             ],
             [
              0.8888888888888888,
              "#fdca26"
             ],
             [
              1,
              "#f0f921"
             ]
            ],
            "type": "histogram2dcontour"
           }
          ],
          "mesh3d": [
           {
            "colorbar": {
             "outlinewidth": 0,
             "ticks": ""
            },
            "type": "mesh3d"
           }
          ],
          "parcoords": [
           {
            "line": {
             "colorbar": {
              "outlinewidth": 0,
              "ticks": ""
             }
            },
            "type": "parcoords"
           }
          ],
          "pie": [
           {
            "automargin": true,
            "type": "pie"
           }
          ],
          "scatter": [
           {
            "fillpattern": {
             "fillmode": "overlay",
             "size": 10,
             "solidity": 0.2
            },
            "type": "scatter"
           }
          ],
          "scatter3d": [
           {
            "line": {
             "colorbar": {
              "outlinewidth": 0,
              "ticks": ""
             }
            },
            "marker": {
             "colorbar": {
              "outlinewidth": 0,
              "ticks": ""
             }
            },
            "type": "scatter3d"
           }
          ],
          "scattercarpet": [
           {
            "marker": {
             "colorbar": {
              "outlinewidth": 0,
              "ticks": ""
             }
            },
            "type": "scattercarpet"
           }
          ],
          "scattergeo": [
           {
            "marker": {
             "colorbar": {
              "outlinewidth": 0,
              "ticks": ""
             }
            },
            "type": "scattergeo"
           }
          ],
          "scattergl": [
           {
            "marker": {
             "colorbar": {
              "outlinewidth": 0,
              "ticks": ""
             }
            },
            "type": "scattergl"
           }
          ],
          "scattermap": [
           {
            "marker": {
             "colorbar": {
              "outlinewidth": 0,
              "ticks": ""
             }
            },
            "type": "scattermap"
           }
          ],
          "scattermapbox": [
           {
            "marker": {
             "colorbar": {
              "outlinewidth": 0,
              "ticks": ""
             }
            },
            "type": "scattermapbox"
           }
          ],
          "scatterpolar": [
           {
            "marker": {
             "colorbar": {
              "outlinewidth": 0,
              "ticks": ""
             }
            },
            "type": "scatterpolar"
           }
          ],
          "scatterpolargl": [
           {
            "marker": {
             "colorbar": {
              "outlinewidth": 0,
              "ticks": ""
             }
            },
            "type": "scatterpolargl"
           }
          ],
          "scatterternary": [
           {
            "marker": {
             "colorbar": {
              "outlinewidth": 0,
              "ticks": ""
             }
            },
            "type": "scatterternary"
           }
          ],
          "surface": [
           {
            "colorbar": {
             "outlinewidth": 0,
             "ticks": ""
            },
            "colorscale": [
             [
              0,
              "#0d0887"
             ],
             [
              0.1111111111111111,
              "#46039f"
             ],
             [
              0.2222222222222222,
              "#7201a8"
             ],
             [
              0.3333333333333333,
              "#9c179e"
             ],
             [
              0.4444444444444444,
              "#bd3786"
             ],
             [
              0.5555555555555556,
              "#d8576b"
             ],
             [
              0.6666666666666666,
              "#ed7953"
             ],
             [
              0.7777777777777778,
              "#fb9f3a"
             ],
             [
              0.8888888888888888,
              "#fdca26"
             ],
             [
              1,
              "#f0f921"
             ]
            ],
            "type": "surface"
           }
          ],
          "table": [
           {
            "cells": {
             "fill": {
              "color": "#EBF0F8"
             },
             "line": {
              "color": "white"
             }
            },
            "header": {
             "fill": {
              "color": "#C8D4E3"
             },
             "line": {
              "color": "white"
             }
            },
            "type": "table"
           }
          ]
         },
         "layout": {
          "annotationdefaults": {
           "arrowcolor": "#2a3f5f",
           "arrowhead": 0,
           "arrowwidth": 1
          },
          "autotypenumbers": "strict",
          "coloraxis": {
           "colorbar": {
            "outlinewidth": 0,
            "ticks": ""
           }
          },
          "colorscale": {
           "diverging": [
            [
             0,
             "#8e0152"
            ],
            [
             0.1,
             "#c51b7d"
            ],
            [
             0.2,
             "#de77ae"
            ],
            [
             0.3,
             "#f1b6da"
            ],
            [
             0.4,
             "#fde0ef"
            ],
            [
             0.5,
             "#f7f7f7"
            ],
            [
             0.6,
             "#e6f5d0"
            ],
            [
             0.7,
             "#b8e186"
            ],
            [
             0.8,
             "#7fbc41"
            ],
            [
             0.9,
             "#4d9221"
            ],
            [
             1,
             "#276419"
            ]
           ],
           "sequential": [
            [
             0,
             "#0d0887"
            ],
            [
             0.1111111111111111,
             "#46039f"
            ],
            [
             0.2222222222222222,
             "#7201a8"
            ],
            [
             0.3333333333333333,
             "#9c179e"
            ],
            [
             0.4444444444444444,
             "#bd3786"
            ],
            [
             0.5555555555555556,
             "#d8576b"
            ],
            [
             0.6666666666666666,
             "#ed7953"
            ],
            [
             0.7777777777777778,
             "#fb9f3a"
            ],
            [
             0.8888888888888888,
             "#fdca26"
            ],
            [
             1,
             "#f0f921"
            ]
           ],
           "sequentialminus": [
            [
             0,
             "#0d0887"
            ],
            [
             0.1111111111111111,
             "#46039f"
            ],
            [
             0.2222222222222222,
             "#7201a8"
            ],
            [
             0.3333333333333333,
             "#9c179e"
            ],
            [
             0.4444444444444444,
             "#bd3786"
            ],
            [
             0.5555555555555556,
             "#d8576b"
            ],
            [
             0.6666666666666666,
             "#ed7953"
            ],
            [
             0.7777777777777778,
             "#fb9f3a"
            ],
            [
             0.8888888888888888,
             "#fdca26"
            ],
            [
             1,
             "#f0f921"
            ]
           ]
          },
          "colorway": [
           "#636efa",
           "#EF553B",
           "#00cc96",
           "#ab63fa",
           "#FFA15A",
           "#19d3f3",
           "#FF6692",
           "#B6E880",
           "#FF97FF",
           "#FECB52"
          ],
          "font": {
           "color": "#2a3f5f"
          },
          "geo": {
           "bgcolor": "white",
           "lakecolor": "white",
           "landcolor": "#E5ECF6",
           "showlakes": true,
           "showland": true,
           "subunitcolor": "white"
          },
          "hoverlabel": {
           "align": "left"
          },
          "hovermode": "closest",
          "mapbox": {
           "style": "light"
          },
          "paper_bgcolor": "white",
          "plot_bgcolor": "#E5ECF6",
          "polar": {
           "angularaxis": {
            "gridcolor": "white",
            "linecolor": "white",
            "ticks": ""
           },
           "bgcolor": "#E5ECF6",
           "radialaxis": {
            "gridcolor": "white",
            "linecolor": "white",
            "ticks": ""
           }
          },
          "scene": {
           "xaxis": {
            "backgroundcolor": "#E5ECF6",
            "gridcolor": "white",
            "gridwidth": 2,
            "linecolor": "white",
            "showbackground": true,
            "ticks": "",
            "zerolinecolor": "white"
           },
           "yaxis": {
            "backgroundcolor": "#E5ECF6",
            "gridcolor": "white",
            "gridwidth": 2,
            "linecolor": "white",
            "showbackground": true,
            "ticks": "",
            "zerolinecolor": "white"
           },
           "zaxis": {
            "backgroundcolor": "#E5ECF6",
            "gridcolor": "white",
            "gridwidth": 2,
            "linecolor": "white",
            "showbackground": true,
            "ticks": "",
            "zerolinecolor": "white"
           }
          },
          "shapedefaults": {
           "line": {
            "color": "#2a3f5f"
           }
          },
          "ternary": {
           "aaxis": {
            "gridcolor": "white",
            "linecolor": "white",
            "ticks": ""
           },
           "baxis": {
            "gridcolor": "white",
            "linecolor": "white",
            "ticks": ""
           },
           "bgcolor": "#E5ECF6",
           "caxis": {
            "gridcolor": "white",
            "linecolor": "white",
            "ticks": ""
           }
          },
          "title": {
           "x": 0.05
          },
          "xaxis": {
           "automargin": true,
           "gridcolor": "white",
           "linecolor": "white",
           "ticks": "",
           "title": {
            "standoff": 15
           },
           "zerolinecolor": "white",
           "zerolinewidth": 2
          },
          "yaxis": {
           "automargin": true,
           "gridcolor": "white",
           "linecolor": "white",
           "ticks": "",
           "title": {
            "standoff": 15
           },
           "zerolinecolor": "white",
           "zerolinewidth": 2
          }
         }
        },
        "title": {
         "text": "Residuals vs Fitted Values"
        },
        "xaxis": {
         "title": {
          "text": "Fitted Values"
         }
        },
        "yaxis": {
         "title": {
          "text": "Residuals"
         }
        }
       }
      }
     },
     "metadata": {},
     "output_type": "display_data"
    }
   ],
   "source": [
    "elastic.do_all(X, Y)"
   ]
  },
  {
   "cell_type": "code",
   "execution_count": 7,
   "id": "8439a82c",
   "metadata": {},
   "outputs": [],
   "source": [
    "classes = [\"A\", \"B\", \"C\"]\n",
    "\n",
    "random_classes = np.random.choice(classes, size=n_samples)\n",
    "\n",
    "\n",
    "class_to_int = {label: idx for idx, label in enumerate(classes)}\n",
    "random_classes_int = np.vectorize(class_to_int.get)(random_classes)\n"
   ]
  },
  {
   "cell_type": "code",
   "execution_count": 8,
   "id": "7469eeb0",
   "metadata": {},
   "outputs": [],
   "source": [
    "X = np.random.normal(2, 2, n_samples)\n",
    "Z = np.random.normal(9, 1, n_samples) \n",
    "P = np.random.beta(1, 2, n_samples)\n",
    "\n",
    "\n",
    "X= np.column_stack((X,X**2, Z + X, X * P, P))\n",
    "\n",
    "Y = random_classes_int"
   ]
  },
  {
   "cell_type": "code",
   "execution_count": 9,
   "id": "8a0ce156",
   "metadata": {},
   "outputs": [
    {
     "ename": "ValueError",
     "evalue": "zero-size array to reduction operation maximum which has no identity",
     "output_type": "error",
     "traceback": [
      "\u001b[31m---------------------------------------------------------------------------\u001b[39m",
      "\u001b[31mValueError\u001b[39m                                Traceback (most recent call last)",
      "\u001b[36mCell\u001b[39m\u001b[36m \u001b[39m\u001b[32mIn[9]\u001b[39m\u001b[32m, line 3\u001b[39m\n\u001b[32m      1\u001b[39m \u001b[38;5;28;01mfrom\u001b[39;00m\u001b[38;5;250m \u001b[39m\u001b[34;01mmodels\u001b[39;00m\u001b[34;01m.\u001b[39;00m\u001b[34;01mlogistic\u001b[39;00m\u001b[38;5;250m \u001b[39m\u001b[38;5;28;01mimport\u001b[39;00m LogisticRegression\n\u001b[32m      2\u001b[39m log = LogisticRegression(random_classes_int.shape[\u001b[32m0\u001b[39m], random_classes_int[\u001b[32m1\u001b[39m])\n\u001b[32m----> \u001b[39m\u001b[32m3\u001b[39m log.softmax(X)\n",
      "\u001b[36mFile \u001b[39m\u001b[32mc:\\Users\\kawam\\OneDrive\\Pulpit\\repo\\Linear Regression\\models\\logistic.py:17\u001b[39m, in \u001b[36mLogisticRegression.softmax\u001b[39m\u001b[34m(self, x)\u001b[39m\n\u001b[32m     14\u001b[39m \u001b[38;5;28;01mdef\u001b[39;00m\u001b[38;5;250m \u001b[39m\u001b[34msoftmax\u001b[39m(\u001b[38;5;28mself\u001b[39m, x: NDArray):\n\u001b[32m     16\u001b[39m     scores = np.array([\u001b[38;5;28mself\u001b[39m.score_function(x, k) \u001b[38;5;28;01mfor\u001b[39;00m k \u001b[38;5;129;01min\u001b[39;00m \u001b[38;5;28mrange\u001b[39m(\u001b[38;5;28mself\u001b[39m.theta.shape[\u001b[32m1\u001b[39m])])\n\u001b[32m---> \u001b[39m\u001b[32m17\u001b[39m     exp_scores = np.exp(scores - np.max(scores)) \n\u001b[32m     18\u001b[39m     probs = exp_scores / np.sum(exp_scores)\n\u001b[32m     20\u001b[39m     \u001b[38;5;28;01mreturn\u001b[39;00m probs\n",
      "\u001b[36mFile \u001b[39m\u001b[32mc:\\Users\\kawam\\anaconda3\\envs\\app\\Lib\\site-packages\\numpy\\_core\\fromnumeric.py:3164\u001b[39m, in \u001b[36mmax\u001b[39m\u001b[34m(a, axis, out, keepdims, initial, where)\u001b[39m\n\u001b[32m   3052\u001b[39m \u001b[38;5;129m@array_function_dispatch\u001b[39m(_max_dispatcher)\n\u001b[32m   3053\u001b[39m \u001b[38;5;129m@set_module\u001b[39m(\u001b[33m'\u001b[39m\u001b[33mnumpy\u001b[39m\u001b[33m'\u001b[39m)\n\u001b[32m   3054\u001b[39m \u001b[38;5;28;01mdef\u001b[39;00m\u001b[38;5;250m \u001b[39m\u001b[34mmax\u001b[39m(a, axis=\u001b[38;5;28;01mNone\u001b[39;00m, out=\u001b[38;5;28;01mNone\u001b[39;00m, keepdims=np._NoValue, initial=np._NoValue,\n\u001b[32m   3055\u001b[39m          where=np._NoValue):\n\u001b[32m   3056\u001b[39m \u001b[38;5;250m    \u001b[39m\u001b[33;03m\"\"\"\u001b[39;00m\n\u001b[32m   3057\u001b[39m \u001b[33;03m    Return the maximum of an array or maximum along an axis.\u001b[39;00m\n\u001b[32m   3058\u001b[39m \n\u001b[32m   (...)\u001b[39m\u001b[32m   3162\u001b[39m \u001b[33;03m    5\u001b[39;00m\n\u001b[32m   3163\u001b[39m \u001b[33;03m    \"\"\"\u001b[39;00m\n\u001b[32m-> \u001b[39m\u001b[32m3164\u001b[39m     \u001b[38;5;28;01mreturn\u001b[39;00m _wrapreduction(a, np.maximum, \u001b[33m'\u001b[39m\u001b[33mmax\u001b[39m\u001b[33m'\u001b[39m, axis, \u001b[38;5;28;01mNone\u001b[39;00m, out,\n\u001b[32m   3165\u001b[39m                           keepdims=keepdims, initial=initial, where=where)\n",
      "\u001b[36mFile \u001b[39m\u001b[32mc:\\Users\\kawam\\anaconda3\\envs\\app\\Lib\\site-packages\\numpy\\_core\\fromnumeric.py:86\u001b[39m, in \u001b[36m_wrapreduction\u001b[39m\u001b[34m(obj, ufunc, method, axis, dtype, out, **kwargs)\u001b[39m\n\u001b[32m     83\u001b[39m         \u001b[38;5;28;01melse\u001b[39;00m:\n\u001b[32m     84\u001b[39m             \u001b[38;5;28;01mreturn\u001b[39;00m reduction(axis=axis, out=out, **passkwargs)\n\u001b[32m---> \u001b[39m\u001b[32m86\u001b[39m \u001b[38;5;28;01mreturn\u001b[39;00m ufunc.reduce(obj, axis, dtype, out, **passkwargs)\n",
      "\u001b[31mValueError\u001b[39m: zero-size array to reduction operation maximum which has no identity"
     ]
    }
   ],
   "source": [
    "from models.logistic import LogisticRegression\n",
    "log = LogisticRegression(random_classes_int.shape[0], random_classes_int[1])\n",
    "log.softmax(X)"
   ]
  }
 ],
 "metadata": {
  "kernelspec": {
   "display_name": "app",
   "language": "python",
   "name": "python3"
  },
  "language_info": {
   "codemirror_mode": {
    "name": "ipython",
    "version": 3
   },
   "file_extension": ".py",
   "mimetype": "text/x-python",
   "name": "python",
   "nbconvert_exporter": "python",
   "pygments_lexer": "ipython3",
   "version": "3.13.4"
  }
 },
 "nbformat": 4,
 "nbformat_minor": 5
}
